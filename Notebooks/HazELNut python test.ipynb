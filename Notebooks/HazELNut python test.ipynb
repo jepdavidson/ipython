{
 "metadata": {
  "name": "",
  "signature": "sha256:49a77df6c29f0cde85220c9f2444d28ce5dd02a6586f84ad7ed7021ad4bee086"
 },
 "nbformat": 3,
 "nbformat_minor": 0,
 "worksheets": [
  {
   "cells": [
    {
     "cell_type": "heading",
     "level": 1,
     "metadata": {},
     "source": [
      "Test of HazELNut python bindings"
     ]
    },
    {
     "cell_type": "heading",
     "level": 2,
     "metadata": {},
     "source": [
      "(aka looking at filbert.py)"
     ]
    },
    {
     "cell_type": "markdown",
     "metadata": {},
     "source": [
      "Noel's \"examplyPythonBindings.py\" file (included in HazELNut release) is a very good starting place(!)"
     ]
    },
    {
     "cell_type": "code",
     "collapsed": false,
     "input": [
      "import filbert as fb\n",
      "ff = fb.FileFormat\n",
      "import time"
     ],
     "language": "python",
     "metadata": {},
     "outputs": [],
     "prompt_number": 26
    },
    {
     "cell_type": "code",
     "collapsed": false,
     "input": [
      "testIn = \"C:/Hazelnut/Hazelnut/test/testReactions.smi\"\n",
      "f = open(testIn, 'r')\n",
      "for n, line in enumerate(f.readlines()):\n",
      "    time_start = time.time()\n",
      "    try:\n",
      "        line = line.strip()\n",
      "        line = line.split(\"\\t\")\n",
      "        smiles = line[0]\n",
      "        refClass = line[1]\n",
      "        refName = line[2]\n",
      "    except:\n",
      "        continue\n",
      "    \n",
      "    print \"####  Line %s  ####\" % (n+1,)\n",
      "    print \"IN :  %s\" % (smiles)\n",
      "    print \"  [%s] %s\" % (refClass, refName)\n",
      "    \n",
      "    try:\n",
      "        mended = fb.NMFixReaction(smiles, ff.SMI, ff.RXN)\n",
      "        named = fb.NMNameReaction(mended, ff.RXN)\n",
      "    except:\n",
      "        print \"There was a problem with the input...\" % (line,)\n",
      "    else:\n",
      "        print \"OUT:  %s\" % (fb.NMConvert(mended, ff.RXN, ff.SMI).strip())\n",
      "        print \"  [%s] %s\" % (named.getNumber(), named.getName())\n",
      "        print \"    [%s] %s\" % (named.getClassNumber(), named.getClassName())\n",
      "        print \"$$  %0.2f s\" % ((time.time() - time_start),)\n",
      "    finally:\n",
      "        print \"\\n\"\n",
      "        "
     ],
     "language": "python",
     "metadata": {},
     "outputs": [
      {
       "output_type": "stream",
       "stream": "stdout",
       "text": [
        "####  Line 3  ####\n",
        "IN :  c1ccc(c(c1)C=O)O.C(C(=O)O)Cl>>c1ccc(c(c1)C=O)OCC(=O)O\n",
        "  [1.7.9] Williamson ether synthesis_\n",
        "OUT:  O=Cc1ccccc1O.O=C(O)CCl>>O=Cc1ccccc1OCC(=O)O\n",
        "  [1.7.9] Williamson ether synthesis\n",
        "    [1.7] O-substitution\n",
        "$$  0.01 s\n",
        "\n",
        "\n",
        "####  Line 4  ####\n",
        "IN :  C=Cc1ccccc1.c1ccc(cc1)I>>c1ccc(cc1)C=Cc2ccccc2\n",
        "  [3.2] Heck reaction_\n",
        "OUT:  C=Cc1ccccc1.Ic1ccccc1>>C(=Cc1ccccc1)c1ccccc1\n",
        "  [3.2.7] Iodo Heck-type reaction\n",
        "    [3.2] Heck reaction\n",
        "$$  0.01 s\n",
        "\n",
        "\n",
        "####  Line 5  ####\n",
        "IN :  Cc1ccc(c(c1)NC(=O)CC(=O)C)C>OS(=O)(=O)O>Cc1ccc(c2c1c(cc(n2)O)C)C\n",
        "  [4.1.8] Knorr quinoline cyclization_\n",
        "OUT:  CC(=O)CC(=O)Nc1cc(C)ccc1C>O=S(=O)(O)O>Cc1ccc(C)c2c(C)cc(O)nc12"
       ]
      },
      {
       "output_type": "stream",
       "stream": "stdout",
       "text": [
        "\n",
        "  [4.1.9] Knorr quinoline cyclization\n",
        "    [4.1] N-containing heterocycle formation\n",
        "$$  0.03 s\n",
        "\n",
        "\n",
        "####  Line 6  ####\n",
        "IN :  CCOC(=O)C.CCOC(=O)CC(=O)C(F)(F)F.CC(C)C[C@@H]1COc2cc(ccc2N1CC(F)(F)F)N>Cc1ccccc1>CC(C)C[C@@H]1COc2cc3c(cc2N1CC(F)(F)F)c(cc(=O)[nH]3)C(F)(F)F\n",
        "  [4.1.9] Knorr quinoline synthesis_\n",
        "OUT:  CCOC(C)=O.CCOC(=O)CC(=O)C(F)(F)F.CC(C)CC1COc2cc(N)ccc2N1CC(F)(F)F>Cc1ccccc1>CC(C)CC1COc2cc3[nH]c(=O)cc(C(F)(F)F)c3cc2N1CC(F)(F)F"
       ]
      },
      {
       "output_type": "stream",
       "stream": "stdout",
       "text": [
        "\n",
        "  [4.1.10] Knorr quinoline synthesis\n",
        "    [4.1] N-containing heterocycle formation\n",
        "$$  0.14 s\n",
        "\n",
        "\n",
        "####  Line 7  ####\n",
        "IN :  C=[N+]=[N-].C#C>>c1c[nH]nc1\n",
        "  [4.1.14] Pechmann pyrazole synthesis_\n",
        "OUT:  C#C.C=[N+]=[N-]>>c1cn[nH]c1\n",
        "  [4.1.15] Pechmann pyrazole synthesis\n",
        "    [4.1] N-containing heterocycle formation\n",
        "$$  0.00 s\n",
        "\n",
        "\n",
        "####  Line 10  ####\n",
        "IN :  B(c1ccsc1)(O)O.CCN(CC)CC.c1ccc2c(c1)C(=O)C(=O)N2>CC(=O)[O-].CC(=O)[O-].C(Cl)Cl.[Cu+2]>c1ccc2c(c1)C(=O)C(=O)N2c3ccsc3\n",
        "  [1.1.1] Chan-Lam alkylamine coupling\n",
        "OUT:  CCN(CC)CC.O=C1Nc2ccccc2C1=O.OB(O)c1ccsc1>[Cu+2].CC(=O)[O-].CC(=O)[O-].ClCCl>O=C1C(=O)N(c2ccsc2)c2ccccc21"
       ]
      },
      {
       "output_type": "stream",
       "stream": "stdout",
       "text": [
        "\n",
        "  [1.3.5] Chan-Lam arylamine coupling\n",
        "    [1.3] N-arylation with Ar-X\n",
        "$$  0.11 s\n",
        "\n",
        "\n",
        "####  Line 11  ####\n",
        "IN :  CC(c1cccnc1)(C2CCCC2)C(=O)OC3CCN(CC3)C.CI.C(Cl)Cl>CC#N>CC(c1cccnc1)(C2CCCC2)C(=O)OC3CC[N+](CC3)(C)C.[I-]\n",
        "  [1.1.2] Menshutkin reaction\n",
        "OUT:  CI.CN1CCC(OC(=O)C(C)(c2cccnc2)C2CCCC2)CC1.ClCCl>CC#N>[I-].CC(C(=O)OC1CC[N+](C)(C)CC1)(c1cccnc1)C1CCCC1\n",
        "  [1.1.2] Menshutkin reaction\n",
        "    [1.1] N-substitution with alkyl-X\n",
        "$$  0.03 s\n",
        "\n",
        "\n",
        "####  Line 12  ####\n",
        "IN :  CC(C)(C=O)C(=O)OC.c1cc2c(c(c1)OCC3CCC3)c(no2)OCC4CCNCC4>>CC(C)(CN1CCC(CC1)COc2c3c(cccc3OCC4CCC4)on2)C(=O)OC\n",
        "  [1.2.1] Aldehyde reductive amination\n",
        "OUT:  COC(=O)C(C)(C)C=O.c1cc2onc(OCC3CCNCC3)c2c(OCC2CCC2)c1>>COC(=O)C(C)(C)CN1CCC(COc2noc3cccc(OCC4CCC4)c32)CC1\n",
        "  [1.2.1] Aldehyde reductive amination\n",
        "    [1.2] Reductive amination\n",
        "$$  0.02 s\n",
        "\n",
        "\n",
        "####  Line 13  ####\n",
        "IN :  CC(C)(C)CCN.CC(C)(C)OC(=O)N1CCC(CC1)c2ccccc2C=O>Cc1ccccc1>CC(C)(C)CC/N=C/c1ccccc1C2CCN(CC2)C(=O)OC(C)(C)C\n",
        "  [1.2.2] Aldehyde reductive imination\n",
        "OUT:  CC(C)(C)CCN.CC(C)(C)OC(=O)N1CCC(c2ccccc2C=O)CC1>Cc1ccccc1>CC(C)(C)CCN=Cc1ccccc1C1CCN(C(=O)OC(C)(C)C)CC1"
       ]
      },
      {
       "output_type": "stream",
       "stream": "stdout",
       "text": [
        "\n",
        "  [1.2.2] Aldehyde reductive imination\n",
        "    [1.2] Reductive amination\n",
        "$$  0.04 s\n",
        "\n",
        "\n",
        "####  Line 14  ####\n",
        "IN :  CC(C)(CN)c1ccsc1.C=O>>CC(C)(CN=C)c1ccsc1\n",
        "  [1.2.3] Alkylimino-de-oxo-bisubsitution\n",
        "OUT:  C=O.CC(C)(CN)c1ccsc1>>C=NCC(C)(C)c1ccsc1\n",
        "  [1.2.3] Alkylimino-de-oxo-bisubsitution\n",
        "    [1.2] Reductive amination\n",
        "$$  0.02 s\n",
        "\n",
        "\n",
        "####  Line 15  ####\n",
        "IN :  [BH3-]C#N.CC(=O)c1ccsc1.CC(=O)[O-].[NH4+].[Na+]>CO>CC(c1ccsc1)N\n",
        "  [1.2.5] Ketone reductive amination\n",
        "OUT:  [NH4+].[Na+].[BH3-]C#N.CC(=O)[O-].CC(=O)c1ccsc1>CO>CC(N)c1ccsc1\n",
        "  [1.2.5] Ketone reductive amination\n",
        "    [1.2] Reductive amination\n",
        "$$  0.01 s\n",
        "\n",
        "\n",
        "####  Line 16  ####\n",
        "IN :  CC(=O)C.CC(C)(C)OC(=O)N1CC[C@H](C1)N.[O-]S(=O)(=O)[O-].[Mg+2]>C(Cl)Cl>CC(=N[C@@H]1CCN(C1)C(=O)OC(C)(C)C)C\n",
        "  [1.2.6] Ketone reductive imination\n",
        "OUT:  [Mg+2].CC(C)=O.CC(C)(C)OC(=O)N1CCC(N)C1.O=S(=O)([O-])[O-]>ClCCl>CC(C)=NC1CCN(C(=O)OC(C)(C)C)C1"
       ]
      },
      {
       "output_type": "stream",
       "stream": "stdout",
       "text": [
        "\n",
        "  [1.2.6] Ketone reductive imination\n",
        "    [1.2] Reductive amination\n",
        "$$  0.06 s\n",
        "\n",
        "\n",
        "####  Line 17  ####\n",
        "IN :  CC(C)(C)[O-].c1ccc2c(c1)cc[nH]2.c1cnccc1Cl.[Na+].Cl.[K+].[I-]>CCOC(=O)C.CC(=O)N(C)C.O>c1ccc2c(c1)ccn2c3ccncc3\n",
        "  [1.3] N-arylation with Ar-X\n",
        "OUT:  [Na+].Cl.[K+].[I-].CC(C)(C)[O-].Clc1ccncc1.c1cc2ccccc2[nH]1>O.CCOC(C)=O.CC(=O)N(C)C>c1cn(-c2ccncc2)c2ccccc12"
       ]
      },
      {
       "output_type": "stream",
       "stream": "stdout",
       "text": [
        "\n",
        "  [1.6.4] Chloro N-alkylation\n",
        "    [1.6] Heteroaryl N-alkylation\n",
        "$$  0.07 s\n",
        "\n",
        "\n",
        "####  Line 18  ####\n",
        "IN :  C[C@H]1[C@H](OC(=O)N1Cc2cc(ccc2Br)[N+](=O)[O-])c3cc(cc(c3)C(F)(F)F)C(F)(F)F.CC1CCCNC1.c1ccc(cc1)P(c2ccccc2)c3ccc4ccccc4c3c5c6ccccc6ccc5P(c7ccccc7)c8ccccc8.C(=O)([O-])[O-].[Cs+].[Cs+]>CC(=O)[O-].CC(=O)[O-].C1CCOC1.[Pd+2]>C[C@H]1[C@H](OC(=O)N1Cc2cc(ccc2N3CCCC(C3)C)[N+](=O)[O-])c4cc(cc(c4)C(F)(F)F)C(F)(F)F\n",
        "  [1.3.1] Bromo Buchwald-Hartwig amination\n",
        "OUT:  [Cs+].[Cs+].CC1C(c2cc(C(F)(F)F)cc(C(F)(F)F)c2)OC(=O)N1Cc1cc([N+](=O)[O-])ccc1Br.CC1CCCNC1.O=C([O-])[O-].c1ccc(P(c2ccccc2)c2ccc3ccccc3c2-c2c3ccccc3ccc2P(c2ccccc2)c2ccccc2)cc1>[Pd+2].CC(=O)[O-].CC(=O)[O-].C1CCOC1>CC1C(c2cc(C(F)(F)F)cc(C(F)(F)F)c2)OC(=O)N1Cc1cc([N+](=O)[O-])ccc1N1CCCC(C)C1"
       ]
      },
      {
       "output_type": "stream",
       "stream": "stdout",
       "text": [
        "\n",
        "  [1.3.1] Bromo Buchwald-Hartwig amination\n",
        "    [1.3] N-arylation with Ar-X\n",
        "$$  0.09 s\n",
        "\n",
        "\n",
        "####  Line 19  ####\n",
        "IN :  COc1cc2c(ccnc2cc1OS(=O)(=O)C(F)(F)F)Cl.c1ccc(cc1)P(c2ccccc2)c3ccc4ccccc4c3c5c6ccccc6ccc5P(c7ccccc7)c8ccccc8.C1COCCN1CCN.C(=O)([O-])[O-].[Cs+].[Cs+]>Cc1ccccc1.CC(=O)[O-].CC(=O)[O-].O.[Pd+2]>COc1cc2c(ccnc2cc1NCCN3CCOCC3)Cl\n",
        "  [1.3.5] Triflyloxy Buchwald-Hartwig amination\n",
        "OUT:  [Cs+].[Cs+].COc1cc2c(Cl)ccnc2cc1OS(=O)(=O)C(F)(F)F.NCCN1CCOCC1.O=C([O-])[O-].c1ccc(P(c2ccccc2)c2ccc3ccccc3c2-c2c3ccccc3ccc2P(c2ccccc2)c2ccccc2)cc1>O.[Pd+2].CC(=O)[O-].CC(=O)[O-].Cc1ccccc1>COc1cc2c(Cl)ccnc2cc1NCCN1CCOCC1"
       ]
      },
      {
       "output_type": "stream",
       "stream": "stdout",
       "text": [
        "\n",
        "  [1.3.4] Triflyloxy Buchwald-Hartwig amination\n",
        "    [1.3] N-arylation with Ar-X\n",
        "$$  0.08 s\n",
        "\n",
        "\n",
        "####  Line 20  ####\n",
        "IN :  CC(C)CCCBr.c1ccc2c(c1)C(=O)NC2=O.C(Cl)(Cl)Cl.O.[K]>CN(C)C=O>CC(C)CCCN1C(=O)c2ccccc2C1=O\n",
        "  [1.6.1] Bromo Gabriel alkylation\n",
        "OUT:  O.[K].CC(C)CCCBr.O=C1NC(=O)c2ccccc21.ClC(Cl)Cl>CN(C)C=O>CC(C)CCCN1C(=O)c2ccccc2C1=O\n",
        "  [1.6.1] Bromo Gabriel alkylation\n",
        "    [1.6] Heteroaryl N-alkylation\n",
        "$$  0.04 s\n",
        "\n",
        "\n",
        "####  Line 21  ####\n",
        "IN :  C[Si]1(CCCC1)CCl.c1ccc2c(c1)C(=O)NC2=O.[K]>CN(C)C=O>C[Si]1(CCCC1)CN2C(=O)c3ccccc3C2=O\n",
        "  [1.6.3] Chloro Gabriel alkylation\n",
        "OUT:  [K].C[Si]1(CCl)CCCC1.O=C1NC(=O)c2ccccc21>CN(C)C=O>C[Si]1(CN2C(=O)c3ccccc3C2=O)CCCC1"
       ]
      },
      {
       "output_type": "stream",
       "stream": "stdout",
       "text": [
        "\n",
        "  [1.6.3] Chloro Gabriel alkylation\n",
        "    [1.6] Heteroaryl N-alkylation\n",
        "$$  0.03 s\n",
        "\n",
        "\n",
        "####  Line 22  ####\n",
        "IN :  Cc1cc(c2c(c1C)OC(C2)(C)CI)C.CN(C)C=O.c1ccc2c(c1)C(=O)NC2=O.O.[K]>CCOC(=O)C>Cc1cc(c2c(c1C)OC(C2)(C)CN3C(=O)c4ccccc4C3=O)C\n",
        "  [1.6.7] Iodo Gabriel alkylation\n",
        "OUT:  O.[K].Cc1cc(C)c(C)c2c1CC(C)(CI)O2.CN(C)C=O.O=C1NC(=O)c2ccccc21>CCOC(C)=O>Cc1cc(C)c(C)c2c1CC(C)(CN1C(=O)c3ccccc3C1=O)O2"
       ]
      },
      {
       "output_type": "stream",
       "stream": "stdout",
       "text": [
        "\n",
        "  [1.6.7] Iodo Gabriel alkylation\n",
        "    [1.6] Heteroaryl N-alkylation\n",
        "$$  0.07 s\n",
        "\n",
        "\n",
        "####  Line 23  ####\n",
        "IN :  COC(=O)c1cnc(cn1)OS(=O)(=O)C.C1CCNCC1>>COC(=O)c1cnc(cn1)N2CCCCC2\n",
        "  [1.6.9] Mesyloxy N-alkylation\n",
        "OUT:  COC(=O)c1cnc(OS(C)(=O)=O)cn1.C1CCNCC1>>COC(=O)c1cnc(N2CCCCC2)cn1\n",
        "  [1.6.9] Mesyloxy N-alkylation\n",
        "    [1.6] Heteroaryl N-alkylation\n",
        "$$  0.02 s\n",
        "\n",
        "\n",
        "####  Line 24  ####\n",
        "IN :  B(c1ccc(c(c1)Cl)Cl)(O)O.CC(C)Oc1ccc(cc1)n2c3ccc(cc3c(c2c4ccc(cc4)C(=O)OC)C(=O)OC)O>>CC(C)Oc1ccc(cc1)n2c3ccc(cc3c(c2c4ccc(cc4)C(=O)OC)C(=O)OC)Oc5ccc(c(c5)Cl)Cl\n",
        "  [1.7.1] Chan-Lam ether coupling\n",
        "OUT:  COC(=O)c1c2cc(O)ccc2n(-c2ccc(OC(C)C)cc2)c1-c1ccc(C(=O)OC)cc1.OB(O)c1ccc(Cl)c(Cl)c1>>COC(=O)c1c2cc(Oc3ccc(Cl)c(Cl)c3)ccc2n(-c2ccc(OC(C)C)cc2)c1-c1ccc(C(=O)OC)cc1"
       ]
      },
      {
       "output_type": "stream",
       "stream": "stdout",
       "text": [
        "\n",
        "  [1.7.1] Chan-Lam ether coupling\n",
        "    [1.7] O-substitution\n",
        "$$  0.05 s\n",
        "\n",
        "\n",
        "####  Line 25  ####\n",
        "IN :  CCO.COc1cccc(c1)CCc2cc([nH]n2)NC(=O)c3ccc(nc3)C(=O)O>>CCOC(=O)c1ccc(cn1)C(=O)Nc2cc(n[nH]2)CCc3cccc(c3)OC\n",
        "  [1.7.3] Ethyl esterification\n",
        "OUT:  CCO.COc1cccc(CCc2cc(NC(=O)c3ccc(C(=O)O)nc3)[nH]n2)c1>>CCOC(=O)c1ccc(C(=O)Nc2cc(CCc3cccc(OC)c3)n[nH]2)cn1\n",
        "  [1.7.3] Ethyl esterification\n",
        "    [1.7] O-substitution\n",
        "$$  0.04 s\n",
        "\n",
        "\n",
        "####  Line 26  ####\n",
        "IN :  [H-].CI.c1cc(cnc1)n2c(cc(n2)C(=O)N3CCC(CC3)(F)F)c4ccc(cn4)CO.[Na+]>CN(C)C=O>COCc1ccc(nc1)c2cc(nn2c3cccnc3)C(=O)N4CCC(CC4)(F)F\n",
        "  [1.7.4] Hydroxy to methoxy\n",
        "OUT:  [H-].[Na+].CI.O=C(c1cc(-c2ccc(CO)cn2)n(-c2cccnc2)n1)N1CCC(F)(F)CC1>CN(C)C=O>COCc1ccc(-c2cc(C(=O)N3CCC(F)(F)CC3)nn2-c2cccnc2)nc1"
       ]
      },
      {
       "output_type": "stream",
       "stream": "stdout",
       "text": [
        "\n",
        "  [1.7.4] Hydroxy to methoxy\n",
        "    [1.7] O-substitution\n",
        "$$  0.21 s\n",
        "\n",
        "\n",
        "####  Line 27  ####\n",
        "IN :  CCC(CC)(/C=C/c1ccc(cc1C)C(CC)(CC)c2cc(c(c(c2)C)O)C)O.CCN(C(C)C)C(C)C.C(=O)(O)[O-].C(F)(F)(F)S(=O)(=O)OS(=O)(=O)C(F)(F)F.[Na+]>C(Cl)Cl>CCC(CC)(/C=C/c1ccc(cc1C)C(CC)(CC)c2cc(c(c(c2)C)OS(=O)(=O)C(F)(F)F)C)O\n",
        "  [1.7.5] Hydroxy to triflyloxy\n",
        "OUT:  [Na+].CCN(C(C)C)C(C)C.CCC(O)(C=Cc1ccc(C(CC)(CC)c2cc(C)c(O)c(C)c2)cc1C)CC.O=C([O-])O.O=S(=O)(OS(=O)(=O)C(F)(F)F)C(F)(F)F>ClCCl>CCC(O)(C=Cc1ccc(C(CC)(CC)c2cc(C)c(OS(=O)(=O)C(F)(F)F)c(C)c2)cc1C)CC"
       ]
      },
      {
       "output_type": "stream",
       "stream": "stdout",
       "text": [
        "\n",
        "  [1.7.5] Hydroxy to triflyloxy\n",
        "    [1.7] O-substitution\n",
        "$$  0.82 s\n",
        "\n",
        "\n",
        "####  Line 28  ####\n",
        "IN :  CI.c1cc2c(cc1C(=O)O)[nH]cc2C3=CCCCC3.C(=O)([O-])[O-].[K+].[K+]>CN(C)C=O>COC(=O)c1ccc2c(c1)[nH]cc2C3=CCCCC3\n",
        "  [1.7.6] Methyl esterification\n",
        "OUT:  [K+].[K+].CI.O=C([O-])[O-].O=C(O)c1ccc2c(c1)[nH]cc2C1=CCCCC1>CN(C)C=O>COC(=O)c1ccc2c(c1)[nH]cc2C1=CCCCC1"
       ]
      },
      {
       "output_type": "stream",
       "stream": "stdout",
       "text": [
        "\n",
        "  [1.7.6] Methyl esterification\n",
        "    [1.7] O-substitution\n",
        "$$  0.07 s\n",
        "\n",
        "\n",
        "####  Line 29  ####\n",
        "IN :  CCCCP(CCCC)CCCC.CCOC(=O)/C=C/c1ccc(cc1Oc2c(cc(cn2)C(F)(F)F)Cl)O.CC(C)[Si](C(C)C)(C(C)C)OCCO.C1CCN(CC1)C(=O)N=NC(=O)N2CCCCC2>C1CCOC1>CCOC(=O)/C=C/c1ccc(cc1Oc2c(cc(cn2)C(F)(F)F)Cl)OCCO[Si](C(C)C)(C(C)C)C(C)C\n",
        "  [1.7.7] Mitsunobu aryl ether synthesis\n",
        "OUT:  CCCCP(CCCC)CCCC.CCOC(=O)C=Cc1ccc(O)cc1Oc1ncc(C(F)(F)F)cc1Cl.CC(C)[Si](OCCO)(C(C)C)C(C)C.O=C(N=NC(=O)N1CCCCC1)N1CCCCC1>C1CCOC1>CCOC(=O)C=Cc1ccc(OCCO[Si](C(C)C)(C(C)C)C(C)C)cc1Oc1ncc(C(F)(F)F)cc1Cl"
       ]
      },
      {
       "output_type": "stream",
       "stream": "stdout",
       "text": [
        "\n",
        "  [1.7.7] Mitsunobu aryl ether synthesis\n",
        "    [1.7] O-substitution\n",
        "$$  0.06 s\n",
        "\n",
        "\n",
        "####  Line 30  ####\n",
        "IN :  CCCCCN1c2ccccc2C3(C1=O)COc4c3ccc(c4)Br.CN(C)CC(=O)O.c1ccc(cc1)O.C(=O)([O-])[O-].Cl.[Cs+].[Cs+]>C1COCCO1.C(Cl)Cl.[Cu](I)I>CCCCCN1c2ccccc2C3(C1=O)COc4c3ccc(c4)Oc5ccccc5\n",
        "  [1.7.8] Ullmann condensation\n",
        "OUT:  Cl.[Cs+].[Cs+].CCCCCN1c2ccccc2C2(COc3cc(Br)ccc32)C1=O.CN(C)CC(=O)O.O=C([O-])[O-].Oc1ccccc1>ClCCl.I[Cu]I.C1COCCO1>CCCCCN1c2ccccc2C2(COc3cc(Oc4ccccc4)ccc32)C1=O\n",
        "  [1.7.8] Ullmann condensation\n",
        "    [1.7] O-substitution\n",
        "$$  0.05 s\n",
        "\n",
        "\n",
        "####  Line 31  ####\n",
        "IN :  CC(C)(C)OC(=O)NC1CCCN(C1)c2cccc(c2)O.COC(=O)CBr.C(=O)([O-])[O-].[K+].[K+]>CCOC(=O)C.CN(C)C=O>CC(C)(C)OC(=O)NC1CCCN(C1)c2cccc(c2)OCC(=O)OC\n",
        "  [1.7.9] Williamson ether synthesis\n",
        "OUT:  [K+].[K+].COC(=O)CBr.CC(C)(C)OC(=O)NC1CCCN(c2cccc(O)c2)C1.O=C([O-])[O-]>CCOC(C)=O.CN(C)C=O>COC(=O)COc1cccc(N2CCCC(NC(=O)OC(C)(C)C)C2)c1"
       ]
      },
      {
       "output_type": "stream",
       "stream": "stdout",
       "text": [
        "\n",
        "  [1.7.9] Williamson ether synthesis\n",
        "    [1.7] O-substitution\n",
        "$$  0.02 s\n",
        "\n",
        "\n",
        "####  Line 32  ####\n",
        "IN :  c1cc(c(nc1)Br)C(=O)O.c1cc(ccc1/C=C/c2ccc(cc2)S(=O)[O-])F.[Na+]>CCOC(=O)C.CS(=O)C.O.[Cu](I)I>c1cc(c(nc1)S(=O)(=O)c2ccc(cc2)/C=C/c3ccc(cc3)F)C(=O)O\n",
        "  [1.8.1] Sulfinic acid + bromide reaction\n",
        "OUT:  [Na+].O=C(O)c1cccnc1Br.O=S([O-])c1ccc(C=Cc2ccc(F)cc2)cc1>O.CCOC(C)=O.CS(C)=O.I[Cu]I>O=C(O)c1cccnc1S(=O)(=O)c1ccc(C=Cc2ccc(F)cc2)cc1"
       ]
      },
      {
       "output_type": "stream",
       "stream": "stdout",
       "text": [
        "\n",
        "  [1.8.1] Sulfinic acid + bromide reaction\n",
        "    [1.8] S-substitution\n",
        "$$  0.29 s\n",
        "\n",
        "\n",
        "####  Line 33  ####\n",
        "IN :  c1ccnc(c1)S(=O)[O-].c1c(c(sc1Cl)C=O)Cl.[Na+]>>c1ccnc(c1)S(=O)(=O)c2cc(sc2C=O)Cl\n",
        "  [1.8.2] Sulfinic acid + chloride reaction\n",
        "OUT:  [Na+].O=Cc1sc(Cl)cc1Cl.O=S([O-])c1ccccn1>>O=Cc1sc(Cl)cc1S(=O)(=O)c1ccccn1\n",
        "  [1.8.2] Sulfinic acid + chloride reaction\n",
        "    [1.8] S-substitution\n",
        "$$  0.05 s\n",
        "\n",
        "\n",
        "####  Line 34  ####\n",
        "IN :  c1ccc(cc1)S(=O)O.c1cc(c(cc1Cl)F)C=O.[Na]>>c1ccc(cc1)S(=O)(=O)c2cc(ccc2C=O)Cl\n",
        "  [1.8.3] Sulfinic acid + fluoride reaction\n",
        "OUT:  [Na].O=Cc1ccc(Cl)cc1F.O=S(O)c1ccccc1>>O=Cc1ccc(Cl)cc1S(=O)(=O)c1ccccc1"
       ]
      },
      {
       "output_type": "stream",
       "stream": "stdout",
       "text": [
        "\n",
        "  [1.8.3] Sulfinic acid + fluoride reaction\n",
        "    [1.8] S-substitution\n",
        "$$  0.04 s\n",
        "\n",
        "\n",
        "####  Line 35  ####\n",
        "IN :  CCN(CC)CC.c1cc(c(cc1S(=O)O)C(=O)O)O.C(CCl)CI>CN(C)C=O>c1cc(c(cc1S(=O)(=O)CCCCl)C(=O)O)O\n",
        "  [1.8.4] Sulfinic acid + iodide reaction\n",
        "OUT:  CCN(CC)CC.O=C(O)c1cc(S(=O)O)ccc1O.ClCCCI>CN(C)C=O>O=C(O)c1cc(S(=O)(=O)CCCCl)ccc1O"
       ]
      },
      {
       "output_type": "stream",
       "stream": "stdout",
       "text": [
        "\n",
        "  [1.8.4] Sulfinic acid + iodide reaction\n",
        "    [1.8] S-substitution\n",
        "$$  0.19 s\n",
        "\n",
        "\n",
        "####  Line 36  ####\n",
        "IN :  Cc1ccc(c(c1)C(=O)C2CCCC2)NC(=O)Nc3ncc(s3)Br.COC(=O)c1c(cccn1)S>>Cc1ccc(c(c1)C(=O)C2CCCC2)NC(=O)Nc3ncc(s3)Sc4cccnc4C(=O)OC\n",
        "  [1.8.5] Thioether synthesis\n",
        "OUT:  COC(=O)c1ncccc1S.Cc1ccc(NC(=O)Nc2ncc(Br)s2)c(C(=O)C2CCCC2)c1>>COC(=O)c1ncccc1Sc1cnc(NC(=O)Nc2ccc(C)cc2C(=O)C2CCCC2)s1\n",
        "  [1.8.5] Thioether synthesis\n",
        "    [1.8] S-substitution\n",
        "$$  0.04 s\n",
        "\n",
        "\n",
        "####  Line 37  ####\n",
        "IN :  CCOP(OCC)OCC.c1ccc(c(c1)CBr)OC(F)(F)F>Cc1ccccc1>CCOP(=O)(Cc1ccccc1OC(F)(F)F)OCC\n",
        "  [1.9.1] Michaelis-Arbuzov reaction\n",
        "OUT:  CCOP(OCC)OCC.FC(F)(F)Oc1ccccc1CBr>Cc1ccccc1>CCOP(=O)(Cc1ccccc1OC(F)(F)F)OCC\n",
        "  [1.9.1] Michaelis-Arbuzov reaction\n",
        "    [1.9] Other heteroatom alkylation/arylation\n",
        "$$  0.01 s\n",
        "\n",
        "\n",
        "####  Line 38  ####\n",
        "IN :  CC(C)(C)OC(=O)[C@H](Cc1ccc(nc1)OCCc2cccc(n2)N(C)C(=O)OC(C)(C)C)N.c1cc(c(c(c1)Cl)C(=O)Cl)Cl>C(Cl)Cl>CC(C)(C)OC(=O)[C@H](Cc1ccc(nc1)OCCc2cccc(n2)N(C)C(=O)OC(C)(C)C)NC(=O)c3c(cccc3Cl)Cl\n",
        "  [2.1.1] Amide Schotten-Baumann\n",
        "OUT:  CN(C(=O)OC(C)(C)C)c1cccc(CCOc2ccc(CC(N)C(=O)OC(C)(C)C)cn2)n1.O=C(Cl)c1c(Cl)cccc1Cl>ClCCl>CN(C(=O)OC(C)(C)C)c1cccc(CCOc2ccc(CC(NC(=O)c3c(Cl)cccc3Cl)C(=O)OC(C)(C)C)cn2)n1"
       ]
      },
      {
       "output_type": "stream",
       "stream": "stdout",
       "text": [
        "\n",
        "  [2.1.1] Amide Schotten-Baumann\n",
        "    [2.1] N-acylation to amide\n",
        "$$  0.04 s\n",
        "\n",
        "\n",
        "####  Line 39  ####\n",
        "IN :  c1ccc(cc1)N2CNC(=O)C23CCNCC3.c1cc(ccc1c2cc3c(nc2)NCCN3Cc4cc(ccc4C(F)(F)F)Cl)C(=O)O>>c1ccc(cc1)N2CNC(=O)C23CCN(CC3)C(=O)c4ccc(cc4)c5cc6c(nc5)NCCN6Cc7cc(ccc7C(F)(F)F)Cl\n",
        "  [2.1.2] Carboxylic acid + amine reaction\n",
        "OUT:  O=C(O)c1ccc(-c2cnc3c(c2)N(Cc2cc(Cl)ccc2C(F)(F)F)CCN3)cc1.O=C1NCN(c2ccccc2)C12CCNCC2>>O=C(c1ccc(-c2cnc3c(c2)N(Cc2cc(Cl)ccc2C(F)(F)F)CCN3)cc1)N1CCC2(CC1)C(=O)NCN2c1ccccc1"
       ]
      },
      {
       "output_type": "stream",
       "stream": "stdout",
       "text": [
        "\n",
        "  [2.1.2] Carboxylic acid + amine reaction\n",
        "    [2.1] N-acylation to amide\n",
        "$$  0.06 s\n",
        "\n",
        "\n",
        "####  Line 40  ####\n",
        "IN :  CCN(CC)CC.CC(C)CC(=O)OC(=O)CC(C)C.Cn1cncc1C(=NOCc2cccc(n2)N)c3ccccc3.CN(C)C=O>C1COCCO1>CC(C)CC(=O)Nc1cccc(n1)CON=C(c2ccccc2)c3cncn3C\n",
        "  [2.1.6] Carboxylic anhydride + amine reaction\n",
        "OUT:  CCN(CC)CC.CC(C)CC(=O)OC(=O)CC(C)C.CN(C)C=O.Cn1cncc1C(=NOCc1cccc(N)n1)c1ccccc1>C1COCCO1>CC(C)CC(=O)Nc1cccc(CON=C(c2cncn2C)c2ccccc2)n1"
       ]
      },
      {
       "output_type": "stream",
       "stream": "stdout",
       "text": [
        "\n",
        "  [2.1.6] Carboxylic anhydride + amine reaction\n",
        "    [2.1] N-acylation to amide\n",
        "$$  0.19 s\n",
        "\n",
        "\n",
        "####  Line 41  ####\n",
        "IN :  CCN(CC)CC.CCN(CC)c1cccc2c1n3c(n2)N(CCC(C3)N)c4ccc(cc4Cl)Cl.CC(=O)OC(=O)C.C(=O)(O)[O-].[Na+]>C1CCOC1>CCN(CC)c1cccc2c1n3c(n2)N(CCC(C3)NC(=O)C)c4ccc(cc4Cl)Cl\n",
        "  [2.1.7] N-acetylation\n",
        "OUT:  [Na+].CCN(CC)CC.CCN(CC)c1cccc2nc3n(c21)CC(N)CCN3c1ccc(Cl)cc1Cl.CC(=O)OC(C)=O.O=C([O-])O>C1CCOC1>CCN(CC)c1cccc2nc3n(c21)CC(NC(C)=O)CCN3c1ccc(Cl)cc1Cl"
       ]
      },
      {
       "output_type": "stream",
       "stream": "stdout",
       "text": [
        "\n",
        "  [2.1.7] N-acetylation\n",
        "    [2.1] N-acylation to amide\n",
        "$$  0.08 s\n",
        "\n",
        "\n",
        "####  Line 42  ####\n",
        "IN :  CCCCNc1ccc(cc1)C(C(F)(F)F)(C(F)(F)F)O.CN(C)C(=S)Cl>C(Cl)Cl>CCCCN(c1ccc(cc1)C(C(F)(F)F)(C(F)(F)F)O)C(=S)N(C)C\n",
        "  [2.1.8] Thioamide Schotten-Baumann\n",
        "OUT:  CCCCNc1ccc(C(O)(C(F)(F)F)C(F)(F)F)cc1.CN(C)C(=S)Cl>ClCCl>CCCCN(C(=S)N(C)C)c1ccc(C(O)(C(F)(F)F)C(F)(F)F)cc1"
       ]
      },
      {
       "output_type": "stream",
       "stream": "stdout",
       "text": [
        "\n",
        "  [2.1.8] Thioamide Schotten-Baumann\n",
        "    [2.1] N-acylation to amide\n",
        "$$  0.09 s\n",
        "\n",
        "\n",
        "####  Line 43  ####\n",
        "IN :  CC(C)(C)OC(=O)N1CCN(CC1)c2cc(cc(c2)NCCN3CCCC3)C(=O)O.CNOC.CN1CCOCC1.CN(C)C(=[N+](C)C)On1c2c(cccn2)nn1.F[P-](F)(F)(F)(F)F>CN(C)C=O.O>CC(C)(C)OC(=O)N1CCN(CC1)c2cc(cc(c2)NCCN3CCCC3)C(=O)N(C)OC\n",
        "  [2.1.9] Weinreb amide synthesis\n",
        "OUT:  \n",
        "  [0.0] Unrecognized\n",
        "    [0] Unassigned\n",
        "$$  0.00 s\n",
        "\n",
        "\n",
        "####  Line 44  ####\n",
        "IN :  CCN(CC)CC.CC(S(=O)Cl)(C)C.COC(=O)[C@H]1CC[C@H](CC1)N.Cl.Cl>CCOC(=O)C>CC(S(=O)N[C@H]1CC[C@H](CC1)C(=O)OC)(C)C\n",
        "  [2.2.1] Sulfinamide Schotten-Baumann\n",
        "OUT:  Cl.Cl.CCN(CC)CC.COC(=O)C1CCC(N)CC1.CC(C)(C)S(=O)Cl>CCOC(C)=O>COC(=O)C1CCC(NS(=O)C(C)(C)C)CC1"
       ]
      },
      {
       "output_type": "stream",
       "stream": "stdout",
       "text": [
        "\n",
        "  [2.2.1] Sulfinamide Schotten-Baumann\n",
        "    [2.2] N-sulfonylation\n",
        "$$  0.08 s\n",
        "\n",
        "\n",
        "####  Line 45  ####\n",
        "IN :  [H-].CC(C)(C)OC(=O)N(C)Cc1cc([nH]c1)c2cc(ccc2F)F.c1cc(cnc1)S(=O)(=O)Cl.C1COCCOCCOCCOCCO1.[Na+].Cl>>CC(C)(C)OC(=O)N(C)Cc1cc(n(c1)S(=O)(=O)c2cccnc2)c3cc(ccc3F)F\n",
        "  [2.2.3] Sulfonamide Schotten-Baumann\n",
        "OUT:  [H-].[Na+].Cl.CN(Cc1c[nH]c(-c2cc(F)ccc2F)c1)C(=O)OC(C)(C)C.O=S(=O)(Cl)c1cccnc1.C1COCCOCCOCCOCCO1>>CN(Cc1cc(-c2cc(F)ccc2F)n(S(=O)(=O)c2cccnc2)c1)C(=O)OC(C)(C)C"
       ]
      },
      {
       "output_type": "stream",
       "stream": "stdout",
       "text": [
        "\n",
        "  [0.0] Unrecognized\n",
        "    [0] Unassigned\n",
        "$$  1.16 s\n",
        "\n",
        "\n",
        "####  Line 46  ####\n",
        "IN :  Cc1ccc(cc1)S(=O)(=O)O.COC(CNCc1ccc(cc1)F)OC.c1ccncc1.[Cl-]>C(Cl)Cl>Cc1ccc(cc1)S(=O)(=O)N(Cc2ccc(cc2)F)CC(OC)OC\n",
        "  [2.2.4] Sulfonic acid + amine reaction\n",
        "OUT:  [Cl-].COC(CNCc1ccc(F)cc1)OC.Cc1ccc(S(=O)(=O)O)cc1.c1ccncc1>ClCCl>COC(CN(Cc1ccc(F)cc1)S(=O)(=O)c1ccc(C)cc1)OC"
       ]
      },
      {
       "output_type": "stream",
       "stream": "stdout",
       "text": [
        "\n",
        "  [2.2.4] Sulfonic acid + amine reaction\n",
        "    [2.2] N-sulfonylation\n",
        "$$  0.15 s\n",
        "\n",
        "\n",
        "####  Line 47  ####\n",
        "IN :  Cc1c(c(on1)C)N=C=O.c1ccc(cc1)C(c2ccccc2)N3CCN(CC3)c4ccc(cc4F)N>>Cc1c(c(on1)C)NC(=O)Nc2ccc(c(c2)F)N3CCN(CC3)C(c4ccccc4)c5ccccc5\n",
        "  [2.3.1] Isocyanate + amine reaction\n",
        "OUT:  Cc1noc(C)c1N=C=O.Nc1ccc(N2CCN(C(c3ccccc3)c3ccccc3)CC2)c(F)c1>>Cc1noc(C)c1NC(=O)Nc1ccc(N2CCN(C(c3ccccc3)c3ccccc3)CC2)c(F)c1"
       ]
      },
      {
       "output_type": "stream",
       "stream": "stdout",
       "text": [
        "\n",
        "  [2.3.1] Isocyanate + amine reaction\n",
        "    [2.3] N-acylation to urea\n",
        "$$  0.05 s\n",
        "\n",
        "\n",
        "####  Line 48  ####\n",
        "IN :  CN(C)CCN1C(=O)c2cccc3c2c(c4c(c3)cccc4N)C1=O.c1cc(oc1)CN=C=S>CC#N>CN(C)CCN1C(=O)c2cccc3c2c(c4c(c3)cccc4NC(=S)NCc5ccco5)C1=O\n",
        "  [2.3.2] Isothiocyanate + amine reaction\n",
        "OUT:  CN(C)CCN1C(=O)c2cccc3cc4cccc(N)c4c(c32)C1=O.S=C=NCc1ccco1>CC#N>CN(C)CCN1C(=O)c2cccc3cc4cccc(NC(=S)NCc5ccco5)c4c(c32)C1=O"
       ]
      },
      {
       "output_type": "stream",
       "stream": "stdout",
       "text": [
        "\n",
        "  [2.3.2] Isothiocyanate + amine reaction\n",
        "    [2.3] N-acylation to urea\n",
        "$$  0.07 s\n",
        "\n",
        "\n",
        "####  Line 49  ####\n",
        "IN :  CCN(CC)CC.CC(C)(C)O.COC(=O)c1cc(cc(n1)C(=O)O)Br.c1ccc(cc1)P(=O)(c2ccccc2)N=[N+]=[N-]>C1COCCO1.O>CC(C)(C)OC(=O)Nc1cc(cc(n1)C(=O)OC)Br\n",
        "  [2.4.1] Curtius reaction\n",
        "OUT:  CCN(CC)CC.COC(=O)c1cc(Br)cc(C(=O)O)n1.CC(C)(C)O.[N-]=[N+]=NP(=O)(c1ccccc1)c1ccccc1>O.C1COCCO1>COC(=O)c1cc(Br)cc(NC(=O)OC(C)(C)C)n1"
       ]
      },
      {
       "output_type": "stream",
       "stream": "stdout",
       "text": [
        "\n",
        "  [2.4.1] Curtius reaction\n",
        "    [2.4] Carbamate/carbonate formation\n",
        "$$  0.05 s\n",
        "\n",
        "\n",
        "####  Line 50  ####\n",
        "IN :  CCc1ccc(cc1)N=C=O.c1ccc(c(c1)CNC(=O)N(CCO)CCO)Cl>CN(C)c1ccncc1.C1CCOC1>CCc1ccc(cc1)NC(=O)OCCN(CCO)C(=O)NCc2ccccc2Cl\n",
        "  [2.4.2] Isocyanate + alcohol reaction\n",
        "OUT:  CCc1ccc(N=C=O)cc1.O=C(NCc1ccccc1Cl)N(CCO)CCO>CN(C)c1ccncc1.C1CCOC1>CCc1ccc(NC(=O)OCCN(CCO)C(=O)NCc2ccccc2Cl)cc1"
       ]
      },
      {
       "output_type": "stream",
       "stream": "stdout",
       "text": [
        "\n",
        "  [2.4.2] Isocyanate + alcohol reaction\n",
        "    [2.4] Carbamate/carbonate formation\n",
        "$$  0.05 s\n",
        "\n",
        "\n",
        "####  Line 51  ####\n",
        "IN :  CCN(CC)CC.c1ccc2c(c1)C(=O)C(CCS2)(CO)CO.c1cc(c(cc1F)F)N=C=S>C1CCOC1>c1ccc2c(c1)C(=O)C(CCS2)(CO)COC(=S)Nc3ccc(cc3F)F\n",
        "  [2.4.3] Isothiocyanate + alcohol reaction\n",
        "OUT:  CCN(CC)CC.O=C1c2ccccc2SCCC1(CO)CO.Fc1ccc(N=C=S)c(F)c1>C1CCOC1>O=C1c2ccccc2SCCC1(CO)COC(=S)Nc1ccc(F)cc1F\n",
        "  [2.4.3] Isothiocyanate + alcohol reaction\n",
        "    [2.4] Carbamate/carbonate formation\n",
        "$$  0.03 s\n",
        "\n",
        "\n",
        "####  Line 52  ####\n",
        "IN :  C[C@H](CO)NC(=O)OC(C)(C)C.CN(C)C(=O)Cl.c1ccncc1>CCOC(=O)C.CN(C)c1ccncc1.C(Cl)Cl>C[C@H](COC(=O)N(C)C)NC(=O)OC(C)(C)C\n",
        "  [2.6.1] Ester Schotten-Baumann\n",
        "OUT:  CC(CO)NC(=O)OC(C)(C)C.CN(C)C(=O)Cl.c1ccncc1>CCOC(C)=O.CN(C)c1ccncc1.ClCCl>CC(COC(=O)N(C)C)NC(=O)OC(C)(C)C"
       ]
      },
      {
       "output_type": "stream",
       "stream": "stdout",
       "text": [
        "\n",
        "  [2.6.1] Ester Schotten-Baumann\n",
        "    [2.6] O-acylation to ester\n",
        "$$  0.02 s\n",
        "\n",
        "\n",
        "####  Line 53  ####\n",
        "IN :  [H-].CCCCCC(=O)O.CC(c1cn(c2c1cccc2)c3c(cc(cc3Cl)C(F)(F)F)Cl)(C(F)(F)F)O.[Na+].[Cl-]>CN(C)C=O.C(Cl)Cl.C(Cl)Cl>CCCCCC(=O)OC(C)(c1cn(c2c1cccc2)c3c(cc(cc3Cl)C(F)(F)F)Cl)C(F)(F)F\n",
        "  [2.6.2] Esterification\n",
        "OUT:  [H-].[Na+].[Cl-].CCCCCC(=O)O.CC(O)(c1cn(-c2c(Cl)cc(C(F)(F)F)cc2Cl)c2ccccc12)C(F)(F)F>CN(C)C=O.ClCCl.ClCCl>CCCCCC(=O)OC(C)(c1cn(-c2c(Cl)cc(C(F)(F)F)cc2Cl)c2ccccc12)C(F)(F)F"
       ]
      },
      {
       "output_type": "stream",
       "stream": "stdout",
       "text": [
        "\n",
        "  [2.6.2] Esterification\n",
        "    [2.6] O-acylation to ester\n",
        "$$  2.01 s\n",
        "\n",
        "\n",
        "####  Line 54  ####\n",
        "IN :  c1cc(c(nc1)Cl)C(C(=O)O)Br.C(=O)(O)[O-].OS(=O)(=O)O.[Na+]>CO>COC(=O)C(c1cccnc1Cl)Br\n",
        "  [2.6.3] Fischer-Speier esterification\n",
        "OUT:  [Na+].O=C([O-])O.O=C(O)C(Br)c1cccnc1Cl.O=S(=O)(O)O>CO>COC(=O)C(Br)c1cccnc1Cl\n",
        "  [2.6.3] Fischer-Speier esterification\n",
        "    [2.6] O-acylation to ester\n",
        "$$  0.04 s\n",
        "\n",
        "\n",
        "####  Line 55  ####\n",
        "IN :  CCOC(=O)C.c1cc(ccc1S(=O)(=O)Cl)Br.c1cc(ncc1n2ccc(cc2=O)O)N3CCCC3.C(=O)([O-])[O-].[K+].[K+]>CC(=O)N(C)C.C(Cl)Cl.O>c1cc(ccc1S(=O)(=O)Oc2ccn(c(=O)c2)c3ccc(nc3)N4CCCC4)Br\n",
        "  [2.7.2] Sulfonic ester Schotten-Baumann\n",
        "OUT:  [K+].[K+].CCOC(C)=O.O=C([O-])[O-].O=c1cc(O)ccn1-c1ccc(N2CCCC2)nc1.O=S(=O)(Cl)c1ccc(Br)cc1>O.CC(=O)N(C)C.ClCCl>O=c1cc(OS(=O)(=O)c2ccc(Br)cc2)ccn1-c1ccc(N2CCCC2)nc1"
       ]
      },
      {
       "output_type": "stream",
       "stream": "stdout",
       "text": [
        "\n",
        "  [2.7.2] Sulfonic ester Schotten-Baumann\n",
        "    [2.7] O-sulfonylation\n",
        "$$  0.08 s\n",
        "\n",
        "\n",
        "####  Line 56  ####\n",
        "IN :  CC(=NO)c1ccccc1.CS(=O)(=O)Cl.c1ccncc1.c1ccncc1>>CC(=O)Nc1ccccc1\n",
        "  [2.8.1] Acyclic Beckmann rearrangement\n",
        "OUT:  CC(=NO)c1ccccc1.CS(=O)(=O)Cl.c1ccncc1.c1ccncc1>>CC(=O)Nc1ccccc1\n",
        "  [2.8.1] Acyclic Beckmann rearrangement\n",
        "    [2.8] Other acylation\n",
        "$$  0.01 s\n",
        "\n",
        "\n",
        "####  Line 57  ####\n",
        "IN :  B1(OC(C(O1)(C)C)(C)C)c2ccc(nc2)N3CCN(CC3)C.c1cc(c(cc1Cl)CN2CCNc3c2cc(cn3)I)Cl>c1ccc(cc1)P(c2ccccc2)c3ccccc3.c1ccc(cc1)P(c2ccccc2)c3ccccc3.Cl[Pd]Cl>CN1CCN(CC1)c2ccc(cn2)c3cc4c(nc3)NCCN4Cc5cc(ccc5Cl)Cl\n",
        "  [3.1] Suzuki coupling\n",
        "OUT:  CN1CCN(c2ccc(B3OC(C)(C)C(C)(C)O3)cn2)CC1.Clc1ccc(Cl)c(CN2CCNc3ncc(I)cc32)c1>Cl[Pd]Cl.c1ccc(P(c2ccccc2)c2ccccc2)cc1.c1ccc(P(c2ccccc2)c2ccccc2)cc1>CN1CCN(c2ccc(-c3cnc4c(c3)N(Cc3cc(Cl)ccc3Cl)CCN4)cn2)CC1"
       ]
      },
      {
       "output_type": "stream",
       "stream": "stdout",
       "text": [
        "\n",
        "  [3.1.3] Iodo Suzuki coupling\n",
        "    [3.1] Suzuki coupling\n",
        "$$  0.11 s\n",
        "\n",
        "\n",
        "####  Line 58  ####\n",
        "IN :  CCN(CC)CC.CC(OC(=O)Nc1c(cccc1)NC(=O)C=C)(C)C.c1c(ccc(c1)Br)C=O.[NH4+].[Cl-]>CN(C=O)C.c1ccc(cc1)/C=C/C(=O)/C=C/c2ccccc2.c1ccc(cc1)/C=C/C(=O)/C=C/c2ccccc2.c1ccc(cc1)/C=C/C(=O)/C=C/c2ccccc2.[Pd].[Pd]>CC(OC(=O)Nc1c(cccc1)NC(=O)/C=C/c2ccc(cc2)C=O)(C)C\n",
        "  [3.2] Heck reaction\n",
        "OUT:  [NH4+].[Cl-].C=CC(=O)Nc1ccccc1NC(=O)OC(C)(C)C.CCN(CC)CC.O=Cc1ccc(Br)cc1>[Pd].[Pd].CN(C)C=O.O=C(C=Cc1ccccc1)C=Cc1ccccc1.O=C(C=Cc1ccccc1)C=Cc1ccccc1.O=C(C=Cc1ccccc1)C=Cc1ccccc1>CC(C)(C)OC(=O)Nc1ccccc1NC(=O)C=Cc1ccc(C=O)cc1"
       ]
      },
      {
       "output_type": "stream",
       "stream": "stdout",
       "text": [
        "\n",
        "  [3.2.1] Bromo Heck reaction\n",
        "    [3.2] Heck reaction\n",
        "$$  0.72 s\n",
        "\n",
        "\n",
        "####  Line 59  ####\n",
        "IN :  C#CC=C1CCN(CC1)c2c(cccn2)[N+](=O)[O-].c1ccnc(c1)I>>c1ccnc(c1)C#CC=C2CCN(CC2)c3c(cccn3)[N+](=O)[O-]\n",
        "  [3.3] Sonogashira coupling\n",
        "OUT:  C#CC=C1CCN(c2ncccc2[N+](=O)[O-])CC1.Ic1ccccn1>>O=[N+]([O-])c1cccnc1N1CCC(=CC#Cc2ccccn2)CC1\n",
        "  [3.3.1] Sonogashira coupling\n",
        "    [3.3] Sonogashira reaction\n",
        "$$  0.03 s\n",
        "\n",
        "\n",
        "####  Line 60  ####\n",
        "IN :  CCCC[Sn](C#C)(CCCC)CCCC.CCOC(=O)C.CCOC(=O)c1nc(sc1I)N.c1coc(c1)P(c2occc2)c3occc3>CN1C(=O)CCC1.c1ccc(cc1)/C=C/C(=O)/C=C/c2ccccc2.c1ccc(cc1)/C=C/C(=O)/C=C/c2ccccc2.c1ccc(cc1)/C=C/C(=O)/C=C/c2ccccc2.[Cl-].[Cl-].[Zn+2].[Pd].[Pd]>CCOC(=O)c1nc(sc1C#C)N\n",
        "  [3.4] Stille reaction\n",
        "OUT:  C#C[Sn](CCCC)(CCCC)CCCC.CCOC(C)=O.CCOC(=O)c1nc(N)sc1I.c1coc(P(c2ccco2)c2ccco2)c1>[Cl-].[Cl-].[Zn+2].[Pd].[Pd].CN1CCCC1=O.O=C(C=Cc1ccccc1)C=Cc1ccccc1.O=C(C=Cc1ccccc1)C=Cc1ccccc1.O=C(C=Cc1ccccc1)C=Cc1ccccc1>C#Cc1sc(N)nc1C(=O)OCC"
       ]
      },
      {
       "output_type": "stream",
       "stream": "stdout",
       "text": [
        "\n",
        "  [3.4.1] Stille reaction\n",
        "    [3.4] Stille reaction\n",
        "$$  30.16 s\n",
        "\n",
        "\n",
        "####  Line 61  ####\n",
        "IN :  CCN(CC)CC.Cc1c(c2c(ncn(c2=O)C[C@H](CO)O)n(c1=O)C)Nc3ccc(cc3F)I.C[Si](C)(C)C#C>c1ccc(cc1)P(c2ccccc2)c3ccccc3.c1ccc(cc1)P(c2ccccc2)c3ccccc3.C1CCOC1.Cl[Pd]Cl.[Cu](I)I>Cc1c(c2c(ncn(c2=O)C[C@H](CO)O)n(c1=O)C)Nc3ccc(cc3F)C#C\n",
        "  [3.5.1] Hiyama coupling\n",
        "OUT:  C#C[Si](C)(C)C.CCN(CC)CC.Cc1c(Nc2ccc(I)cc2F)c2c(=O)n(CC(O)CO)cnc2n(C)c1=O>Cl[Pd]Cl.I[Cu]I.c1ccc(P(c2ccccc2)c2ccccc2)cc1.c1ccc(P(c2ccccc2)c2ccccc2)cc1.C1CCOC1>C#Cc1ccc(Nc2c(C)c(=O)n(C)c3ncn(CC(O)CO)c(=O)c23)c(F)c1"
       ]
      },
      {
       "output_type": "stream",
       "stream": "stdout",
       "text": [
        "\n",
        "  [3.5.1] Hiyama coupling\n",
        "    [3.5] Other Pd-catalyzed reactions (Negishi,Kumada,etc.)\n",
        "$$  0.19 s\n",
        "\n",
        "\n",
        "####  Line 62  ####\n",
        "IN :  CC[Mg+].Cc1cc(cc(n1)Cl)C(=O)OC(C)(C)C.[Br-]>CCOCC.CC(=CC(=O)C)[O-].CC(=CC(=O)C)[O-].CC(=CC(=O)C)[O-].CN1CCCC1=O.C1CCOC1.[Fe+3]>CCc1cc(cc(n1)C)C(=O)OC(C)(C)C\n",
        "  [3.5.2] Kumada coupling\n",
        "OUT:  [Br-].CC[Mg+].Cc1cc(C(=O)OC(C)(C)C)cc(Cl)n1>[Fe+3].CCOCC.CC(=O)C=C(C)[O-].CC(=O)C=C(C)[O-].CC(=O)C=C(C)[O-].CN1CCCC1=O.C1CCOC1>CCc1cc(C(=O)OC(C)(C)C)cc(C)n1"
       ]
      },
      {
       "output_type": "stream",
       "stream": "stdout",
       "text": [
        "\n",
        "  [3.5.2] Kumada coupling\n",
        "    [3.5] Other Pd-catalyzed reactions (Negishi,Kumada,etc.)\n",
        "$$  0.41 s\n",
        "\n",
        "\n",
        "####  Line 63  ####\n",
        "IN :  Cc1cc(cnc1)c2cc(c(nc2)Cl)C(=O)OC.C1CCC(C1)[Zn+].[Br-]>c1ccc(cc1)[P](c2ccccc2)(c3ccccc3)[Pd]([P](c4ccccc4)(c5ccccc5)c6ccccc6)([P](c7ccccc7)(c8ccccc8)c9ccccc9)[P](c1ccccc1)(c1ccccc1)c1ccccc1.C1COCCO1>Cc1cc(cnc1)c2cc(c(nc2)C3CCCC3)C(=O)OC\n",
        "  [3.5.3] Negishi coupling\n",
        "OUT:  [Br-].COC(=O)c1cc(-c2cncc(C)c2)cnc1Cl.[Zn+]C1CCCC1>c1ccc([PH](c2ccccc2)(c2ccccc2)[Pd]([PH](c2ccccc2)(c2ccccc2)c2ccccc2)([PH](c2ccccc2)(c2ccccc2)c2ccccc2)[PH](c2ccccc2)(c2ccccc2)c2ccccc2)cc1.C1COCCO1>COC(=O)c1cc(-c2cncc(C)c2)cnc1C1CCCC1"
       ]
      },
      {
       "output_type": "stream",
       "stream": "stdout",
       "text": [
        "\n",
        "  [3.5.3] Negishi coupling\n",
        "    [3.5] Other Pd-catalyzed reactions (Negishi,Kumada,etc.)\n",
        "$$  0.10 s\n",
        "\n",
        "\n",
        "####  Line 64  ####\n",
        "IN :  C[Mg+].c1ccc(cc1)CN2CCC(=O)C2.[Br-]>CCOCC.C1CCOC1>CC1(CCN(C1)Cc2ccccc2)O\n",
        "  [3.7] Grignard reaction\n",
        "OUT:  [Br-].C[Mg+].O=C1CCN(Cc2ccccc2)C1>CCOCC.C1CCOC1>CC1(O)CCN(Cc2ccccc2)C1\n",
        "  [3.7.1] Grignard reaction\n",
        "    [3.7] Grignard reaction\n",
        "$$  0.02 s\n",
        "\n",
        "\n",
        "####  Line 65  ####\n",
        "IN :  C[C@]12CC[C@H](C[C@H]1CC[C@@H]3C2=CC[C@]4([C@H]3CCC4=O)C)O.CC(C)(C)[O-].[K+]>CC[P+](c1ccccc1)(c2ccccc2)c3ccccc3.C1CCOC1.[Br-]>C/C=C\\1/CC[C@@H]2[C@@]1(CC=C3[C@H]2CC[C@H]4[C@@]3(CC[C@H](C4)O)C)C\n",
        "  [3.8] Wittig olefination\n",
        "OUT:  [K+].CC(C)(C)[O-].CC12CC=C3C(CCC4CC(O)CCC34C)C1CCC2=O>[Br-].CC[P+](c1ccccc1)(c1ccccc1)c1ccccc1.C1CCOC1>CC=C1CCC2C3CCC4CC(O)CCC4(C)C3=CCC12C"
       ]
      },
      {
       "output_type": "stream",
       "stream": "stdout",
       "text": [
        "\n",
        "  [3.8.1] Wittig olefination\n",
        "    [3.8] Wittig olefination\n",
        "$$  0.05 s\n",
        "\n",
        "\n",
        "####  Line 66  ####\n",
        "IN :  C=CCCCBr.c1ccc-2c(c1)Cc3c2ccc(c3)C=O.[Mg]>CCOCC.COCCOCCOC.C(Cl)Cl>C=CCCCC(c1ccc-2c(c1)Cc3c2cccc3)O\n",
        "  [3.9.1] Bromo aldehyde Barbier reaction\n",
        "OUT:  [Mg].C=CCCCBr.O=Cc1ccc2c(c1)Cc1ccccc1-2>CCOCC.COCCOCCOC.ClCCl>C=CCCCC(O)c1ccc2c(c1)Cc1ccccc1-2\n",
        "  [3.9.1] Bromo aldehyde Barbier reaction\n",
        "    [3.9] Other organometallic C-C bond formation\n",
        "$$  0.03 s\n",
        "\n",
        "\n",
        "####  Line 67  ####\n",
        "IN :  CCOCC.CCOC(=O)CBr.c1cc2c(cc1Br)c(=O)c3cc(ncc3o2)Cl.[Br]>C1CCOC1.[Zn]>CCOC(=O)CC1(c2cc(ccc2Oc3c1cc(nc3)Cl)Br)O\n",
        "  [3.9.2] Bromo ketone Barbier reaction\n",
        "OUT:  [Br].CCOCC.CCOC(=O)CBr.O=c1c2cc(Cl)ncc2oc2ccc(Br)cc21>[Zn].C1CCOC1>CCOC(=O)CC1(O)c2cc(Cl)ncc2Oc2ccc(Br)cc21"
       ]
      },
      {
       "output_type": "stream",
       "stream": "stdout",
       "text": [
        "\n",
        "  [0.0] Unrecognized\n",
        "    [0] Unassigned\n",
        "$$  0.62 s\n",
        "\n",
        "\n",
        "####  Line 68  ####\n",
        "IN :  CC(C)[C@@H]1C[C@H](N([C@H]1c2ccc(c(c2)OCCCOC)OC)C(=O)OC(C)(C)C)C=O.CC(C)[C@@H](COCc1ccccc1)CCl.C(CBr)Br.[Mg]>C1CCOC1>CC(C)[C@@H]1C[C@H](N([C@H]1c2ccc(c(c2)OCCCOC)OC)C(=O)OC(C)(C)C)[C@H](C[C@H](COCc3ccccc3)C(C)C)O\n",
        "  [3.9.3] Chloro aldehyde Barbier reaction\n",
        "OUT:  [Mg].COCCCOc1cc(C2C(C(C)C)CC(C=O)N2C(=O)OC(C)(C)C)ccc1OC.CC(C)C(CCl)COCc1ccccc1.BrCCBr>C1CCOC1>COCCCOc1cc(C2C(C(C)C)CC(C(O)CC(COCc3ccccc3)C(C)C)N2C(=O)OC(C)(C)C)ccc1OC"
       ]
      },
      {
       "output_type": "stream",
       "stream": "stdout",
       "text": [
        "\n",
        "  [3.9.3] Chloro aldehyde Barbier reaction\n",
        "    [3.9] Other organometallic C-C bond formation\n",
        "$$  0.09 s\n",
        "\n",
        "\n",
        "####  Line 69  ####\n",
        "IN :  CC(C)(C)OC(=O)N1CCC[C@H](C1)C(=O)c2cccc(c2F)Cl.COCCCCCl.[Mg]>C1CCOC1>CC(C)(C)OC(=O)N1CCC[C@H](C1)[C@@](CCCCOC)(c2cccc(c2F)Cl)O\n",
        "  [3.9.4] Chloro ketone Barbier reaction\n",
        "OUT:  [Mg].COCCCCCl.CC(C)(C)OC(=O)N1CCCC(C(=O)c2cccc(Cl)c2F)C1>C1CCOC1>COCCCCC(O)(c1cccc(Cl)c1F)C1CCCN(C(=O)OC(C)(C)C)C1\n",
        "  [3.9.4] Chloro ketone Barbier reaction\n",
        "    [3.9] Other organometallic C-C bond formation\n",
        "$$  0.05 s\n",
        "\n",
        "\n",
        "####  Line 70  ####\n",
        "IN :  CCOC(=O)c1c(nc(n1CC#CC)N2CCN(CC2)C(=O)OC(C)(C)C)C=O.CN(C)C=O.C(F)(F)(F)I.[NH4+].[Cl-]>CCOC(=O)C.[Zn]>CCOC(=O)c1c(nc(n1CC#CC)N2CCN(CC2)C(=O)OC(C)(C)C)C(C(F)(F)F)O\n",
        "  [3.9.5] Iodo aldehyde Barbier reaction\n",
        "OUT:  [NH4+].[Cl-].CC#CCn1c(C(=O)OCC)c(C=O)nc1N1CCN(C(=O)OC(C)(C)C)CC1.CN(C)C=O.FC(F)(F)I>[Zn].CCOC(C)=O>CC#CCn1c(N2CCN(C(=O)OC(C)(C)C)CC2)nc(C(O)C(F)(F)F)c1C(=O)OCC"
       ]
      },
      {
       "output_type": "stream",
       "stream": "stdout",
       "text": [
        "\n",
        "  [3.9.5] Iodo aldehyde Barbier reaction\n",
        "    [3.9] Other organometallic C-C bond formation\n",
        "$$  0.09 s\n",
        "\n",
        "\n",
        "####  Line 71  ####\n",
        "IN :  CC(=C)CI.c1ccc(cc1)C(=O)CCCl.[NH4+].[Cl-]>C1CCOC1.[Zn]>CC(=C)CC(CCCl)(c1ccccc1)O\n",
        "  [3.9.6] Iodo ketone Barbier reaction\n",
        "OUT:  [NH4+].[Cl-].C=C(C)CI.O=C(CCCl)c1ccccc1>[Zn].C1CCOC1>C=C(C)CC(O)(CCCl)c1ccccc1\n",
        "  [3.9.6] Iodo ketone Barbier reaction\n",
        "    [3.9] Other organometallic C-C bond formation\n",
        "$$  0.02 s\n",
        "\n",
        "\n",
        "####  Line 72  ####\n",
        "IN :  C=CCC1(c2ccccc2Cc3ccc(cc3C1=O)F)CC=C>C(Cl)Cl>c1ccc2c(c1)Cc3ccc(cc3C(=O)C24CC=CC4)F\n",
        "  [3.9.11] Olefin metathesis\n",
        "OUT:  C=CCC1(CC=C)c2ccccc2Cc2ccc(F)cc2C1=O>ClCCl>O=C1c2cc(F)ccc2Cc2ccccc2C12CC=CC2\n",
        "  [3.9.12] Olefin metathesis\n",
        "    [3.9] Other organometallic C-C bond formation\n",
        "$$  0.03 s\n",
        "\n",
        "\n",
        "####  Line 73  ####\n",
        "IN :  CN(C(=O)c1csc(n1)Cc2cc(ccc2OCc3ccccc3)Cl)OC.C[Mg+].[Br-]>CCOCC.C1CCOC1>CC(=O)c1csc(n1)Cc2cc(ccc2OCc3ccccc3)Cl\n",
        "  [3.9.12] Weinreb ketone synthesis\n",
        "OUT:  [Br-].C[Mg+].CON(C)C(=O)c1csc(Cc2cc(Cl)ccc2OCc2ccccc2)n1>CCOCC.C1CCOC1>CC(=O)c1csc(Cc2cc(Cl)ccc2OCc2ccccc2)n1"
       ]
      },
      {
       "output_type": "stream",
       "stream": "stdout",
       "text": [
        "\n",
        "  [3.9.13] Weinreb ketone synthesis\n",
        "    [3.9] Other organometallic C-C bond formation\n",
        "$$  0.03 s\n",
        "\n",
        "\n",
        "####  Line 74  ####\n",
        "IN :  Cc1ccccc1.CC1CCC(=O)C(=C1)C.CC(=C)C=C.[Al](Cl)(Cl)Cl>>CC1CCC(=O)C2(C1CC(=CC2)C)C\n",
        "  [3.11.1] Diels-Alder cycloaddition\n",
        "OUT:  C=CC(=C)C.Cc1ccccc1.CC1=CC(C)CCC1=O.Cl[Al](Cl)Cl>>CC1=CCC2(C)C(=O)CCC(C)C2C1\n",
        "  [3.11.3] Diels-Alder cycloaddition\n",
        "    [3.11] Other C-C bond formation\n",
        "$$  0.01 s\n",
        "\n",
        "\n",
        "####  Line 75  ####\n",
        "IN :  [Li]CCCC.CC(C)NC(C)C.CC(C)(C)OC(=O)N1CC(=O)C1.Cn1c(nc2c1nc(nc2N3CCOCC3)Cl)CP(=O)(OC)OC>C1CCOC1>CC(C)(C)OC(=O)N1CC(=Cc2nc3c(n2C)nc(nc3N4CCOCC4)Cl)C1\n",
        "  [3.11.3] Horner-Wadsworth-Emmons reaction\n",
        "OUT:  [Li]CCCC.COP(=O)(Cc1nc2c(nc(Cl)nc2N2CCOCC2)n1C)OC.CC(C)NC(C)C.CC(C)(C)OC(=O)N1CC(=O)C1>C1CCOC1>Cn1c(C=C2CN(C(=O)OC(C)(C)C)C2)nc2c1nc(Cl)nc2N1CCOCC1"
       ]
      },
      {
       "output_type": "stream",
       "stream": "stdout",
       "text": [
        "\n",
        "  [3.11.5] Horner-Wadsworth-Emmons reaction\n",
        "    [3.11] Other C-C bond formation\n",
        "$$  0.12 s\n",
        "\n",
        "\n",
        "####  Line 76  ####\n",
        "IN :  Cc1ccc2c(c1)c(cn2CCCc3ccc(nc3)C)CCNC.C=O.C(=O)(C(F)(F)F)O>CC#N>Cc1ccc2c(c1)c3c(n2CCCc4ccc(nc4)C)CN(CC3)C\n",
        "  [3.11.4] Mannich reaction\n",
        "OUT:  C=O.CNCCc1cn(CCCc2ccc(C)nc2)c2ccc(C)cc12.O=C(O)C(F)(F)F>CC#N>Cc1ccc2c(c1)c1c(n2CCCc2ccc(C)nc2)CN(C)CC1"
       ]
      },
      {
       "output_type": "stream",
       "stream": "stdout",
       "text": [
        "\n",
        "  [3.11.6] Mannich reaction\n",
        "    [3.11] Other C-C bond formation\n",
        "$$  0.06 s\n",
        "\n",
        "\n",
        "####  Line 77  ####\n",
        "IN :  CCOC(=O)CC(=O)C.CC(=O)CC1=CCCC1.CC(=O)C=C1CCCC1>CCCCCCC.c1ccccc1.[Cl-].[Cl-].[Zn+2]>CCOC(=O)C1C(=CC(=O)CC12CCCC2)C\n",
        "  [3.11.5] Robinson annulation\n",
        "OUT:  CCOC(=O)CC(C)=O.CC(=O)C=C1CCCC1.CC(=O)CC1=CCCC1>[Cl-].[Cl-].[Zn+2].CCCCCCC.c1ccccc1>CCOC(=O)C1C(C)=CC(=O)CC12CCCC2"
       ]
      },
      {
       "output_type": "stream",
       "stream": "stdout",
       "text": [
        "\n",
        "  [3.11.7] Robinson annulation\n",
        "    [3.11] Other C-C bond formation\n",
        "$$  0.16 s\n",
        "\n",
        "\n",
        "####  Line 78  ####\n",
        "IN :  CC(C)CN.c1cc(c(c(c1)F)C=O)F.C(#N)[Na]>CO.O>CC(C)CNC(C#N)c1c(cccc1F)F\n",
        "  [3.11.8] Strecker aldehyde reaction\n",
        "OUT:  CC(C)CN.N#C[Na].O=Cc1c(F)cccc1F>O.CO>CC(C)CNC(C#N)c1c(F)cccc1F\n",
        "  [3.11.10] Strecker aldehyde reaction\n",
        "    [3.11] Other C-C bond formation\n",
        "$$  0.04 s\n",
        "\n",
        "\n",
        "####  Line 79  ####\n",
        "IN :  CNC(=O)CCCc1ccc(cc1F)N.C[Si](C)(C)C#N.C1CC(=O)C1>CCOC(=O)C>CNC(=O)CCCc1ccc(cc1F)NC2(CCC2)C#N\n",
        "  [3.11.9] Strecker ketone reaction\n",
        "OUT:  CNC(=O)CCCc1ccc(N)cc1F.C[Si](C)(C)C#N.O=C1CCC1>CCOC(C)=O>CNC(=O)CCCc1ccc(NC2(C#N)CCC2)cc1F"
       ]
      },
      {
       "output_type": "stream",
       "stream": "stdout",
       "text": [
        "\n",
        "  [3.11.11] Strecker ketone reaction\n",
        "    [3.11] Other C-C bond formation\n",
        "$$  0.11 s\n",
        "\n",
        "\n",
        "####  Line 80  ####\n",
        "IN :  CCP(c1ccccc1)c2ccccc2.CC(=C)C(=C)C.C[Si](C)(C)C#C>C(Cl)Cl.[Zn+2].[I-].[I-]>CC1=C(CC(=CC1)[Si](C)(C)C)C\n",
        "  [3.11.10] Triple bond Diels-Alder\n",
        "OUT:  C#C[Si](C)(C)C.C=C(C)C(=C)C.CCP(c1ccccc1)c1ccccc1>[Zn+2].[I-].[I-].ClCCl>CC1=C(C)CC([Si](C)(C)C)=CC1\n",
        "  [3.11.12] Triple bond Diels-Alder\n",
        "    [3.11] Other C-C bond formation\n",
        "$$  0.02 s\n",
        "\n",
        "\n",
        "####  Line 81  ####\n",
        "IN :  C#Cc1ccccc1.C1C2CC3CC1CC(C2)(C3)N=[N+]=[N-]>C1CCOC1>c1ccc(cc1)c2cnnn2C34CC5CC(C3)CC(C5)C4\n",
        "  [4.1.1] 1,2,3-Triazole synthesis\n",
        "OUT:  C#Cc1ccccc1.[N-]=[N+]=NC12CC3CC(CC(C3)C1)C2>C1CCOC1>c1nnn(C23CC4CC(CC(C4)C2)C3)c1-c1ccccc1\n",
        "  [4.1.1] 1,2,3-Triazole synthesis\n",
        "    [4.1] N-containing heterocycle formation\n",
        "$$  0.02 s\n",
        "\n",
        "\n",
        "####  Line 82  ####\n",
        "IN :  CCCCCCCCN.C[Si](C)(C)N[Si](C)(C)C.C1=CC(=O)OC1=O.Cl>c1ccccc1.[Zn+2].[Br-].[Br-]>CCCCCCCCN1C(=O)C=CC1=O\n",
        "  [4.1.2] 2,5-Pyrroledione synthesis\n",
        "OUT:  Cl.CCCCCCCCN.C[Si](C)(C)N[Si](C)(C)C.O=C1C=CC(=O)O1>[Zn+2].[Br-].[Br-].c1ccccc1>CCCCCCCCN1C(=O)C=CC1=O"
       ]
      },
      {
       "output_type": "stream",
       "stream": "stdout",
       "text": [
        "\n",
        "  [4.1.2] 2,5-Pyrroledione synthesis\n",
        "    [4.1] N-containing heterocycle formation\n",
        "$$  0.29 s\n",
        "\n",
        "\n",
        "####  Line 83  ####\n",
        "IN :  C[C@H](c1ccccc1)N.C=C(CC(=O)O)C(=O)O.O>CN1CCN(C1=O)C>C[C@H](c1ccccc1)N2C[C@@H](CC2=O)C(=O)O\n",
        "  [4.1.3] 2-Pyrrolidone synthesis\n",
        "OUT:  O.C=C(CC(=O)O)C(=O)O.CC(N)c1ccccc1>CN1CCN(C)C1=O>CC(c1ccccc1)N1CC(C(=O)O)CC1=O"
       ]
      },
      {
       "output_type": "stream",
       "stream": "stdout",
       "text": [
        "\n",
        "  [4.1.3] 2-Pyrrolidone synthesis\n",
        "    [4.1] N-containing heterocycle formation\n",
        "$$  0.08 s\n",
        "\n",
        "\n",
        "####  Line 84  ####\n",
        "IN :  C#CCCCc1c[nH]c(n1)N.c1cscc1CN=[N+]=[N-].Cl>>c1cscc1Cn2cc(nn2)CCCc3c[nH]c(n3)N.Cl\n",
        "  [4.1.4] Azide-Alkyne Huisgen cycloaddition\n",
        "OUT:  Cl.C#CCCCc1c[nH]c(N)n1.[N-]=[N+]=NCc1ccsc1>>Cl.Nc1nc(CCCc2cn(Cc3ccsc3)nn2)c[nH]1\n",
        "  [4.1.4] Azide-Alkyne Huisgen cycloaddition\n",
        "    [4.1] N-containing heterocycle formation\n",
        "$$  0.03 s\n",
        "\n",
        "\n",
        "####  Line 85  ####\n",
        "IN :  C/C=C/C=O.c1cc(c(cc1F)N)Br.[NH4+].O.[OH-]>CCOCC.Cl>Cc1ccc2c(ccc(c2n1)Br)F\n",
        "  [4.1.6] Doebner-Miller reaction\n",
        "OUT:  [NH4+].[OH-].O.CC=CC=O.Nc1cc(F)ccc1Br>Cl.CCOCC>Cc1ccc2c(F)ccc(Br)c2n1"
       ]
      },
      {
       "output_type": "stream",
       "stream": "stdout",
       "text": [
        "\n",
        "  [4.1.7] Doebner-Miller reaction\n",
        "    [4.1] N-containing heterocycle formation\n",
        "$$  0.04 s\n",
        "\n",
        "\n",
        "####  Line 86  ####\n",
        "IN :  CC(=O)CC(=O)C.Cn1cnc2c1nc(nc2Nc3ccc(cc3)C(F)(F)F)NN>>Cc1cc(n(n1)c2nc(c3c(n2)n(cn3)C)Nc4ccc(cc4)C(F)(F)F)C\n",
        "  [4.1.7] Knorr pyrazole synthesis\n",
        "OUT:  CC(=O)CC(C)=O.Cn1cnc2c1nc(NN)nc2Nc1ccc(C(F)(F)F)cc1>>Cc1cc(C)n(-c2nc3c(ncn3C)c(Nc3ccc(C(F)(F)F)cc3)n2)n1"
       ]
      },
      {
       "output_type": "stream",
       "stream": "stdout",
       "text": [
        "\n",
        "  [4.1.8] Knorr pyrazole synthesis\n",
        "    [4.1] N-containing heterocycle formation\n",
        "$$  0.05 s\n",
        "\n",
        "\n",
        "####  Line 87  ####\n",
        "IN :  c1ccc(cc1)NC(=O)CC(=O)CBr.OS(=O)(=O)O>>c1ccc2c(c1)c(cc(=O)[nH]2)CBr\n",
        "  [4.1.8] Knorr quinoline cyclization\n",
        "OUT:  O=C(CBr)CC(=O)Nc1ccccc1.O=S(=O)(O)O>>O=c1cc(CBr)c2ccccc2[nH]1\n",
        "  [4.1.9] Knorr quinoline cyclization\n",
        "    [4.1] N-containing heterocycle formation\n",
        "$$  0.03 s\n",
        "\n",
        "\n",
        "####  Line 88  ####\n",
        "IN :  CCN(CC)CC.C#CCCC(=O)O.c1c(cc(c(c1F)N)I)Br>CN(C)C=O.c1ccc(cc1)P(c2ccccc2)c3ccccc3.c1ccc(cc1)P(c2ccccc2)c3ccccc3.[Cl-].[Cl-].[Cu]I.[Pd+2]>c1c2cc([nH]c2c(cc1Br)F)CCC(=O)O\n",
        "  [4.1.10] Larock indole synthesis\n",
        "OUT:  C#CCCC(=O)O.CCN(CC)CC.Nc1c(F)cc(Br)cc1I>[Cl-].[Cl-].[Pd+2].CN(C)C=O.[Cu]I.c1ccc(P(c2ccccc2)c2ccccc2)cc1.c1ccc(P(c2ccccc2)c2ccccc2)cc1>O=C(O)CCc1cc2cc(Br)cc(F)c2[nH]1"
       ]
      },
      {
       "output_type": "stream",
       "stream": "stdout",
       "text": [
        "\n",
        "  [0.0] Unrecognized\n",
        "    [0] Unassigned\n",
        "$$  5.29 s\n",
        "\n",
        "\n",
        "####  Line 89  ####\n",
        "IN :  CC(C)(C)OC(=O)NC(=N)N.COc1ccc(c2c1nc(s2)NC(=O)OC)C(=O)CBr>CC#N>CC(C)(C)OC(=O)Nc1[nH]cc(n1)c2ccc(c3c2sc(n3)NC(=O)OC)OC\n",
        "  [4.1.11] Imidazole synthesis\n",
        "OUT:  COC(=O)Nc1nc2c(s1)c(C(=O)CBr)ccc2OC.CC(C)(C)OC(=O)NC(=N)N>CC#N>COC(=O)Nc1nc2c(s1)c(-c1c[nH]c(NC(=O)OC(C)(C)C)n1)ccc2OC"
       ]
      },
      {
       "output_type": "stream",
       "stream": "stdout",
       "text": [
        "\n",
        "  [4.1.12] Imidazole synthesis\n",
        "    [4.1] N-containing heterocycle formation\n",
        "$$  0.15 s\n",
        "\n",
        "\n",
        "####  Line 90  ####\n",
        "IN :  CC(C)(C)[O-].c1cc(c(cc1I)C=O)F.C1CCC(C1)NN.C(=O)([O-])[O-].[K+].[Cs+].[Cs+]>CCOC(=O)C.CC#N.CN1CCCC1=O.CN(C)C=O>c1cc2c(cc1I)cnn2C3CCCC3\n",
        "  [4.1.12] Indazole synthesis\n",
        "OUT:  [K+].[Cs+].[Cs+].CC(C)(C)[O-].NNC1CCCC1.O=Cc1cc(I)ccc1F.O=C([O-])[O-]>CC#N.CCOC(C)=O.CN(C)C=O.CN1CCCC1=O>Ic1ccc2c(cnn2C2CCCC2)c1"
       ]
      },
      {
       "output_type": "stream",
       "stream": "stdout",
       "text": [
        "\n",
        "  [4.1.13] Indazole synthesis\n",
        "    [4.1] N-containing heterocycle formation\n",
        "$$  0.34 s\n",
        "\n",
        "\n",
        "####  Line 91  ####\n",
        "IN :  CC(=O)[O-].c1cc(ccc1C(CC2CCOCC2)C(=O)CCC(=O)c3ccc(cn3)F)S(=O)(=O)C4CC4.[NH4+]>CCOC(=O)C.CC(=O)O>c1cc(ccc1C(CC2CCOCC2)c3ccc([nH]3)c4ccc(cn4)F)S(=O)(=O)C5CC5\n",
        "  [4.1.13] Paal-Knorr pyrrole synthesis\n",
        "OUT:  [NH4+].CC(=O)[O-].O=C(CCC(=O)C(CC1CCOCC1)c1ccc(S(=O)(=O)C2CC2)cc1)c1ccc(F)cn1>CCOC(C)=O.CC(=O)O>O=S(=O)(c1ccc(C(CC2CCOCC2)c2ccc(-c3ccc(F)cn3)[nH]2)cc1)C1CC1"
       ]
      },
      {
       "output_type": "stream",
       "stream": "stdout",
       "text": [
        "\n",
        "  [4.1.14] Paal-Knorr pyrrole synthesis\n",
        "    [4.1] N-containing heterocycle formation\n",
        "$$  0.17 s\n",
        "\n",
        "\n",
        "####  Line 92  ####\n",
        "IN :  [Li+].CC(C)[N-]C(C)C.COC(=O)C#C.C[Si](C)(C)C=[N+]=[N-].Cl>CCOC(=O)C.C1CCOC1.O>COC(=O)c1cc(n[nH]1)[Si](C)(C)C\n",
        "  [4.1.14] Pechmann pyrazole synthesis\n",
        "OUT:  [Li+].Cl.C#CC(=O)OC.CC(C)[N-]C(C)C.C[Si](C)(C)C=[N+]=[N-]>O.CCOC(C)=O.C1CCOC1>COC(=O)c1cc([Si](C)(C)C)n[nH]1\n",
        "  [4.1.15] Pechmann pyrazole synthesis\n",
        "    [4.1] N-containing heterocycle formation\n",
        "$$  0.04 s\n",
        "\n",
        "\n",
        "####  Line 93  ####\n",
        "IN :  c1cc(c(c(c1N)NCCO)Cl)F.C(=O)O>>c1cc(c(c2c1ncn2CCO)Cl)F\n",
        "  [4.1.15] Phillips benzimidazole condensation\n",
        "OUT:  Nc1ccc(F)c(Cl)c1NCCO.O=CO>>OCCn1cnc2ccc(F)c(Cl)c21"
       ]
      },
      {
       "output_type": "stream",
       "stream": "stdout",
       "text": [
        "\n",
        "  [4.1.16] Phillips benzimidazole condensation\n",
        "    [4.1] N-containing heterocycle formation\n",
        "$$  0.03 s\n",
        "\n",
        "\n",
        "####  Line 94  ####\n",
        "IN :  CCO.Cc1nccn1c2ccc(cc2)NC(=N)N.c1cc(ccc1CC(=O)C2CC(CCC2=O)C(F)(F)F)F.C(=O)([O-])[O-].[K+].[K+]>C(Cl)Cl.O>Cc1nccn1c2ccc(cc2)Nc3nc4c(c(n3)Cc5ccc(cc5)F)CC(CC4)C(F)(F)F\n",
        "  [4.1.16] Pinner pyrimidine synthesis\n",
        "OUT:  [K+].[K+].CCO.Cc1nccn1-c1ccc(NC(=N)N)cc1.O=C([O-])[O-].O=C(Cc1ccc(F)cc1)C1CC(C(F)(F)F)CCC1=O>O.ClCCl>Cc1nccn1-c1ccc(Nc2nc(Cc3ccc(F)cc3)c3c(n2)CCC(C(F)(F)F)C3)cc1"
       ]
      },
      {
       "output_type": "stream",
       "stream": "stdout",
       "text": [
        "\n",
        "  [4.1.19] Pinner pyrimidine synthesis\n",
        "    [4.1] N-containing heterocycle formation\n",
        "$$  0.33 s\n",
        "\n",
        "\n",
        "####  Line 95  ####\n",
        "IN :  CCN(C(C)C)C(C)C.Cc1ccc(cc1)S(=O)(=O)N(CCCl)CCCl.C[C@@H](c1ccc(cc1)Br)N>C(Cl)Cl>Cc1ccc(cc1)S(=O)(=O)N2CCN(CC2)[C@@H](C)c3ccc(cc3)Br\n",
        "  [4.1.17] Piperazine synthesis\n",
        "OUT:  CCN(C(C)C)C(C)C.Cc1ccc(S(=O)(=O)N(CCCl)CCCl)cc1.CC(N)c1ccc(Br)cc1>ClCCl>Cc1ccc(S(=O)(=O)N2CCN(C(C)c3ccc(Br)cc3)CC2)cc1"
       ]
      },
      {
       "output_type": "stream",
       "stream": "stdout",
       "text": [
        "\n",
        "  [4.1.20] Piperazine synthesis\n",
        "    [4.1] N-containing heterocycle formation\n",
        "$$  0.16 s\n",
        "\n",
        "\n",
        "####  Line 96  ####\n",
        "IN :  CCn1c2c(cn1)c(c(c(n2)C)CN)NC3CCOCC3.C(CCCl)CC(=O)Cl>>CCn1c2c(cn1)c(c(c(n2)C)CN3CCCCC3=O)NC4CCOCC4\n",
        "  [4.1.18] Piperidine synthesis\n",
        "OUT:  CCn1ncc2c1nc(C)c(CN)c2NC1CCOCC1.O=C(Cl)CCCCCl>>CCn1ncc2c1nc(C)c(CN1CCCCC1=O)c2NC1CCOCC1"
       ]
      },
      {
       "output_type": "stream",
       "stream": "stdout",
       "text": [
        "\n",
        "  [4.1.21] Piperidine synthesis\n",
        "    [4.1] N-containing heterocycle formation\n",
        "$$  0.06 s\n",
        "\n",
        "\n",
        "####  Line 97  ####\n",
        "IN :  [H-].CCN(C(C)C)C(C)C.Cc1c(cccc1N2Cc3ccccc3C2=O)c4ccc(c5c4c6ccc(cc6[nH]5)CN)C(=O)N.C(CC(=O)Cl)CBr.[Na+]>CCOC(=O)C.C1CCOC1.C(Cl)Cl.O>Cc1c(cccc1N2Cc3ccccc3C2=O)c4ccc(c5c4c6ccc(cc6[nH]5)CN7CCCC7=O)C(=O)N\n",
        "  [4.1.19] Pyrroldine synthesis\n",
        "OUT:  [H-].[Na+].CCN(C(C)C)C(C)C.Cc1c(-c2ccc(C(N)=O)c3[nH]c4cc(CN)ccc4c32)cccc1N1Cc2ccccc2C1=O.O=C(Cl)CCCBr>O.CCOC(C)=O.ClCCl.C1CCOC1>Cc1c(-c2ccc(C(N)=O)c3[nH]c4cc(CN5CCCC5=O)ccc4c32)cccc1N1Cc2ccccc2C1=O"
       ]
      },
      {
       "output_type": "stream",
       "stream": "stdout",
       "text": [
        "\n",
        "  [4.1.22] Pyrroldine synthesis\n",
        "    [4.1] N-containing heterocycle formation\n",
        "$$  1.05 s\n",
        "\n",
        "\n",
        "####  Line 98  ####\n",
        "IN :  c1cc(cc(c1)S(=O)(=O)[O-])[N+](=O)[O-].c1cc(c(cc1Br)N)F.C(C(CO)O)O.OS(=O)(=O)O.[Na+]>[OH-].[Na+]>c1cc2c(ccc(c2nc1)F)Br\n",
        "  [4.1.20] Skraup reaction\n",
        "OUT:  [Na+].Nc1cc(Br)ccc1F.O=[N+]([O-])c1cccc(S(=O)(=O)[O-])c1.O=S(=O)(O)O.OCC(O)CO>[OH-].[Na+]>Fc1ccc(Br)c2cccnc12"
       ]
      },
      {
       "output_type": "stream",
       "stream": "stdout",
       "text": [
        "\n",
        "  [0.0] Unrecognized\n",
        "    [0] Unassigned\n",
        "$$  0.72 s\n",
        "\n",
        "\n",
        "####  Line 99  ####\n",
        "IN :  [Li+].c1ccc(cc1)C#N.[NH4+].[N-]=[N+]=N[Na].[Cl-].[Cl-]>CN(C)C=O>c1ccc(cc1)c2[nH]nnn2\n",
        "  [4.1.21] Tetrazole synthesis\n",
        "OUT:  [Li+].[NH4+].[Cl-].[Cl-].N#Cc1ccccc1.[N-]=[N+]=N[Na]>CN(C)C=O>c1ccc(-c2nnn[nH]2)cc1"
       ]
      },
      {
       "output_type": "stream",
       "stream": "stdout",
       "text": [
        "\n",
        "  [0.0] Unrecognized\n",
        "    [0] Unassigned\n",
        "$$  0.17 s\n",
        "\n",
        "\n",
        "####  Line 100  ####\n",
        "IN :  CCCc1c(c(=O)n(c(n1)C)Cc2ccccn2)Cc3ccc(cc3)c4ccccc4C#N.CS(=O)C.C(=O)(O)[O-].[NH3+]O.[Na+].[Cl-]>CCOC(=O)C>CCCc1c(c(=O)n(c(n1)C)Cc2ccccn2)Cc3ccc(cc3)c4ccccc4c5[nH]c(=O)on5\n",
        "  [4.2.1] 1,2,4-Oxadiazol-5-one synthesis\n",
        "OUT:  [Na+].[Cl-].CCCc1nc(C)n(Cc2ccccn2)c(=O)c1Cc1ccc(-c2ccccc2C#N)cc1.CS(C)=O.[NH3+]O.O=C([O-])O>CCOC(C)=O>CCCc1nc(C)n(Cc2ccccn2)c(=O)c1Cc1ccc(-c2ccccc2-c2noc(=O)[nH]2)cc1"
       ]
      },
      {
       "output_type": "stream",
       "stream": "stdout",
       "text": [
        "\n",
        "  [4.2.1] 1,2,4-Oxadiazol-5-one synthesis\n",
        "    [4.2] O-containing heterocycle formation\n",
        "$$  0.08 s\n",
        "\n",
        "\n",
        "####  Line 101  ####\n",
        "IN :  Cc1ccc(cc1)S(=O)(=O)O.Cc1c(ccc(c1Cl)C#N)N[C@H]([C@H](C)O)C(=O)NNC(=O)c2ccc(cc2)Cl>C1CCOC1>Cc1c(ccc(c1Cl)C#N)N[C@@H](c2nnc(o2)c3ccc(cc3)Cl)[C@H](C)O\n",
        "  [4.2.3] 1,3,4-Oxadiazole synthesis\n",
        "OUT:  Cc1ccc(S(=O)(=O)O)cc1.Cc1c(Cl)c(C#N)ccc1NC(C(=O)NNC(=O)c1ccc(Cl)cc1)C(C)O>C1CCOC1>Cc1c(Cl)c(C#N)ccc1NC(c1nnc(-c2ccc(Cl)cc2)o1)C(C)O"
       ]
      },
      {
       "output_type": "stream",
       "stream": "stdout",
       "text": [
        "\n",
        "  [4.2.3] 1,3,4-Oxadiazole synthesis\n",
        "    [4.2] O-containing heterocycle formation\n",
        "$$  0.11 s\n",
        "\n",
        "\n",
        "####  Line 102  ####\n",
        "IN :  CCN(CC)CC.CC=NO.CC(C#C)O.[O-]Cl.[Na+]>C(Cl)Cl>Cc1cc(on1)C(C)O\n",
        "  [4.2.4] Isoxazole synthesis\n",
        "OUT:  [Na+].C#CC(C)O.CC=NO.CCN(CC)CC.[O-]Cl>ClCCl>Cc1cc(C(C)O)on1\n",
        "  [4.2.4] Isoxazole synthesis\n",
        "    [4.2] O-containing heterocycle formation\n",
        "$$  0.02 s\n",
        "\n",
        "\n",
        "####  Line 103  ####\n",
        "IN :  CCN(CC)CC.C1[C@@H](CC[C@H](C1)O)N.C(OCCBr)CBr>CC#N>C1[C@@H](CC[C@H](C1)O)N2CCOCC2\n",
        "  [4.2.5] Morpholine synthesis\n",
        "OUT:  CCN(CC)CC.NC1CCC(O)CC1.BrCCOCCBr>CC#N>OC1CCC(N2CCOCC2)CC1"
       ]
      },
      {
       "output_type": "stream",
       "stream": "stdout",
       "text": [
        "\n",
        "  [4.2.5] Morpholine synthesis\n",
        "    [4.2] O-containing heterocycle formation\n",
        "$$  0.05 s\n",
        "\n",
        "\n",
        "####  Line 104  ####\n",
        "IN :  Cc1ccc(cc1)S(=O)(=O)O.CC(C)c1ccc(cc1)C(=O)CCC(=O)c2cccc(c2)C(=O)OC>CCOC(=O)C.Cc1ccccc1>CC(C)c1ccc(cc1)c2ccc(o2)c3cccc(c3)C(=O)OC\n",
        "  [4.2.6] Paal-Knorr furan synthesis\n",
        "OUT:  COC(=O)c1cccc(C(=O)CCC(=O)c2ccc(C(C)C)cc2)c1.Cc1ccc(S(=O)(=O)O)cc1>CCOC(C)=O.Cc1ccccc1>COC(=O)c1cccc(-c2ccc(-c3ccc(C(C)C)cc3)o2)c1"
       ]
      },
      {
       "output_type": "stream",
       "stream": "stdout",
       "text": [
        "\n",
        "  [4.2.6] Paal-Knorr furan synthesis\n",
        "    [4.2] O-containing heterocycle formation\n",
        "$$  0.12 s\n",
        "\n",
        "\n",
        "####  Line 105  ####\n",
        "IN :  COc1ccc2ccc(c(c2n1)C(=C)C(=O)OC)Br.c1cc(cc(c1)Cl)C(=O)OO.C(=O)(O)[O-].[O-]S(=O)[O-].[Na+].[Na+].[Na+]>C(Cl)Cl.O>COc1ccc2ccc(c(c2n1)C3(CO3)C(=O)OC)Br\n",
        "  [4.2.7] Prilezhaev epoxidation\n",
        "OUT:  [Na+].[Na+].[Na+].C=C(C(=O)OC)c1c(Br)ccc2ccc(OC)nc21.O=C([O-])O.O=C(OO)c1cccc(Cl)c1.O=S([O-])[O-]>O.ClCCl>COC(=O)C1(c2c(Br)ccc3ccc(OC)nc32)CO1"
       ]
      },
      {
       "output_type": "stream",
       "stream": "stdout",
       "text": [
        "\n",
        "  [4.2.8] Prilezhaev epoxidation\n",
        "    [4.2] O-containing heterocycle formation\n",
        "$$  0.10 s\n",
        "\n",
        "\n",
        "####  Line 106  ####\n",
        "IN :  CCOC(=O)C(CC(=O)c1ccccc1)C(=O)c2ccccc2.COc1ccc(cc1)P2(=S)SP(=S)(S2)c3ccc(cc3)OC>Cc1ccccc1>CCOC(=O)c1cc(sc1c2ccccc2)c3ccccc3\n",
        "  [4.3.1] Paal-Knorr thiophene synthesis\n",
        "OUT:  CCOC(=O)C(CC(=O)c1ccccc1)C(=O)c1ccccc1.COc1ccc(P2(=S)SP(=S)(c3ccc(OC)cc3)S2)cc1>Cc1ccccc1>CCOC(=O)c1cc(-c2ccccc2)sc1-c1ccccc1"
       ]
      },
      {
       "output_type": "stream",
       "stream": "stdout",
       "text": [
        "\n",
        "  [4.3.2] Paal-Knorr thiophene synthesis\n",
        "    [4.3] S-containing heterocycle formation\n",
        "$$  0.10 s\n",
        "\n",
        "\n",
        "####  Line 107  ####\n",
        "IN :  CCN(C(C)C)C(C)C.CC(=O)N1CCC(CC1)C(=O)CBr.c1ccc(cc1)Oc2cc(cnc2NC(=S)N)Br>CCO>CC(=O)N1CCC(CC1)c2csc(n2)Nc3c(cc(cn3)Br)Oc4ccccc4\n",
        "  [4.3.2] Thiazole synthesis\n",
        "OUT:  CCN(C(C)C)C(C)C.CC(=O)N1CCC(C(=O)CBr)CC1.NC(=S)Nc1ncc(Br)cc1Oc1ccccc1>CCO>CC(=O)N1CCC(c2csc(Nc3ncc(Br)cc3Oc3ccccc3)n2)CC1"
       ]
      },
      {
       "output_type": "stream",
       "stream": "stdout",
       "text": [
        "\n",
        "  [4.3.3] Thiazole synthesis\n",
        "    [4.3] S-containing heterocycle formation\n",
        "$$  0.21 s\n",
        "\n",
        "\n",
        "####  Line 108  ####\n",
        "IN :  CC(C)(C)OC(=O)OC(=O)OC(C)(C)C.c1cc(ccc1N)F>C1CCOC1>CC(C)(C)OC(=O)Nc1ccc(cc1)F\n",
        "  [5.1.1] N-Boc protection\n",
        "OUT:  CC(C)(C)OC(=O)OC(=O)OC(C)(C)C.Nc1ccc(F)cc1>C1CCOC1>CC(C)(C)OC(=O)Nc1ccc(F)cc1\n",
        "  [5.1.1] N-Boc protection\n",
        "    [5.1] NH protections\n",
        "$$  0.02 s\n",
        "\n",
        "\n",
        "####  Line 109  ####\n",
        "IN :  CCN(C(C)C)C(C)C.c1ccc(cc1)COc2ccc(cc2C[C@@H](C(=O)O)N)I.c1ccc(cc1)COC(=O)N2C(=O)CCC2=O.Cl>CN(C)C=O>c1ccc(cc1)COc2ccc(cc2C[C@@H](C(=O)O)NC(=O)OCc3ccccc3)I\n",
        "  [5.1.3] N-Cbz protection\n",
        "OUT:  Cl.CCN(C(C)C)C(C)C.NC(Cc1cc(I)ccc1OCc1ccccc1)C(=O)O.O=C(OCc1ccccc1)N1C(=O)CCC1=O>CN(C)C=O>O=C(O)C(Cc1cc(I)ccc1OCc1ccccc1)NC(=O)OCc1ccccc1"
       ]
      },
      {
       "output_type": "stream",
       "stream": "stdout",
       "text": [
        "\n",
        "  [5.1.2] N-Cbz protection\n",
        "    [5.1] NH protections\n",
        "$$  0.12 s\n",
        "\n",
        "\n",
        "####  Line 110  ####\n",
        "IN :  C=CC(=O)N[C@@H](CCCCN)C(=O)O.c1ccc2c(c1)-c3ccccc3C2COC(=O)Cl.Cl>C1COCCO1.C(=O)([O-])[O-].O.[Na+].[Na+]>C=CC(=O)N([C@@H](CCCCN)C(=O)O)C(=O)OCC1c2ccccc2-c3c1cccc3\n",
        "  [5.1.4.1] N-Fmoc protection\n",
        "OUT:  Cl.C=CC(=O)NC(CCCCN)C(=O)O.O=C(Cl)OCC1c2ccccc2-c2ccccc21>O.[Na+].[Na+].O=C([O-])[O-].C1COCCO1>C=CC(=O)N(C(=O)OCC1c2ccccc2-c2ccccc21)C(CCCCN)C(=O)O"
       ]
      },
      {
       "output_type": "stream",
       "stream": "stdout",
       "text": [
        "\n",
        "  [5.1.3] N-Fmoc protection\n",
        "    [5.1] NH protections\n",
        "$$  0.07 s\n",
        "\n",
        "\n",
        "####  Line 111  ####\n",
        "IN :  CCOC(=O)N1C(=O)c2c(cccc2)C1=O.C1[C@@H](CC[C@H](C1)O)N.C(=O)([O-])[O-].[K+].[K+]>O>c1cc2c(cc1)C(=O)N(C2=O)[C@H]3CC[C@@H](CC3)O\n",
        "  [5.1.4.2] N-Phth protection\n",
        "OUT:  [K+].[K+].CCOC(=O)N1C(=O)c2ccccc2C1=O.NC1CCC(O)CC1.O=C([O-])[O-]>O>O=C1c2ccccc2C(=O)N1C1CCC(O)CC1"
       ]
      },
      {
       "output_type": "stream",
       "stream": "stdout",
       "text": [
        "\n",
        "  [5.1.4] N-Phth protection\n",
        "    [5.1] NH protections\n",
        "$$  0.06 s\n",
        "\n",
        "\n",
        "####  Line 112  ####\n",
        "IN :  CC(C)(C)OC(=O)N1CCNCC1.c1ccncc1.C(=O)(C(F)(F)F)OC(=O)C(F)(F)F>CCOC(=O)C.C(Cl)Cl>CC(C)(C)OC(=O)N1CCN(CC1)C(=O)C(F)(F)F\n",
        "  [5.1.4.3] N-TFA protection\n",
        "OUT:  CC(C)(C)OC(=O)N1CCNCC1.O=C(OC(=O)C(F)(F)F)C(F)(F)F.c1ccncc1>CCOC(C)=O.ClCCl>CC(C)(C)OC(=O)N1CCN(C(=O)C(F)(F)F)CC1\n",
        "  [5.1.5] N-TFA protection\n",
        "    [5.1] NH protections\n",
        "$$  0.05 s\n",
        "\n",
        "\n",
        "####  Line 113  ####\n",
        "IN :  CC(C)(C)OC(=O)OC(=O)OC(C)(C)C.C[N+](=O)[O-].c1cc(cc(c1)O)C(=O)O.[O-]Cl(=O)(=O)=O.[O-]Cl(=O)(=O)=O.[Mg+2]>CCOC(=O)C>CC(C)(C)OC(=O)c1cccc(c1)O\n",
        "  [5.2.1] CO2H-tBu protection\n",
        "OUT:  [Mg+2].C[N+](=O)[O-].CC(C)(C)OC(=O)OC(=O)OC(C)(C)C.O=C(O)c1cccc(O)c1.[O-][Cl+3]([O-])([O-])[O-].[O-][Cl+3]([O-])([O-])[O-]>CCOC(C)=O>CC(C)(C)OC(=O)c1cccc(O)c1"
       ]
      },
      {
       "output_type": "stream",
       "stream": "stdout",
       "text": [
        "\n",
        "  [5.2.1] CO2H-tBu protection\n",
        "    [5.2] RCO2H protections\n",
        "$$  0.21 s\n",
        "\n",
        "\n",
        "####  Line 114  ####\n",
        "IN :  c1ccc(cc1)COC=O.C(CCCCCCCC(=O)O)CCCCCCC(=O)O>CCCCCCCC>c1ccc(cc1)COC(=O)CCCCCCCCCCCCCCC(=O)O\n",
        "  [5.3.1] O-Bn protection\n",
        "OUT:  O=COCc1ccccc1.O=C(O)CCCCCCCCCCCCCCC(=O)O>CCCCCCCC>O=C(O)CCCCCCCCCCCCCCC(=O)OCc1ccccc1"
       ]
      },
      {
       "output_type": "stream",
       "stream": "stdout",
       "text": [
        "\n",
        "  [5.3.1] O-Bn protection\n",
        "    [5.3] ROH protections\n",
        "$$  0.09 s\n",
        "\n",
        "\n",
        "####  Line 115  ####\n",
        "IN :  CCOC(=O)C1CCC(CC1)O.CC(C)(C)[Si](C)(C)Cl.c1cnc[nH]1.O>CN(C)C=O>CCOC(=O)C1CCC(CC1)O[Si](C)(C)C(C)(C)C\n",
        "  [5.3.2.1] O-TBS protection\n",
        "OUT:  O.CCOC(=O)C1CCC(O)CC1.CC(C)(C)[Si](C)(C)Cl.c1c[nH]cn1>CN(C)C=O>CCOC(=O)C1CCC(O[Si](C)(C)C(C)(C)C)CC1"
       ]
      },
      {
       "output_type": "stream",
       "stream": "stdout",
       "text": [
        "\n",
        "  [5.3.2] O-TBS protection\n",
        "    [5.3] ROH protections\n",
        "$$  0.05 s\n",
        "\n",
        "\n",
        "####  Line 116  ####\n",
        "IN :  Cc1cccc(n1)C.CC(C)[Si](C(C)C)(C(C)C)OS(=O)(=O)C(F)(F)F.c1cc(ccc1O)Br>C(Cl)Cl>CC(C)[Si](C(C)C)(C(C)C)Oc1ccc(cc1)Br\n",
        "  [5.3.2.2] O-TIPS protection\n",
        "OUT:  Cc1cccc(C)n1.CC(C)[Si](OS(=O)(=O)C(F)(F)F)(C(C)C)C(C)C.Oc1ccc(Br)cc1>ClCCl>CC(C)[Si](Oc1ccc(Br)cc1)(C(C)C)C(C)C"
       ]
      },
      {
       "output_type": "stream",
       "stream": "stdout",
       "text": [
        "\n",
        "  [5.3.3] O-TIPS protection\n",
        "    [5.3] ROH protections\n",
        "$$  0.21 s\n",
        "\n",
        "\n",
        "####  Line 117  ####\n",
        "IN :  CC(CCS(=O)(=O)c1nnnn1c2ccccc2)(CC3CCCCC3)O.C[Si](C)(C)Cl.c1cnc[nH]1.O>C(Cl)Cl>CC(CCS(=O)(=O)c1nnnn1c2ccccc2)(CC3CCCCC3)O[Si](C)(C)C\n",
        "  [5.3.2.3] O-TMS protection\n",
        "OUT:  O.CC(O)(CCS(=O)(=O)c1nnnn1-c1ccccc1)CC1CCCCC1.C[Si](C)(C)Cl.c1c[nH]cn1>ClCCl>CC(CCS(=O)(=O)c1nnnn1-c1ccccc1)(CC1CCCCC1)O[Si](C)(C)C"
       ]
      },
      {
       "output_type": "stream",
       "stream": "stdout",
       "text": [
        "\n",
        "  [5.3.4] O-TMS protection\n",
        "    [5.3] ROH protections\n",
        "$$  0.14 s\n",
        "\n",
        "\n",
        "####  Line 118  ####\n",
        "IN :  CC(C)c1cc(cc(c1)O)C=O.CC(=O)OC(=O)C>c1ccncc1>CC(C)c1cc(cc(c1)OC(=O)C)C=O\n",
        "  [5.3.3] O-Ac protection\n",
        "OUT:  CC(=O)OC(C)=O.CC(C)c1cc(O)cc(C=O)c1>c1ccncc1>CC(=O)Oc1cc(C=O)cc(C(C)C)c1\n",
        "  [5.3.5] O-Ac protection\n",
        "    [5.3] ROH protections\n",
        "$$  0.03 s\n",
        "\n",
        "\n",
        "####  Line 119  ####\n",
        "IN :  COCCl.c1cc(ncc1O)Cl.C(=O)([O-])[O-].[K+].[K+]>CC(=O)C>COCOc1ccc(nc1)Cl\n",
        "  [5.3.4.1] O-MOM protection\n",
        "OUT:  [K+].[K+].COCCl.O=C([O-])[O-].Oc1ccc(Cl)nc1>CC(C)=O>COCOc1ccc(Cl)nc1\n",
        "  [5.3.6] O-MOM protection\n",
        "    [5.3] ROH protections\n",
        "$$  0.01 s\n",
        "\n",
        "\n",
        "####  Line 120  ####\n",
        "IN :  CC(C)(C)OC(=O)N1CC2CN(CC2C1)c3ccc-4c(c3)Cc5c4cccc5.C(=O)(C(F)(F)F)O>C(Cl)Cl>c1ccc-2c(c1)Cc3c2ccc(c3)N4CC5CNCC5C4\n",
        "  [6.1.1] N-Boc deprotection\n",
        "OUT:  CC(C)(C)OC(=O)N1CC2CN(c3ccc4c(c3)Cc3ccccc3-4)CC2C1.O=C(O)C(F)(F)F>ClCCl>c1ccc2c(c1)Cc1cc(N3CC4CNCC4C3)ccc1-2"
       ]
      },
      {
       "output_type": "stream",
       "stream": "stdout",
       "text": [
        "\n",
        "  [6.1.1] N-Boc deprotection\n",
        "    [6.1] NH deprotections\n",
        "$$  0.03 s\n",
        "\n",
        "\n",
        "####  Line 121  ####\n",
        "IN :  CN1CCC(=CC1)c2c[nH]c3c2cc(cc3)NC(=S)NC(=O)c4ccccc4.[OH-].[Na+]>C1CCOC1>CN1CCC(=CC1)c2c[nH]c3c2cc(cc3)NC(=S)N\n",
        "  [6.1.2] N-Bz deprotection\n",
        "OUT:  [OH-].[Na+].CN1CC=C(c2c[nH]c3ccc(NC(=S)NC(=O)c4ccccc4)cc32)CC1>C1CCOC1>CN1CC=C(c2c[nH]c3ccc(NC(N)=S)cc32)CC1"
       ]
      },
      {
       "output_type": "stream",
       "stream": "stdout",
       "text": [
        "\n",
        "  [6.1.2] N-Bz deprotection\n",
        "    [6.1] NH deprotections\n",
        "$$  0.07 s\n",
        "\n",
        "\n",
        "####  Line 122  ####\n",
        "IN :  CCCCOC(=O)c1c(oc(n1)N2CC[C@@H]([C@@H](C2)OC)NC(=O)OCc3ccccc3)C>CCOC(=O)C>CCCCOC(=O)c1c(oc(n1)N2CC[C@@H]([C@@H](C2)OC)N)C\n",
        "  [6.1.3] N-Cbz deprotection\n",
        "OUT:  CCCCOC(=O)c1nc(N2CCC(NC(=O)OCc3ccccc3)C(OC)C2)oc1C>CCOC(C)=O>CCCCOC(=O)c1nc(N2CCC(N)C(OC)C2)oc1C"
       ]
      },
      {
       "output_type": "stream",
       "stream": "stdout",
       "text": [
        "\n",
        "  [6.1.3] N-Cbz deprotection\n",
        "    [6.1] NH deprotections\n",
        "$$  0.06 s\n",
        "\n",
        "\n",
        "####  Line 123  ####\n",
        "IN :  CCCc1nc(no1)C2Cc3ccccc3N2C(=O)C.[OH-].[Na+]>CCO.C(Cl)Cl>CCCc1nc(no1)C2Cc3ccccc3N2\n",
        "  [6.1.4.1] N-Ac deprotection\n",
        "OUT:  [OH-].[Na+].CCCc1nc(C2Cc3ccccc3N2C(C)=O)no1>CCO.ClCCl>CCCc1nc(C2Cc3ccccc3N2)no1"
       ]
      },
      {
       "output_type": "stream",
       "stream": "stdout",
       "text": [
        "\n",
        "  [6.1.4] N-Ac deprotection\n",
        "    [6.1] NH deprotections\n",
        "$$  0.12 s\n",
        "\n",
        "\n",
        "####  Line 124  ####\n",
        "IN :  Cc1c2c(c(c(c1OC)C)NCc3ccccc3)OC(C2c4ccc(cc4)C(C)C)(C)C>CCCCCC.CCOC(=O)C>Cc1c2c(c(c(c1OC)C)N)OC(C2c3ccc(cc3)C(C)C)(C)C\n",
        "  [6.1.4.2] N-Bn deprotection\n",
        "OUT:  COc1c(C)c2c(c(NCc3ccccc3)c1C)OC(C)(C)C2c1ccc(C(C)C)cc1>CCCCCC.CCOC(C)=O>COc1c(C)c2c(c(N)c1C)OC(C)(C)C2c1ccc(C(C)C)cc1"
       ]
      },
      {
       "output_type": "stream",
       "stream": "stdout",
       "text": [
        "\n",
        "  [6.1.5] N-Bn deprotection\n",
        "    [6.1] NH deprotections\n",
        "$$  0.06 s\n",
        "\n",
        "\n",
        "####  Line 125  ####\n",
        "IN :  c1ccc2c(c1)CCN(C(=O)N2)C3CCN(CC3)C(=O)O[C@H](Cc4ccc(cc4)O)C(=O)N5CCC(CC5)N6CCN(CC6)C(=O)OCC7c8ccccc8-c9c7cccc9>C1CCNCC1>c1ccc2c(c1)CCN(C(=O)N2)C3CCN(CC3)C(=O)O[C@H](Cc4ccc(cc4)O)C(=O)N5CCC(CC5)N6CCNCC6\n",
        "  [6.1.4.3] N-Fmoc deprotection\n",
        "OUT:  O=C(OCC1c2ccccc2-c2ccccc21)N1CCN(C2CCN(C(=O)C(Cc3ccc(O)cc3)OC(=O)N3CCC(N4CCc5ccccc5NC4=O)CC3)CC2)CC1>C1CCNCC1>O=C(OC(Cc1ccc(O)cc1)C(=O)N1CCC(N2CCNCC2)CC1)N1CCC(N2CCc3ccccc3NC2=O)CC1"
       ]
      },
      {
       "output_type": "stream",
       "stream": "stdout",
       "text": [
        "\n",
        "  [6.1.6] N-Fmoc deprotection\n",
        "    [6.1] NH deprotections\n",
        "$$  0.28 s\n",
        "\n",
        "\n",
        "####  Line 126  ####\n",
        "IN :  c1ccc2c(c1)c(nn(c2=O)CCN3C(=O)c4ccccc4C3=O)Cc5ccc(cc5)Cl.NN.O>CCO>c1ccc2c(c1)c(nn(c2=O)CCN)Cc3ccc(cc3)Cl\n",
        "  [6.1.4.4] N-Phth deprotection\n",
        "OUT:  O.NN.O=C1c2ccccc2C(=O)N1CCn1nc(Cc2ccc(Cl)cc2)c2ccccc2c1=O>CCO>NCCn1nc(Cc2ccc(Cl)cc2)c2ccccc2c1=O"
       ]
      },
      {
       "output_type": "stream",
       "stream": "stdout",
       "text": [
        "\n",
        "  [6.1.7] N-Phth deprotection\n",
        "    [6.1] NH deprotections\n",
        "$$  0.18 s\n",
        "\n",
        "\n",
        "####  Line 127  ####\n",
        "IN :  CCCCCC.CC(C)(C)OC(=O)NCCC(c1cnn2c1NCCC2)NC(=O)C(F)(F)F.C(=O)([O-])[O-].[K+].[K+]>CO.O>CC(C)(C)OC(=O)NCCC(c1cnn2c1NCCC2)N\n",
        "  [6.1.4.5] N-TFA deprotection\n",
        "OUT:  [K+].[K+].CCCCCC.CC(C)(C)OC(=O)NCCC(NC(=O)C(F)(F)F)c1cnn2c1NCCC2.O=C([O-])[O-]>O.CO>CC(C)(C)OC(=O)NCCC(N)c1cnn2c1NCCC2"
       ]
      },
      {
       "output_type": "stream",
       "stream": "stdout",
       "text": [
        "\n",
        "  [6.1.8] N-TFA deprotection\n",
        "    [6.1] NH deprotections\n",
        "$$  0.36 s\n",
        "\n",
        "\n",
        "####  Line 128  ####\n",
        "IN :  c1cc(ncc1Br)COc2cc(=O)n(nc2)C3CCCCO3>>c1cc(ncc1Br)COc2cc(=O)[nH]nc2\n",
        "  [6.1.4.6] N-THP deprotection\n",
        "OUT:  O=c1cc(OCc2ccc(Br)cn2)cnn1C1CCCCO1>>O=c1cc(OCc2ccc(Br)cn2)cn[nH]1"
       ]
      },
      {
       "output_type": "stream",
       "stream": "stdout",
       "text": [
        "\n",
        "  [0.0] Unrecognized\n",
        "    [0] Unassigned\n",
        "$$  0.11 s\n",
        "\n",
        "\n",
        "####  Line 129  ####\n",
        "IN :  CCOC(=O)c1nc2ccccc2c(n1)N(C)c3ccc(cc3)OC.[OH-].[Na+]>CO.O>CN(c1ccc(cc1)OC)c2c3ccccc3nc(n2)C(=O)O\n",
        "  [6.2.1] CO2H-Et deprotection\n",
        "OUT:  [OH-].[Na+].CCOC(=O)c1nc2ccccc2c(N(C)c2ccc(OC)cc2)n1>O.CO>COc1ccc(N(C)c2nc(C(=O)O)nc3ccccc32)cc1"
       ]
      },
      {
       "output_type": "stream",
       "stream": "stdout",
       "text": [
        "\n",
        "  [6.2.1] CO2H-Et deprotection\n",
        "    [6.2] RCO2H deprotections\n",
        "$$  0.07 s\n",
        "\n",
        "\n",
        "####  Line 130  ####\n",
        "IN :  COC(=O)CCc1nc(no1)Cc2ccccc2.[OH-].[Na+]>CO>c1ccc(cc1)Cc2nc(on2)CCC(=O)O\n",
        "  [6.2.2] CO2H-Me deprotection\n",
        "OUT:  [OH-].[Na+].COC(=O)CCc1nc(Cc2ccccc2)no1>CO>O=C(O)CCc1nc(Cc2ccccc2)no1\n",
        "  [6.2.2] CO2H-Me deprotection\n",
        "    [6.2] RCO2H deprotections\n",
        "$$  0.01 s\n",
        "\n",
        "\n",
        "####  Line 131  ####\n",
        "IN :  CC(C)(C)OC(=O)Cn1c2cc(ccc2c(c1c3ccc(cc3)OC)C4CCCCC4)C(=O)OC.C(Cl)Cl.C(=O)(C(F)(F)F)O>>COc1ccc(cc1)c2c(c3ccc(cc3n2CC(=O)O)C(=O)OC)C4CCCCC4\n",
        "  [6.2.3] CO2H-tBu deprotection\n",
        "OUT:  COC(=O)c1ccc2c(c1)n(CC(=O)OC(C)(C)C)c(-c1ccc(OC)cc1)c2C1CCCCC1.O=C(O)C(F)(F)F.ClCCl>>COC(=O)c1ccc2c(c1)n(CC(=O)O)c(-c1ccc(OC)cc1)c2C1CCCCC1"
       ]
      },
      {
       "output_type": "stream",
       "stream": "stdout",
       "text": [
        "\n",
        "  [6.2.3] CO2H-tBu deprotection\n",
        "    [6.2] RCO2H deprotections\n",
        "$$  0.25 s\n",
        "\n",
        "\n",
        "####  Line 132  ####\n",
        "IN :  CC(C)(C)OC(=O)NCCc1cccc(c1)OCc2ccccc2>CCO>CC(C)(C)OC(=O)NCCc1cccc(c1)O\n",
        "  [6.3.1] O-Bn deprotection\n",
        "OUT:  CC(C)(C)OC(=O)NCCc1cccc(OCc2ccccc2)c1>CCO>CC(C)(C)OC(=O)NCCc1cccc(O)c1"
       ]
      },
      {
       "output_type": "stream",
       "stream": "stdout",
       "text": [
        "\n",
        "  [6.3.1] O-Bn deprotection\n",
        "    [6.3] ROH deprotections\n",
        "$$  0.06 s\n",
        "\n",
        "\n",
        "####  Line 133  ####\n",
        "IN :  CCOC(=O)C.C[C@]12CCC[C@@H]([C@@H]1CC[C@@H]2[C@@]3(C[C@H](CO3)CC(C)(C)O)C)O[Si](C)(C)C(C)(C)C.O>C1CCOC1>C[C@]12CCC[C@@H]([C@@H]1CC[C@@H]2[C@@]3(C[C@H](CO3)CC(C)(C)O)C)O\n",
        "  [6.3.2.1] O-TBS deprotection\n",
        "OUT:  O.CCOC(C)=O.CC(C)(O)CC1COC(C)(C2CCC3C(O[Si](C)(C)C(C)(C)C)CCCC32C)C1>C1CCOC1>CC(C)(O)CC1COC(C)(C2CCC3C(O)CCCC32C)C1"
       ]
      },
      {
       "output_type": "stream",
       "stream": "stdout",
       "text": [
        "\n",
        "  [6.3.2] O-TBS deprotection\n",
        "    [6.3] ROH deprotections\n",
        "$$  0.07 s\n",
        "\n",
        "\n",
        "####  Line 134  ####\n",
        "IN :  CCCC[N+](CCCC)(CCCC)CCCC.C[C@H]1COCCN1c2cc(nc(n2)c3ccc(cc3)N)C4(CCC4)S(=O)(=O)CCCO[Si](C(C)C)(C(C)C)C(C)C.[F-]>C1CCOC1>C[C@H]1COCCN1c2cc(nc(n2)c3ccc(cc3)N)C4(CCC4)S(=O)(=O)CCCO\n",
        "  [6.3.2.2] O-TIPS deprotection\n",
        "OUT:  [F-].CCCC[N+](CCCC)(CCCC)CCCC.CC(C)[Si](OCCCS(=O)(=O)C1(c2cc(N3CCOCC3C)nc(-c3ccc(N)cc3)n2)CCC1)(C(C)C)C(C)C>C1CCOC1>CC1COCCN1c1cc(C2(S(=O)(=O)CCCO)CCC2)nc(-c2ccc(N)cc2)n1"
       ]
      },
      {
       "output_type": "stream",
       "stream": "stdout",
       "text": [
        "\n",
        "  [6.3.3] O-TIPS deprotection\n",
        "    [6.3] ROH deprotections\n",
        "$$  0.11 s\n",
        "\n",
        "\n",
        "####  Line 135  ####\n",
        "IN :  CC(C)(C#CC(=O)c1ccc2c(c1)nsn2)O[Si](C)(C)C>C(Cl)Cl.O>CC(C)(C#CC(=O)c1ccc2c(c1)nsn2)O\n",
        "  [6.3.2.3] O-TMS deprotection\n",
        "OUT:  CC(C)(C#CC(=O)c1ccc2nsnc2c1)O[Si](C)(C)C>O.ClCCl>CC(C)(O)C#CC(=O)c1ccc2nsnc2c1"
       ]
      },
      {
       "output_type": "stream",
       "stream": "stdout",
       "text": [
        "\n",
        "  [6.3.4] O-TMS deprotection\n",
        "    [6.3] ROH deprotections\n",
        "$$  0.06 s\n",
        "\n",
        "\n",
        "####  Line 136  ####\n",
        "IN :  [Li]CCCC.CC[Si](CC)(CC)[C@@H](CCc1ccccc1)CI.CC[Si](CC)(CC)O[C@H]1C[C@H]([C@@H]([C@H]1C/C=C\\CCCC23OCC(CO2)(CO3)C)CS(=O)(=O)c4ccccc4)O[Si](CC)(CC)CC>CCCCCC.C1CCOC1>CC[Si](CC)(CC)O[C@H]1C[C@H]([C@@H]([C@H]1C/C=C\\CCCC23OCC(CO2)(CO3)C)CS(=O)(=O)c4ccccc4)O\n",
        "  [6.3.2.4] Silyl ether deprotection\n",
        "OUT:  [Li]CCCC.CC[Si](CC)(CC)OC1CC(O[Si](CC)(CC)CC)C(CS(=O)(=O)c2ccccc2)C1CC=CCCCC12OCC(C)(CO1)CO2.CC[Si](CC)(CC)C(CI)CCc1ccccc1>CCCCCC.C1CCOC1>CC[Si](CC)(CC)OC1CC(O)C(CS(=O)(=O)c2ccccc2)C1CC=CCCCC12OCC(C)(CO1)CO2"
       ]
      },
      {
       "output_type": "stream",
       "stream": "stdout",
       "text": [
        "\n",
        "  [6.3.5] Silyl ether deprotection\n",
        "    [6.3] ROH deprotections\n",
        "$$  0.18 s\n",
        "\n",
        "\n",
        "####  Line 137  ####\n",
        "IN :  C[C@H](COC(=O)C)n1ccc2c(c1=O)ccc(c2NC(=O)Cc3ccc(c(c3)F)C(F)(F)F)Cl.CO.C(=O)([O-])[O-].[K+].[K+]>O>C[C@H](CO)n1ccc2c(c1=O)ccc(c2NC(=O)Cc3ccc(c(c3)F)C(F)(F)F)Cl\n",
        "  [6.3.3] O-Ac deprotection\n",
        "OUT:  [K+].[K+].CO.CC(=O)OCC(C)n1ccc2c(ccc(Cl)c2NC(=O)Cc2ccc(C(F)(F)F)c(F)c2)c1=O.O=C([O-])[O-]>O>CC(CO)n1ccc2c(ccc(Cl)c2NC(=O)Cc2ccc(C(F)(F)F)c(F)c2)c1=O"
       ]
      },
      {
       "output_type": "stream",
       "stream": "stdout",
       "text": [
        "\n",
        "  [6.3.6] O-Ac deprotection\n",
        "    [6.3] ROH deprotections\n",
        "$$  0.42 s\n",
        "\n",
        "\n",
        "####  Line 138  ####\n",
        "IN :  B(Br)(Br)Br.CN([C@H]1CCc2c(ccc(c2C1)OC)S(=O)(=O)Nc3ccc(cc3)C(F)(F)F)C(=O)C(F)(F)F>C(Cl)Cl>CN([C@H]1CCc2c(ccc(c2C1)O)S(=O)(=O)Nc3ccc(cc3)C(F)(F)F)C(=O)C(F)(F)F\n",
        "  [6.3.4.1] Methoxy to hydroxy\n",
        "OUT:  COc1ccc(S(=O)(=O)Nc2ccc(C(F)(F)F)cc2)c2c1CC(N(C)C(=O)C(F)(F)F)CC2.BrB(Br)Br>ClCCl>CN(C(=O)C(F)(F)F)C1CCc2c(c(O)ccc2S(=O)(=O)Nc2ccc(C(F)(F)F)cc2)C1"
       ]
      },
      {
       "output_type": "stream",
       "stream": "stdout",
       "text": [
        "\n",
        "  [6.3.7] Methoxy to hydroxy\n",
        "    [6.3] ROH deprotections\n",
        "$$  0.63 s\n",
        "\n",
        "\n",
        "####  Line 139  ####\n",
        "IN :  Cc1cc(cc(c1C=O)OCOC)Oc2cccc(c2)OCc3ccccc3.Cl>C1CCOC1>Cc1cc(cc(c1C=O)O)Oc2cccc(c2)OCc3ccccc3\n",
        "  [6.3.4.2] O-MOM deprotection\n",
        "OUT:  Cl.COCOc1cc(Oc2cccc(OCc3ccccc3)c2)cc(C)c1C=O>C1CCOC1>Cc1cc(Oc2cccc(OCc3ccccc3)c2)cc(O)c1C=O\n",
        "  [6.3.8] O-MOM deprotection\n",
        "    [6.3] ROH deprotections\n",
        "$$  0.04 s\n",
        "\n",
        "\n",
        "####  Line 140  ####\n",
        "IN :  CN(Cc1csc(n1)N)c2c(c(nc(n2)Cl)NNC(=O)[C@H](CC3CCCC3)CN(C=O)OC4CCCCO4)F>O>CN(Cc1csc(n1)N)c2c(c(nc(n2)Cl)NNC(=O)[C@H](CC3CCCC3)CN(C=O)O)F\n",
        "  [6.3.4.3] O-THP deprotection\n",
        "OUT:  CN(Cc1csc(N)n1)c1nc(Cl)nc(NNC(=O)C(CC2CCCC2)CN(C=O)OC2CCCCO2)c1F>O>CN(Cc1csc(N)n1)c1nc(Cl)nc(NNC(=O)C(CC2CCCC2)CN(O)C=O)c1F"
       ]
      },
      {
       "output_type": "stream",
       "stream": "stdout",
       "text": [
        "\n",
        "  [6.3.9] O-THP deprotection\n",
        "    [6.3] ROH deprotections\n",
        "$$  0.21 s\n",
        "\n",
        "\n",
        "####  Line 141  ####\n",
        "IN :  [H-].[H-].[H-].[H-].[Li+].CC(=O)SCCc1ccc(cc1)OS(=O)(=O)C.O.[OH-].[Na+].[Al+3]>C1CCOC1>CS(=O)(=O)Oc1ccc(cc1)CCS\n",
        "  [6.4.1] S-carbonyl deprotection\n",
        "OUT:  [H-].[H-].[H-].[H-].[Li+].[OH-].O.[Na+].[Al+3].CC(=O)SCCc1ccc(OS(C)(=O)=O)cc1>C1CCOC1>CS(=O)(=O)Oc1ccc(CCS)cc1"
       ]
      },
      {
       "output_type": "stream",
       "stream": "stdout",
       "text": [
        "\n",
        "  [6.4.1] S-carbonyl deprotection\n",
        "    [6.4] RSH deprotections\n",
        "$$  0.07 s\n",
        "\n",
        "\n",
        "####  Line 142  ####\n",
        "IN :  CN(C)C(=O)Sc1cccc(c1F)F>CCOCC.CO>c1cc(c(c(c1)S)F)F\n",
        "  [6.4.2] S-thiocarbamate deprotection\n",
        "OUT:  CN(C)C(=O)Sc1cccc(F)c1F>CO.CCOCC>Fc1cccc(S)c1F"
       ]
      },
      {
       "output_type": "stream",
       "stream": "stdout",
       "text": [
        "\n",
        "  [6.4.2] S-thiocarbamate deprotection\n",
        "    [6.4] RSH deprotections\n",
        "$$  0.07 s\n",
        "\n",
        "\n",
        "####  Line 143  ####\n",
        "IN :  COc1cc(c(cc1Cl)Cl)Nc2c(cnc3c2sc(c3)C#C[Si](C)(C)C)C#N.C(=O)([O-])[O-].[K+].[K+]>CO>COc1cc(c(cc1Cl)Cl)Nc2c(cnc3c2sc(c3)C#C)C#N\n",
        "  [6.5.1] Alkyne TMS deprotection\n",
        "OUT:  [K+].[K+].COc1cc(Nc2c3sc(C#C[Si](C)(C)C)cc3ncc2C#N)c(Cl)cc1Cl.O=C([O-])[O-]>CO>C#Cc1cc2ncc(C#N)c(Nc3cc(OC)c(Cl)cc3Cl)c2s1"
       ]
      },
      {
       "output_type": "stream",
       "stream": "stdout",
       "text": [
        "\n",
        "  [6.5.1] Alkyne TMS deprotection\n",
        "    [6.5] Other deprotections\n",
        "$$  0.27 s\n",
        "\n",
        "\n",
        "####  Line 144  ####\n",
        "IN :  CNS(=O)(=O)c1cccc(c1)Oc2ccc(cc2)[N+](=O)[O-]>CCOC(=O)C>CNS(=O)(=O)c1cccc(c1)Oc2ccc(cc2)N\n",
        "  [7.1] Nitro to amino\n",
        "OUT:  CNS(=O)(=O)c1cccc(Oc2ccc([N+](=O)[O-])cc2)c1>CCOC(C)=O>CNS(=O)(=O)c1cccc(Oc2ccc(N)cc2)c1\n",
        "  [7.1.1] Nitro to amino\n",
        "    [7.1] Nitro to amine reduction\n",
        "$$  0.02 s\n",
        "\n",
        "\n",
        "####  Line 145  ####\n",
        "IN :  B.CO.c1cc(ccc1c2[nH]c3c(n2)c(c(cn3)Br)I)C(=O)N4CCOCC4>C1CCOC1>c1cc(ccc1CN2CCOCC2)c3[nH]c4c(n3)c(c(cn4)Br)I\n",
        "  [7.2] Amide to amine reduction\n",
        "OUT:  B.CO.O=C(c1ccc(-c2nc3c(ncc(Br)c3I)[nH]2)cc1)N1CCOCC1>C1CCOC1>Brc1cnc2[nH]c(-c3ccc(CN4CCOCC4)cc3)nc2c1I\n",
        "  [7.2.1] Amide to amine reduction\n",
        "    [7.2] Amide to amine reduction\n",
        "$$  0.03 s\n",
        "\n",
        "\n",
        "####  Line 146  ####\n",
        "IN :  B.CC(C)(C#N)c1ccc(cc1)[N+](=O)[O-].[OH-].[Na+].Cl>C1CCOC1>CC(C)(CN)c1ccc(cc1)[N+](=O)[O-]\n",
        "  [7.3.1] Nitrile reduction\n",
        "OUT:  B.[OH-].[Na+].Cl.CC(C)(C#N)c1ccc([N+](=O)[O-])cc1>C1CCOC1>CC(C)(CN)c1ccc([N+](=O)[O-])cc1"
       ]
      },
      {
       "output_type": "stream",
       "stream": "stdout",
       "text": [
        "\n",
        "  [7.3.1] Nitrile reduction\n",
        "    [7.3] Cyano or imine to amine\n",
        "$$  0.04 s\n",
        "\n",
        "\n",
        "####  Line 147  ####\n",
        "IN :  [BH4-].Cc1ccc(cc1)S(=O)(=O)n2ccc3c2ncc(n3)C(=N)c4ccc(cc4)OC.[Na+]>CO>Cc1ccc(cc1)S(=O)(=O)n2ccc3c2ncc(n3)C(c4ccc(cc4)OC)N\n",
        "  [7.3.3] Primary ketimine reduction\n",
        "OUT:  [BH4-].[Na+].COc1ccc(C(=N)c2cnc3c(ccn3S(=O)(=O)c3ccc(C)cc3)n2)cc1>CO>COc1ccc(C(N)c2cnc3c(ccn3S(=O)(=O)c3ccc(C)cc3)n2)cc1"
       ]
      },
      {
       "output_type": "stream",
       "stream": "stdout",
       "text": [
        "\n",
        "  [7.3.3] Primary ketimine reduction\n",
        "    [7.3] Cyano or imine to amine\n",
        "$$  0.30 s\n",
        "\n",
        "\n",
        "####  Line 148  ####\n",
        "IN :  [BH4-].COC(=O)c1ccc(cc1)Oc2ccc(cn2)N=Cc3ccc(cc3)C(F)(F)F.[Na+]>CO>COC(=O)c1ccc(cc1)Oc2ccc(cn2)NCc3ccc(cc3)C(F)(F)F\n",
        "  [7.3.4] Secondary aldimine reduction\n",
        "OUT:  [BH4-].[Na+].COC(=O)c1ccc(Oc2ccc(N=Cc3ccc(C(F)(F)F)cc3)cn2)cc1>CO>COC(=O)c1ccc(Oc2ccc(NCc3ccc(C(F)(F)F)cc3)cn2)cc1"
       ]
      },
      {
       "output_type": "stream",
       "stream": "stdout",
       "text": [
        "\n",
        "  [7.3.4] Secondary aldimine reduction\n",
        "    [7.3] Cyano or imine to amine\n",
        "$$  0.44 s\n",
        "\n",
        "\n",
        "####  Line 149  ####\n",
        "IN :  [BH-](OC(=O)C)(OC(=O)C)OC(=O)C.CCc1c(cc(cn1)Br)N=C(C)C.CC(=O)O.[Na+]>C(Cl)Cl>CCc1c(cc(cn1)Br)NC(C)C\n",
        "  [7.3.5] Secondary ketimine reduction\n",
        "OUT:  [Na+].CCc1ncc(Br)cc1N=C(C)C.CC(=O)O.CC(=O)O[BH-](OC(C)=O)OC(C)=O>ClCCl>CCc1ncc(Br)cc1NC(C)C"
       ]
      },
      {
       "output_type": "stream",
       "stream": "stdout",
       "text": [
        "\n",
        "  [7.3.5] Secondary ketimine reduction\n",
        "    [7.3] Cyano or imine to amine\n",
        "$$  0.21 s\n",
        "\n",
        "\n",
        "####  Line 150  ####\n",
        "IN :  [BH4-].c1cc(c(cc1C2=C(SC3=NCCN23)C=O)Cl)Cl.[Na+]>CO>c1cc(c(cc1C2=C(SC3=NCCN23)CO)Cl)Cl\n",
        "  [7.9.1] Aldehyde to alcohol reduction\n",
        "OUT:  [BH4-].[Na+].O=CC1=C(c2ccc(Cl)c(Cl)c2)N2CCN=C2S1>CO>OCC1=C(c2ccc(Cl)c(Cl)c2)N2CCN=C2S1\n",
        "  [7.9.1] Aldehyde to alcohol reduction\n",
        "    [7.9] Other reductions\n",
        "$$  0.05 s\n",
        "\n",
        "\n",
        "####  Line 151  ####\n",
        "IN :  [H-].[H-].[H-].[H-].[Li+].COc1cccc(c1)CC2CCCCC2C(=O)O.[Al+3].Cl>C1CCOC1.O>COc1cccc(c1)CC2CCCCC2CO\n",
        "  [7.9.2] Carboxylic acid to alcohol reduction\n",
        "OUT:  [H-].[H-].[H-].[H-].[Li+].[Al+3].Cl.COc1cccc(CC2CCCCC2C(=O)O)c1>O.C1CCOC1>COc1cccc(CC2CCCCC2CO)c1"
       ]
      },
      {
       "output_type": "stream",
       "stream": "stdout",
       "text": [
        "\n",
        "  [7.9.2] Carboxylic acid to alcohol reduction\n",
        "    [7.9] Other reductions\n",
        "$$  0.06 s\n",
        "\n",
        "\n",
        "####  Line 152  ####\n",
        "IN :  CCOCC.COc1ccc(cc1)C(=O)CCC(=O)O.Cl>O.Cl[Hg]Cl.[Zn]>COc1ccc(cc1)CCCC(=O)O\n",
        "  [7.9.3] Clemmensen reduction\n",
        "OUT:  Cl.CCOCC.COc1ccc(C(=O)CCC(=O)O)cc1>O.[Zn].Cl[Hg]Cl>COc1ccc(CCCC(=O)O)cc1\n",
        "  [7.9.3] Clemmensen reduction\n",
        "    [7.9] Other reductions\n",
        "$$  0.02 s\n",
        "\n",
        "\n",
        "####  Line 153  ####\n",
        "IN :  [BH4-].CC(=O)c1ccc2c(c1)CCN2S(=O)(=O)c3ccccc3.O.[OH-].[Na+].[Na+]>C(=O)(C(F)(F)F)O>CCc1ccc2c(c1)CCN2S(=O)(=O)c3ccccc3\n",
        "  [7.9.4] Ketone to alkane reduction\n",
        "OUT:  [BH4-].[OH-].O.[Na+].[Na+].CC(=O)c1ccc2c(c1)CCN2S(=O)(=O)c1ccccc1>O=C(O)C(F)(F)F>CCc1ccc2c(c1)CCN2S(=O)(=O)c1ccccc1"
       ]
      },
      {
       "output_type": "stream",
       "stream": "stdout",
       "text": [
        "\n",
        "  [7.9.4] Ketone to alkane reduction\n",
        "    [7.9] Other reductions\n",
        "$$  0.09 s\n",
        "\n",
        "\n",
        "####  Line 154  ####\n",
        "IN :  c1ccc(cc1)Cn2c(c(c(=O)[nH]c2=O)N=O)N.[O-]S(=O)S(=O)[O-].[Na+].[Na+]>N>c1ccc(cc1)Cn2c(c(c(=O)[nH]c2=O)N)N\n",
        "  [7.9.5] Nitroso to amino\n",
        "OUT:  [Na+].[Na+].Nc1c(N=O)c(=O)[nH]c(=O)n1Cc1ccccc1.O=S([O-])S(=O)[O-]>N>Nc1c(N)n(Cc2ccccc2)c(=O)[nH]c1=O\n",
        "  [7.9.5] Nitroso to amino reduction\n",
        "    [7.9] Other reductions\n",
        "$$  0.05 s\n",
        "\n",
        "\n",
        "####  Line 155  ####\n",
        "IN :  c1cc(ccc1C(=O)C(=O)O)SC2CC2.NN.O.[OH-].[K+]>O>c1cc(ccc1CC(=O)O)SC2CC2\n",
        "  [7.9.6] Wolff-Kishner reduction\n",
        "OUT:  [OH-].O.[K+].NN.O=C(O)C(=O)c1ccc(SC2CC2)cc1>O>O=C(O)Cc1ccc(SC2CC2)cc1"
       ]
      },
      {
       "output_type": "stream",
       "stream": "stdout",
       "text": [
        "\n",
        "  [7.9.6] Wolff-Kishner reduction\n",
        "    [7.9] Other reductions\n",
        "$$  0.02 s\n",
        "\n",
        "\n",
        "####  Line 156  ####\n",
        "IN :  C[N+]1(CCOCC1)[O-].COCCOc1ccc(c(c1)CBr)Cl>C1COCCO1>COCCOc1ccc(c(c1)C=O)Cl\n",
        "  [8.1.1] Bromo to oxo oxidation\n",
        "OUT:  COCCOc1ccc(Cl)c(CBr)c1.C[N+]1([O-])CCOCC1>C1COCCO1>COCCOc1ccc(Cl)c(C=O)c1\n",
        "  [8.1.1] Bromo to oxo oxidation\n",
        "    [8.1] Alcohols to aldehydes\n",
        "$$  0.03 s\n",
        "\n",
        "\n",
        "####  Line 157  ####\n",
        "IN :  Cc1ccc(cc1)S(=O)(=O)n2cc(cn2)CO.CC(=O)OI1(c2ccccc2C(=O)O1)(OC(=O)C)OC(=O)C>C1CCOC1.C(=O)(O)[O-].[Na+]>Cc1ccc(cc1)S(=O)(=O)n2cc(cn2)C=O\n",
        "  [8.1.2] Dess-Martin aldehyde oxidation\n",
        "OUT:  CC(=O)OI1(OC(C)=O)(OC(C)=O)OC(=O)c2ccccc21.Cc1ccc(S(=O)(=O)n2cc(CO)cn2)cc1>[Na+].O=C([O-])O.C1CCOC1>Cc1ccc(S(=O)(=O)n2cc(C=O)cn2)cc1"
       ]
      },
      {
       "output_type": "stream",
       "stream": "stdout",
       "text": [
        "\n",
        "  [8.1.4] Alcohol to aldehyde oxidation\n",
        "    [8.1] Alcohols to aldehydes\n",
        "$$  0.10 s\n",
        "\n",
        "\n",
        "####  Line 158  ####\n",
        "IN :  CCOC(=O)c1cc2c([nH]1)c(co2)CO>C(Cl)Cl.O=[Mn]=O>CCOC(=O)c1cc2c([nH]1)c(co2)C=O\n",
        "  [8.1.4] Alcohol to aldehyde oxidation\n",
        "OUT:  CCOC(=O)c1cc2occ(CO)c2[nH]1>O=[Mn]=O.ClCCl>CCOC(=O)c1cc2occ(C=O)c2[nH]1\n",
        "  [8.1.4] Alcohol to aldehyde oxidation\n",
        "    [8.1] Alcohols to aldehydes\n",
        "$$  0.04 s\n",
        "\n",
        "\n",
        "####  Line 159  ####\n",
        "IN :  c1ccc(c(c1)S(=O)(=O)[O-])I.C1CC2(CCC1O)OCCO2.[O-]S(=O)(=O)[O-].[Na+].[Na+].[Na+]>CCOC(=O)C>C1CC2(CCC1=O)OCCO2\n",
        "  [8.1.5] Alcohol to ketone oxidation\n",
        "OUT:  [Na+].[Na+].[Na+].O=S(=O)([O-])[O-].O=S(=O)([O-])c1ccccc1I.OC1CCC2(CC1)OCCO2>CCOC(C)=O>O=C1CCC2(CC1)OCCO2"
       ]
      },
      {
       "output_type": "stream",
       "stream": "stdout",
       "text": [
        "\n",
        "  [8.1.5] Alcohol to ketone oxidation\n",
        "    [8.1] Alcohols to aldehydes\n",
        "$$  0.06 s\n",
        "\n",
        "\n",
        "####  Line 160  ####\n",
        "IN :  CC(C)O.C1C2CC(C1C3C2C(=O)NC3=O)O.O=[Cr](=O)=O>CC(=O)C.O.OS(=O)(=O)O>C1C2CC(=O)C1C3C2C(=O)NC3=O\n",
        "  [8.1.7] Jones ketone oxidation\n",
        "OUT:  CC(C)O.O=C1NC(=O)C2C3CC(CC3O)C12.O=[Cr](=O)=O>O.CC(C)=O.O=S(=O)(O)O>O=C1CC2CC1C1C(=O)NC(=O)C21"
       ]
      },
      {
       "output_type": "stream",
       "stream": "stdout",
       "text": [
        "\n",
        "  [8.1.7] Jones ketone oxidation\n",
        "    [8.1] Alcohols to aldehydes\n",
        "$$  0.07 s\n",
        "\n",
        "\n",
        "####  Line 161  ####\n",
        "IN :  CSCc1cccc2c1[nH]cc2C(c3ccc(cc3)C#N)c4ccc(cc4)F.c1cc(cc(c1)Cl)C(=O)OO>C(Cl)Cl>CS(=O)Cc1cccc2c1[nH]cc2C(c3ccc(cc3)C#N)c4ccc(cc4)F\n",
        "  [8.2.1] Sulfanyl to sulfinyl\n",
        "OUT:  CSCc1cccc2c(C(c3ccc(F)cc3)c3ccc(C#N)cc3)c[nH]c21.O=C(OO)c1cccc(Cl)c1>ClCCl>CS(=O)Cc1cccc2c(C(c3ccc(F)cc3)c3ccc(C#N)cc3)c[nH]c21"
       ]
      },
      {
       "output_type": "stream",
       "stream": "stdout",
       "text": [
        "\n",
        "  [8.2.1] Sulfanyl to sulfinyl\n",
        "    [8.2] Oxidations at sulfur\n",
        "$$  0.21 s\n",
        "\n",
        "\n",
        "####  Line 162  ####\n",
        "IN :  CSCc1cccc2c1[nH]cc2.c1cc(cc(c1)Cl)C(=O)OO.[O-]S(=O)[O-].[Na+].[Na+]>C1CCOC1>CS(=O)(=O)Cc1cccc2c1[nH]cc2\n",
        "  [8.2.2] Sulfanyl to sulfonyl\n",
        "OUT:  [Na+].[Na+].CSCc1cccc2cc[nH]c21.O=C(OO)c1cccc(Cl)c1.O=S([O-])[O-]>C1CCOC1>CS(=O)(=O)Cc1cccc2cc[nH]c21"
       ]
      },
      {
       "output_type": "stream",
       "stream": "stdout",
       "text": [
        "\n",
        "  [8.2.2] Sulfanyl to sulfonyl\n",
        "    [8.2] Oxidations at sulfur\n",
        "$$  0.07 s\n",
        "\n",
        "\n",
        "####  Line 163  ####\n",
        "IN :  CS(=O)c1ccccc1.OO>O>CS(=O)(=O)c1ccccc1\n",
        "  [8.2.4] Sulfinyl to sulfonyl\n",
        "OUT:  CS(=O)c1ccccc1.OO>O>CS(=O)(=O)c1ccccc1\n",
        "  [8.2.4] Sulfinyl to sulfonyl\n",
        "    [8.2] Oxidations at sulfur\n",
        "$$  0.01 s\n",
        "\n",
        "\n",
        "####  Line 164  ####\n",
        "IN :  CC(=O)Oc1c(c(ccc1)I)OC(=O)C.CC1(N(C(CCC1)(C)C)[O])C.C#CC[C@H]1CC[C@@H](CC1)CO>CC#N.O>C#CCC1CCC(CC1)C(=O)O\n",
        "  [8.3.5] Alcohol to acid oxidation\n",
        "OUT:  C#CCC1CCC(CO)CC1.CC(=O)Oc1cccc(I)c1OC(C)=O.CC1(C)CCCC(C)(C)N1[O]>O.CC#N>C#CCC1CCC(C(=O)O)CC1"
       ]
      },
      {
       "output_type": "stream",
       "stream": "stdout",
       "text": [
        "\n",
        "  [8.3.1] Alcohol to acid oxidation\n",
        "    [8.3] Alcohols to acids\n",
        "$$  0.06 s\n",
        "\n",
        "\n",
        "####  Line 165  ####\n",
        "IN :  c1cc(c(cc1C2=NOC(C2)(c3cc(cc(c3)Cl)Cl)C(F)(F)F)F)CO.OS(=O)(=O)O.O[Cr](=O)(=O)O>CC(=O)C.O>c1cc(c(cc1C2=NOC(C2)(c3cc(cc(c3)Cl)Cl)C(F)(F)F)F)C(=O)O\n",
        "  [8.3.6] Jones acid oxidation\n",
        "OUT:  O=S(=O)(O)O.O=[Cr](=O)(O)O.OCc1ccc(C2=NOC(c3cc(Cl)cc(Cl)c3)(C(F)(F)F)C2)cc1F>O.CC(C)=O>O=C(O)c1ccc(C2=NOC(c3cc(Cl)cc(Cl)c3)(C(F)(F)F)C2)cc1F"
       ]
      },
      {
       "output_type": "stream",
       "stream": "stdout",
       "text": [
        "\n",
        "  [8.3.2] Jones acid oxidation\n",
        "    [8.3] Alcohols to acids\n",
        "$$  0.06 s\n",
        "\n",
        "\n",
        "####  Line 166  ####\n",
        "IN :  c1(nnc(s1)Br)N.N(=O)[O-].[Na+]>O.Cl.[Cu]>c1(nnc(s1)Br)[N+](=O)[O-]\n",
        "  [8.4.1] Amino to nitro\n",
        "OUT:  [Na+].Nc1nnc(Br)s1.O=N[O-]>O.Cl.[Cu]>O=[N+]([O-])c1nnc(Br)s1\n",
        "  [8.4.1] Amino to nitro\n",
        "    [8.4] Oxidations at nitrogen\n",
        "$$  0.03 s\n",
        "\n",
        "\n",
        "####  Line 167  ####\n",
        "IN :  COc1ccc2c(n1)C3(CO2)c4ccccc4N(C3=O)Cc5ccc(o5)C(F)(F)F.c1cc(cc(c1)Cl)C(=O)OO>C(Cl)Cl>COc1ccc2c([n+]1[O-])C3(CO2)c4ccccc4N(C3=O)Cc5ccc(o5)C(F)(F)F\n",
        "  [8.4.2] Nitrogen oxidation\n",
        "OUT:  COc1ccc2c(n1)C1(CO2)C(=O)N(Cc2ccc(C(F)(F)F)o2)c2ccccc21.O=C(OO)c1cccc(Cl)c1>ClCCl>COc1ccc2c([n+]1[O-])C1(CO2)C(=O)N(Cc2ccc(C(F)(F)F)o2)c2ccccc21"
       ]
      },
      {
       "output_type": "stream",
       "stream": "stdout",
       "text": [
        "\n",
        "  [8.4.2] Nitrogen oxidation\n",
        "    [8.4] Oxidations at nitrogen\n",
        "$$  0.32 s\n",
        "\n",
        "\n",
        "####  Line 168  ####\n",
        "IN :  c1cc(c2cc[nH]c2c1)c3cnc(nc3)O[C@H]4CN5CCC4CC5.OO>>c1cc(c2cc[nH]c2c1)c3cnc(nc3)O[C@H]4C[N+]5(CCC4CC5)[O-]\n",
        "  [8.4.3] Tertiary amine oxidation\n",
        "OUT:  OO.c1cc2c(cccc2-c2cnc(OC3CN4CCC3CC4)nc2)[nH]1>>[O-][N+]12CCC(CC1)C(Oc1ncc(-c3cccc4[nH]ccc43)cn1)C2\n",
        "  [8.4.3] Tertiary amine oxidation\n",
        "    [8.4] Oxidations at nitrogen\n",
        "$$  0.02 s\n",
        "\n",
        "\n",
        "####  Line 169  ####\n",
        "IN :  c1ccc(cc1)P(c2ccccc2)c3ccccc3.c1ccc(c(c1)CCO)[N+](=O)[O-].C(Br)(Br)(Br)Br>C(Cl)Cl>c1ccc(c(c1)CCBr)[N+](=O)[O-]\n",
        "  [9.1.1] Appel bromination\n",
        "OUT:  O=[N+]([O-])c1ccccc1CCO.BrC(Br)(Br)Br.c1ccc(P(c2ccccc2)c2ccccc2)cc1>ClCCl>O=[N+]([O-])c1ccccc1CCBr\n",
        "  [9.1.1] Appel bromination\n",
        "    [9.1] Alcohol to halide\n",
        "$$  0.02 s\n",
        "\n",
        "\n",
        "####  Line 170  ####\n",
        "IN :  c1ccc(cc1)P(c2ccccc2)c3ccccc3.c1ccnc(c1)OCc2ccc(cc2)CO.C(Cl)(Cl)(Cl)Cl>>c1ccnc(c1)OCc2ccc(cc2)CCl\n",
        "  [9.1.2] Appel chlorination\n",
        "OUT:  OCc1ccc(COc2ccccn2)cc1.ClC(Cl)(Cl)Cl.c1ccc(P(c2ccccc2)c2ccccc2)cc1>>ClCc1ccc(COc2ccccn2)cc1"
       ]
      },
      {
       "output_type": "stream",
       "stream": "stdout",
       "text": [
        "\n",
        "  [9.1.2] Appel chlorination\n",
        "    [9.1] Alcohol to halide\n",
        "$$  0.02 s\n",
        "\n",
        "\n",
        "####  Line 171  ####\n",
        "IN :  CCc1cc2c(cc1OC)c(cnn2)O.C(=O)([O-])[O-].O.O=P(Br)(Br)Br.[Na+].[Na+]>CC#N>CCc1cc2c(cc1OC)c(cnn2)Br\n",
        "  [9.1.5] Hydroxy to bromo\n",
        "OUT:  O.[Na+].[Na+].CCc1cc2nncc(O)c2cc1OC.O=C([O-])[O-].O=P(Br)(Br)Br>CC#N>CCc1cc2nncc(Br)c2cc1OC\n",
        "  [9.1.5] Hydroxy to bromo\n",
        "    [9.1] Alcohol to halide\n",
        "$$  0.04 s\n",
        "\n",
        "\n",
        "####  Line 172  ####\n",
        "IN :  CCOC(=O)c1cnc(nc1O)C(C)(C)C.O=P(Cl)(Cl)Cl>CCN(CC)CC>CCOC(=O)c1cnc(nc1Cl)C(C)(C)C\n",
        "  [9.1.6] Hydroxy to chloro\n",
        "OUT:  CCOC(=O)c1cnc(C(C)(C)C)nc1O.O=P(Cl)(Cl)Cl>CCN(CC)CC>CCOC(=O)c1cnc(C(C)(C)C)nc1Cl"
       ]
      },
      {
       "output_type": "stream",
       "stream": "stdout",
       "text": [
        "\n",
        "  [9.1.6] Hydroxy to chloro\n",
        "    [9.1] Alcohol to halide\n",
        "$$  0.02 s\n",
        "\n",
        "\n",
        "####  Line 173  ####\n",
        "IN :  CCN(CC)S(F)(F)F.c1cnc(c(n1)C2(CCOCC2)O)F.C(=O)([O-])[O-].[Na+].[Na+]>C(Cl)Cl>c1cnc(c(n1)C2(CCOCC2)F)F\n",
        "  [9.1.7] Hydroxy to fluoro\n",
        "OUT:  [Na+].[Na+].CCN(CC)S(F)(F)F.O=C([O-])[O-].OC1(c2nccnc2F)CCOCC1>ClCCl>Fc1nccnc1C1(F)CCOCC1"
       ]
      },
      {
       "output_type": "stream",
       "stream": "stdout",
       "text": [
        "\n",
        "  [9.1.7] Hydroxy to fluoro\n",
        "    [9.1] Alcohol to halide\n",
        "$$  0.14 s\n",
        "\n",
        "\n",
        "####  Line 174  ####\n",
        "IN :  c1ccc(cc1)C(=O)OCCOCCO.c1ccc(cc1)P(c2ccccc2)c3ccccc3.C1CC(=O)N(C1=O)I.C(=O)(O)[O-].[Na+]>C(Cl)Cl>c1ccc(cc1)C(=O)OCCOCCI\n",
        "  [9.1.8] Hydroxy to iodo\n",
        "OUT:  [Na+].O=C([O-])O.O=C(OCCOCCO)c1ccccc1.O=C1CCC(=O)N1I.c1ccc(P(c2ccccc2)c2ccccc2)cc1>ClCCl>O=C(OCCOCCI)c1ccccc1"
       ]
      },
      {
       "output_type": "stream",
       "stream": "stdout",
       "text": [
        "\n",
        "  [9.1.8] Hydroxy to iodo\n",
        "    [9.1] Alcohol to halide\n",
        "$$  0.23 s\n",
        "\n",
        "\n",
        "####  Line 175  ####\n",
        "IN :  COc1ccc(cc1C(=O)O)Cl.O=S(Cl)Cl>>COc1ccc(cc1C(=O)Cl)Cl\n",
        "  [9.3.1] Carboxylic acid to acid chloride\n",
        "OUT:  COc1ccc(Cl)cc1C(=O)O.O=S(Cl)Cl>>COc1ccc(Cl)cc1C(=O)Cl\n",
        "  [9.3.1] Carboxylic acid to acid chloride\n",
        "    [9.3] Acid to acid chloride\n",
        "$$  0.01 s\n",
        "\n",
        "\n",
        "####  Line 176  ####\n",
        "IN :  c1ccc(cc1)COc2ccccc2CCCCCCCS(=O)(=O)O.O=S(Cl)Cl.[Na]>c1ccccc1>c1ccc(cc1)COc2ccccc2CCCCCCCS(=O)(=O)Cl\n",
        "  [9.3.2] Acid to acid chloride\n",
        "OUT:  [Na].O=S(Cl)Cl.O=S(=O)(O)CCCCCCCc1ccccc1OCc1ccccc1>c1ccccc1>O=S(=O)(Cl)CCCCCCCc1ccccc1OCc1ccccc1\n",
        "  [9.3.2] Acid to acid chloride\n",
        "    [9.3] Acid to acid chloride\n",
        "$$  0.02 s\n",
        "\n",
        "\n",
        "####  Line 177  ####\n",
        "IN :  c1cc(cnc1)c2c[nH]n(c2=O)c3cc(ccn3)C#N.O.[OH-].[Na+].Cl>CCO>c1cc(cnc1)c2c[nH]n(c2=O)c3cc(ccn3)C(=O)O\n",
        "  [9.4.1] Cyano to carboxy\n",
        "OUT:  [OH-].O.[Na+].Cl.N#Cc1ccnc(-n2[nH]cc(-c3cccnc3)c2=O)c1>CCO>O=C(O)c1ccnc(-n2[nH]cc(-c3cccnc3)c2=O)c1\n",
        "  [9.4.1] Cyano to carboxy\n",
        "    [9.4] Nitrile to acid\n",
        "$$  0.02 s\n",
        "\n",
        "\n",
        "####  Line 178  ####\n",
        "IN :  CCN(CC)CC.c1c(c(nnc1Cl)Cl)C(=O)N.C(=O)(C(F)(F)F)OC(=O)C(F)(F)F.C(=O)(O)[O-].[Na+]>C(Cl)Cl>c1c(c(nnc1Cl)Cl)C#N\n",
        "  [9.5.1] Carbamoyl to cyano\n",
        "OUT:  [Na+].CCN(CC)CC.NC(=O)c1cc(Cl)nnc1Cl.O=C([O-])O.O=C(OC(=O)C(F)(F)F)C(F)(F)F>ClCCl>N#Cc1cc(Cl)nnc1Cl"
       ]
      },
      {
       "output_type": "stream",
       "stream": "stdout",
       "text": [
        "\n",
        "  [9.5.1] Carbamoyl to cyano\n",
        "    [9.5] Dehydration\n",
        "$$  0.77 s\n",
        "\n",
        "\n",
        "####  Line 179  ####\n",
        "IN :  c1cc(nc2c1c(n[nH]2)Cn3ccc(c(c3=O)Oc4cc(cc(c4)Cl)Cl)C(F)(F)F)N.C1COCCO1>CO.C(Cl)Cl.Cl>c1cc(nc2c1c(n[nH]2)Cn3ccc(c(c3=O)Oc4cc(cc(c4)Cl)Cl)C(F)(F)F)[NH3+].[Cl-]\n",
        "  [9.7.1] Amino to ammonio\n",
        "OUT:  Nc1ccc2c(Cn3ccc(C(F)(F)F)c(Oc4cc(Cl)cc(Cl)c4)c3=O)n[nH]c2n1.C1COCCO1>Cl.CO.ClCCl>[Cl-].[NH3+]c1ccc2c(Cn3ccc(C(F)(F)F)c(Oc4cc(Cl)cc(Cl)c4)c3=O)n[nH]c2n1"
       ]
      },
      {
       "output_type": "stream",
       "stream": "stdout",
       "text": [
        "\n",
        "  [9.7.1] Amino to ammonio\n",
        "    [9.7] Other functional group interconversion\n",
        "$$  0.05 s\n",
        "\n",
        "\n",
        "####  Line 180  ####\n",
        "IN :  COC(=O)C(CCCCNC(=O)OCc1ccccc1)N.[N-]=[N+]=[N-].[Na+].Cl>CN(C)c1ccncc1.C(Cl)Cl.O>COC(=O)C(CCCCNC(=O)OCc1ccccc1)N=[N+]=[N-]\n",
        "  [9.7.2] Amino to azido\n",
        "OUT:  [Na+].Cl.COC(=O)C(N)CCCCNC(=O)OCc1ccccc1.[N-]=[N+]=[N-]>O.CN(C)c1ccncc1.ClCCl>COC(=O)C(CCCCNC(=O)OCc1ccccc1)N=[N+]=[N-]\n",
        "  [9.7.2] Amino to azido\n",
        "    [9.7] Other functional group interconversion\n",
        "$$  0.05 s\n",
        "\n",
        "\n",
        "####  Line 181  ####\n",
        "IN :  c1c(ncc(n1)Br)N.N(=O)[O-].[OH-].[Na+].[Na+].Br.[Br]>O>c1c(ncc(n1)Br)Br\n",
        "  [9.7.3] Amino to bromo\n",
        "OUT:  [OH-].[Na+].[Na+].[Br].Br.Nc1cnc(Br)cn1.O=N[O-]>O>Brc1cnc(Br)cn1"
       ]
      },
      {
       "output_type": "stream",
       "stream": "stdout",
       "text": [
        "\n",
        "  [9.7.3] Amino to bromo\n",
        "    [9.7] Other functional group interconversion\n",
        "$$  0.02 s\n",
        "\n",
        "\n",
        "####  Line 182  ####\n",
        "IN :  c1ccc(cc1)c2nnc(s2)N.N(=O)[O-].[Na+].Cl>CC(=O)O.O.[Cu]>c1ccc(cc1)c2nnc(s2)Cl\n",
        "  [9.7.4] Amino to chloro\n",
        "OUT:  [Na+].Cl.Nc1nnc(-c2ccccc2)s1.O=N[O-]>O.[Cu].CC(=O)O>Clc1nnc(-c2ccccc2)s1\n",
        "  [9.7.4] Amino to chloro\n",
        "    [9.7] Other functional group interconversion\n",
        "$$  0.04 s\n",
        "\n",
        "\n",
        "####  Line 183  ####\n",
        "IN :  c1c(cc(c(c1F)N)Br)Cl.C(#N)[K].O.O.O.O.O.O.OS(=O)(=O)O>C(Cl)Cl>c1c(cc(c(c1F)C#N)Br)Cl\n",
        "  [9.7.5] Amino to cyano\n",
        "OUT:  O.O.O.O.O.O.N#C[K].Nc1c(F)cc(Cl)cc1Br.O=S(=O)(O)O>ClCCl>N#Cc1c(F)cc(Cl)cc1Br"
       ]
      },
      {
       "output_type": "stream",
       "stream": "stdout",
       "text": [
        "\n",
        "  [9.7.5] Amino to cyano\n",
        "    [9.7] Other functional group interconversion\n",
        "$$  0.07 s\n",
        "\n",
        "\n",
        "####  Line 184  ####\n",
        "IN :  [B-](F)(F)(F)F.c1cc(c2cn[nH]c2c1)N.N(=O)[O-].[Na+].[Na+]>O.Cl>[B-](F)(F)(F)F.c1cc2c(cn[nH]2)c(c1)[N+]#N\n",
        "  [9.7.6] Amino to diazonio\n",
        "OUT:  [Na+].[Na+].Nc1cccc2[nH]ncc21.O=N[O-].F[B-](F)(F)F>O.Cl>N#[N+]c1cccc2[nH]ncc21.F[B-](F)(F)F\n",
        "  [9.7.6] Amino to diazonio\n",
        "    [9.7] Other functional group interconversion\n",
        "$$  0.03 s\n",
        "\n",
        "\n",
        "####  Line 185  ####\n",
        "IN :  [H+].[B-](F)(F)(F)F.CC(C)CCON=O.c1cc(c(nc1)[N+](=O)[O-])N>CCO>c1cc(c(nc1)[N+](=O)[O-])F\n",
        "  [9.7.7] Amino to fluoro\n",
        "OUT:  [H+].CC(C)CCON=O.Nc1cccnc1[N+](=O)[O-].F[B-](F)(F)F>CCO>O=[N+]([O-])c1ncccc1F"
       ]
      },
      {
       "output_type": "stream",
       "stream": "stdout",
       "text": [
        "\n",
        "  [9.7.7] Amino to fluoro\n",
        "    [9.7] Other functional group interconversion\n",
        "$$  0.03 s\n",
        "\n",
        "\n",
        "####  Line 186  ####\n",
        "IN :  CCN(CC)CC.c1ccc(cc1)COC(=O)N2CCC(CC2)N.c1cnn(c1)C(=O)N>CC#N>c1ccc(cc1)COC(=O)N2CCC(CC2)NC(=N)N\n",
        "  [9.7.8] Amino to guanidino\n",
        "OUT:  CCN(CC)CC.NC(=O)n1cccn1.NC1CCN(C(=O)OCc2ccccc2)CC1>CC#N>N=C(N)NC1CCN(C(=O)OCc2ccccc2)CC1"
       ]
      },
      {
       "output_type": "stream",
       "stream": "stdout",
       "text": [
        "\n",
        "  [9.7.8] Amino to guanidino\n",
        "    [9.7] Other functional group interconversion\n",
        "$$  0.10 s\n",
        "\n",
        "\n",
        "####  Line 187  ####\n",
        "IN :  CCOC(=O)c1cccc(c1)N.N(=O)[O-].[Na+]>Cl>CCOC(=O)c1cccc(c1)NN\n",
        "  [9.7.9] Amino to hydrazino\n",
        "OUT:  [Na+].CCOC(=O)c1cccc(N)c1.O=N[O-]>Cl>CCOC(=O)c1cccc(NN)c1\n",
        "  [9.7.9] Amino to hydrazino\n",
        "    [9.7] Other functional group interconversion\n",
        "$$  0.02 s\n",
        "\n",
        "\n",
        "####  Line 188  ####\n",
        "IN :  COc1cc(cc(c1)[N+](=O)[O-])N.N(=O)[O-].[Na+].Cl.[K+].[I-]>O>COc1cc(cc(c1)I)[N+](=O)[O-]\n",
        "  [9.7.10] Amino to iodo\n",
        "OUT:  [Na+].Cl.[K+].[I-].COc1cc(N)cc([N+](=O)[O-])c1.O=N[O-]>O>COc1cc(I)cc([N+](=O)[O-])c1\n",
        "  [9.7.10] Amino to iodo\n",
        "    [9.7] Other functional group interconversion\n",
        "$$  0.02 s\n",
        "\n",
        "\n",
        "####  Line 189  ####\n",
        "IN :  c1cc(c(cc1N)C(F)(F)F)C#N.C(=O)(OC(Cl)(Cl)Cl)OC(Cl)(Cl)Cl.[OH-].[Na+]>Cc1ccccc1.C1COCCO1>c1cc(c(cc1N=C=O)C(F)(F)F)C#N\n",
        "  [9.7.11] Amino to isocyanato\n",
        "OUT:  [OH-].[Na+].N#Cc1ccc(N)cc1C(F)(F)F.O=C(OC(Cl)(Cl)Cl)OC(Cl)(Cl)Cl>Cc1ccccc1.C1COCCO1>N#Cc1ccc(N=C=O)cc1C(F)(F)F"
       ]
      },
      {
       "output_type": "stream",
       "stream": "stdout",
       "text": [
        "\n",
        "  [9.7.11] Amino to isocyanato\n",
        "    [9.7] Other functional group interconversion\n",
        "$$  0.08 s\n",
        "\n",
        "\n",
        "####  Line 190  ####\n",
        "IN :  COc1cccc(c1)c2cc(ncn2)N.c1ccn(c(=O)c1)C(=S)n2ccccc2=O>C(Cl)Cl>COc1cccc(c1)c2cc(ncn2)N=C=S\n",
        "  [9.7.12] Amino to isothiocyanato\n",
        "OUT:  COc1cccc(-c2cc(N)ncn2)c1.O=c1ccccn1C(=S)n1ccccc1=O>ClCCl>COc1cccc(-c2cc(N=C=S)ncn2)c1\n",
        "  [9.7.12] Amino to isothiocyanato\n",
        "    [9.7] Other functional group interconversion\n",
        "$$  0.05 s\n",
        "\n",
        "\n",
        "####  Line 191  ####\n",
        "IN :  [H-].[H-].[H-].[H-].[Li+].CCn1c2c(cn1)c(c(cn2)C3=NOC4(C3)CCC(CC4)N=[N+]=[N-])NC5CCCCC5.[Al+3]>C1CCOC1>CCn1c2c(cn1)c(c(cn2)C3=NOC4(C3)CCC(CC4)N)NC5CCCCC5\n",
        "  [9.7.13] Azido to amino\n"
       ]
      },
      {
       "output_type": "stream",
       "stream": "stdout",
       "text": [
        "OUT:  [H-].[H-].[H-].[H-].[Li+].[Al+3].CCn1ncc2c1ncc(C1=NOC3(C1)CCC(N=[N+]=[N-])CC3)c2NC1CCCCC1>C1CCOC1>CCn1ncc2c1ncc(C1=NOC3(C1)CCC(N)CC3)c2NC1CCCCC1\n",
        "  [9.7.13] Azido to amino\n",
        "    [9.7] Other functional group interconversion\n",
        "$$  0.07 s\n",
        "\n",
        "\n",
        "####  Line 192  ####\n",
        "IN :  [B-](F)(F)(F)F.COc1ccc2c(n1)c(c(cn2)[N+]#N)Br>C1CCC2CCCCC2C1.C(Cl)(Cl)Cl>COc1ccc2c(n1)c(c(cn2)F)Br\n",
        "  [9.7.14] Balz-Schiemann reaction\n",
        "OUT:  COc1ccc2ncc([N+]#N)c(Br)c2n1.F[B-](F)(F)F>ClC(Cl)Cl.C1CCC2CCCCC2C1>COc1ccc2ncc(F)c(Br)c2n1\n",
        "  [9.7.14] Balz-Schiemann reaction\n",
        "    [9.7] Other functional group interconversion\n",
        "$$  0.01 s\n",
        "\n",
        "\n",
        "####  Line 193  ####\n",
        "IN :  B(c1cccc(c1F)OCC)(O)O.CC(=O)O.OO>C1CCOC1>CCOc1cccc(c1F)O\n",
        "  [9.7.16] Borono to hydroxy\n",
        "OUT:  CCOc1cccc(B(O)O)c1F.CC(=O)O.OO>C1CCOC1>CCOc1cccc(O)c1F\n",
        "  [9.7.16] Borono to hydroxy\n",
        "    [9.7] Other functional group interconversion\n",
        "$$  0.03 s\n",
        "\n",
        "\n",
        "####  Line 194  ####\n",
        "IN :  B(c1cc(cnc1F)C2OCCO2)(O)O.CC(C)(C(C)(C)O)O.[O-]S(=O)(=O)[O-].[Mg+2]>>B1(OC(C(O1)(C)C)(C)C)c2cc(cnc2F)C3OCCO3\n",
        "  [9.7.17] Borono to pinacolatoboranyl\n",
        "OUT:  [Mg+2].CC(C)(O)C(C)(C)O.O=S(=O)([O-])[O-].OB(O)c1cc(C2OCCO2)cnc1F>>CC1(C)OB(c2cc(C3OCCO3)cnc2F)OC1(C)C"
       ]
      },
      {
       "output_type": "stream",
       "stream": "stdout",
       "text": [
        "\n",
        "  [9.7.17] Borono to pinacolatoboranyl\n",
        "    [9.7] Other functional group interconversion\n",
        "$$  0.03 s\n",
        "\n",
        "\n",
        "####  Line 195  ####\n",
        "IN :  CC(CCN1c2ccccc2N(S1(=O)=O)c3ccccc3F)Br.CNN.c1ccc2c(c1)C(=O)NC2=O.[K]>>CC(CCN1c2ccccc2N(S1(=O)=O)c3ccccc3F)N\n",
        "  [9.7.18] Bromo Gabriel synthesis\n",
        "OUT:  [K].CNN.CC(Br)CCN1c2ccccc2N(c2ccccc2F)S1(=O)=O.O=C1NC(=O)c2ccccc21>>CC(N)CCN1c2ccccc2N(c2ccccc2F)S1(=O)=O"
       ]
      },
      {
       "output_type": "stream",
       "stream": "stdout",
       "text": [
        "\n",
        "  [9.7.18] Bromo Gabriel synthesis\n",
        "    [9.7] Other functional group interconversion\n",
        "$$  0.07 s\n",
        "\n",
        "\n",
        "####  Line 196  ####\n",
        "IN :  [Li+].CO.COc1cc2nccc(c2cc1)C(O)c3ccc(cc3)Br.C[Si]([N-][Si](C)(C)C)(C)C>Cc1ccccc1.c1ccc(cc1)/C=C/C(=O)/C=C/c2ccccc2.c1ccc(cc1)/C=C/C(=O)/C=C/c2ccccc2.c1ccc(cc1)/C=C/C(=O)/C=C/c2ccccc2.[Pd].[Pd]>COc1cc2nccc(c2cc1)C(O)c3ccc(cc3)N\n",
        "  [9.7.22] Bromo to amino\n",
        "OUT:  [Li+].CO.COc1ccc2c(c1)nccc2C(O)c1ccc(Br)cc1.C[Si](C)(C)[N-][Si](C)(C)C>[Pd].[Pd].Cc1ccccc1.O=C(C=Cc1ccccc1)C=Cc1ccccc1.O=C(C=Cc1ccccc1)C=Cc1ccccc1.O=C(C=Cc1ccccc1)C=Cc1ccccc1>COc1ccc2c(c1)nccc2C(O)c1ccc(N)cc1"
       ]
      },
      {
       "output_type": "stream",
       "stream": "stdout",
       "text": [
        "\n",
        "  [9.7.22] Bromo to amino\n",
        "    [9.7] Other functional group interconversion\n",
        "$$  0.83 s\n",
        "\n",
        "\n",
        "####  Line 197  ####\n",
        "IN :  c1ccc(cc1)COc2ccc(cc2N)[C@H](CBr)O.[N-]=[N+]=[N-].[Na+]>CN(C)C=O>c1ccc(cc1)COc2ccc(cc2N)[C@H](CN=[N+]=[N-])O\n",
        "  [9.7.23] Bromo to azido\n",
        "OUT:  [Na+].[N-]=[N+]=[N-].Nc1cc(C(O)CBr)ccc1OCc1ccccc1>CN(C)C=O>[N-]=[N+]=NCC(O)c1ccc(OCc2ccccc2)c(N)c1"
       ]
      },
      {
       "output_type": "stream",
       "stream": "stdout",
       "text": [
        "\n",
        "  [1.6.2] Bromo N-alkylation\n",
        "    [1.6] Heteroaryl N-alkylation\n",
        "$$  0.08 s\n",
        "\n",
        "\n",
        "####  Line 198  ####\n",
        "IN :  [Li]CCCC.B(OC(C)C)(OC(C)C)OC(C)C.c1cc(c(cc1Br)C(F)(F)F)OCCCOC2CCCCO2>C1CCOC1>B(c1ccc(c(c1)C(F)(F)F)OCCCOC2CCCCO2)(O)O\n",
        "  [9.7.24] Bromo to borono\n",
        "OUT:  [Li]CCCC.CC(C)OB(OC(C)C)OC(C)C.FC(F)(F)c1cc(Br)ccc1OCCCOC1CCCCO1>C1CCOC1>OB(O)c1ccc(OCCCOC2CCCCO2)c(C(F)(F)F)c1"
       ]
      },
      {
       "output_type": "stream",
       "stream": "stdout",
       "text": [
        "\n",
        "  [9.7.24] Bromo to borono\n",
        "    [9.7] Other functional group interconversion\n",
        "$$  0.07 s\n",
        "\n",
        "\n",
        "####  Line 199  ####\n",
        "IN :  CCOC(=O)C.c1cc(c(cc1CBr)Br)F.C(#N)[Na]>CS(=O)C>c1cc(c(cc1CC#N)Br)F\n",
        "  [9.7.25] Bromo to cyano\n",
        "OUT:  CCOC(C)=O.N#C[Na].Fc1ccc(CBr)cc1Br>CS(C)=O>N#CCc1ccc(F)c(Br)c1"
       ]
      },
      {
       "output_type": "stream",
       "stream": "stdout",
       "text": [
        "\n",
        "  [9.7.25] Bromo to cyano\n",
        "    [9.7] Other functional group interconversion\n",
        "$$  0.06 s\n",
        "\n",
        "\n",
        "####  Line 200  ####\n",
        "IN :  CCCCCBr.NN.O>CCO>CCCCCNN\n",
        "  [9.7.26] Bromo to hydrazino\n",
        "OUT:  O.CCCCCBr.NN>CCO>CCCCCNN\n",
        "  [9.7.26] Bromo to hydrazino\n",
        "    [9.7] Other functional group interconversion\n",
        "$$  0.01 s\n",
        "\n",
        "\n",
        "####  Line 201  ####\n",
        "IN :  CCOC(=O)c1c(nc(o1)c2ccc(cc2)OC)CBr.CN(C)C=O>C(=O)(C(F)(F)F)[O-].[Ag+]>CCOC(=O)c1c(nc(o1)c2ccc(cc2)OC)CO\n",
        "  [9.7.27] Bromo to hydroxy\n",
        "OUT:  CCOC(=O)c1oc(-c2ccc(OC)cc2)nc1CBr.CN(C)C=O>[Ag+].O=C([O-])C(F)(F)F>CCOC(=O)c1oc(-c2ccc(OC)cc2)nc1CO"
       ]
      },
      {
       "output_type": "stream",
       "stream": "stdout",
       "text": [
        "\n",
        "  [9.7.27] Bromo to hydroxy\n",
        "    [9.7] Other functional group interconversion\n",
        "$$  0.10 s\n",
        "\n",
        "\n",
        "####  Line 202  ####\n",
        "IN :  CNCCNC.COc1c(ccc(n1)Br)N.O.[Na+].[I-]>CCOC(=O)C.C1COCCO1.[Cu](I)I>COc1c(ccc(n1)I)N\n",
        "  [9.7.29] Bromo to iodo Finkelstein reaction\n",
        "OUT:  O.[Na+].[I-].CNCCNC.COc1nc(Br)ccc1N>CCOC(C)=O.I[Cu]I.C1COCCO1>COc1nc(I)ccc1N"
       ]
      },
      {
       "output_type": "stream",
       "stream": "stdout",
       "text": [
        "\n",
        "  [9.7.29] Bromo to iodo Finkelstein reaction\n",
        "    [9.7] Other functional group interconversion\n",
        "$$  0.11 s\n",
        "\n",
        "\n",
        "####  Line 203  ####\n",
        "IN :  CS(=O)[O-].c1ccc(cc1)S(=O)(=O)n2c(cc3c2nccc3)C(CC4CCCC4)(c5ccc(cn5)Br)O.O.[OH-].[Na+].[Na+]>CS(=O)C.[Cu]I>CS(=O)(=O)c1ccc(nc1)C(CC2CCCC2)(c3cc4cccnc4n3S(=O)(=O)c5ccccc5)O\n",
        "  [9.7.30] Bromo to mesyl\n",
        "OUT:  [OH-].O.[Na+].[Na+].CS(=O)[O-].O=S(=O)(c1ccccc1)n1c(C(O)(CC2CCCC2)c2ccc(Br)cn2)cc2cccnc21>CS(C)=O.[Cu]I>CS(=O)(=O)c1ccc(C(O)(CC2CCCC2)c2cc3cccnc3n2S(=O)(=O)c2ccccc2)nc1"
       ]
      },
      {
       "output_type": "stream",
       "stream": "stdout",
       "text": [
        "\n",
        "  [9.7.30] Bromo to mesyl\n",
        "    [9.7] Other functional group interconversion\n",
        "$$  0.08 s\n",
        "\n",
        "\n",
        "####  Line 204  ####\n",
        "IN :  C[O-].c1c(cncc1Br)Br.[Na+]>CN(C)C=O>COc1cc(cnc1)Br\n",
        "  [9.7.31] Bromo to methoxy\n",
        "OUT:  [Na+].C[O-].Brc1cncc(Br)c1>CN(C)C=O>COc1cncc(Br)c1\n",
        "  [1.7.9] Williamson ether synthesis\n",
        "    [1.7] O-substitution\n",
        "$$  0.01 s\n",
        "\n",
        "\n",
        "####  Line 205  ####\n",
        "IN :  [Li]CCCC.B1(OC(C(O1)(C)C)(C)C)OC(C)C.CC(C)N(c1ncc(s1)Br)C(=O)OC(C)(C)C>C1CCOC1>B1(OC(C(O1)(C)C)(C)C)c2cnc(s2)N(C(C)C)C(=O)OC(C)(C)C\n",
        "  [9.7.32] Bromo to pinacolatoboranyl\n",
        "OUT:  [Li]CCCC.CC(C)OB1OC(C)(C)C(C)(C)O1.CC(C)N(C(=O)OC(C)(C)C)c1ncc(Br)s1>C1CCOC1>CC(C)N(C(=O)OC(C)(C)C)c1ncc(B2OC(C)(C)C(C)(C)O2)s1"
       ]
      },
      {
       "output_type": "stream",
       "stream": "stdout",
       "text": [
        "\n",
        "  [9.7.32] Bromo to pinacolatoboranyl\n",
        "    [9.7] Other functional group interconversion\n",
        "$$  0.08 s\n",
        "\n",
        "\n",
        "####  Line 206  ####\n",
        "IN :  CCN=C=NCCCN(C)C.CN1CCOCC1.COc1ccc(cc1CC(=O)O)Br.c1ccc2c(c1)nnn2[O-].[NH4+]>C(Cl)Cl>COc1ccc(cc1CC(=O)N)Br\n",
        "  [9.7.33] Carboxy to carbamoyl\n",
        "OUT:  [NH4+].CCN=C=NCCCN(C)C.COc1ccc(Br)cc1CC(=O)O.CN1CCOCC1.[O-]n1nnc2ccccc21>ClCCl>COc1ccc(Br)cc1CC(N)=O"
       ]
      },
      {
       "output_type": "stream",
       "stream": "stdout",
       "text": [
        "\n",
        "  [9.7.33] Carboxy to carbamoyl\n",
        "    [9.7] Other functional group interconversion\n",
        "$$  0.22 s\n",
        "\n",
        "\n",
        "####  Line 207  ####\n",
        "IN :  CCN(CC)CC.CCOC(=O)NCl.c1ccc(c(c1)C(F)(F)F)OC2CCN(CC2)c3nc(cs3)C=CC(=O)O.[N-]=[N+]=[N-].[Na+]>CC(=O)C.O>c1ccc(c(c1)C(F)(F)F)OC2CCN(CC2)c3nc(cs3)C=CC(=O)N=[N+]=[N-]\n",
        "  [9.7.34] Carboxy to carbonazidoyl\n",
        "OUT:  [Na+].CCOC(=O)NCl.CCN(CC)CC.[N-]=[N+]=[N-].O=C(O)C=Cc1csc(N2CCC(Oc3ccccc3C(F)(F)F)CC2)n1>O.CC(C)=O>[N-]=[N+]=NC(=O)C=Cc1csc(N2CCC(Oc3ccccc3C(F)(F)F)CC2)n1"
       ]
      },
      {
       "output_type": "stream",
       "stream": "stdout",
       "text": [
        "\n",
        "  [9.7.34] Carboxy to carbonazidoyl\n",
        "    [9.7] Other functional group interconversion\n",
        "$$  0.27 s\n",
        "\n",
        "\n",
        "####  Line 208  ####\n",
        "IN :  c1nc(c2n(c1)c(nc2I)[C@H]3CC[C@@H](CC3)CO)Cl.C1COCC1.N>CC(O)C>c1nc(c2n(c1)c(nc2I)[C@H]3CC[C@@H](CC3)CO)N\n",
        "  [9.7.39] Chloro to amino\n",
        "OUT:  N.OCC1CCC(c2nc(I)c3c(Cl)nccn23)CC1.C1CCOC1>CC(C)O>Nc1nccn2c(C3CCC(CO)CC3)nc(I)c12\n",
        "  [9.7.39] Chloro to amino\n",
        "    [9.7] Other functional group interconversion\n",
        "$$  0.03 s\n",
        "\n",
        "\n",
        "####  Line 209  ####\n",
        "IN :  [Li+].CCn1c2c(cn1)c(c(c(n2)C)CCl)NC3CCOCC3.[N-]=[N+]=[N-]>CS(=O)C>CCn1c2c(cn1)c(c(c(n2)C)CN=[N+]=[N-])NC3CCOCC3\n",
        "  [9.7.40] Chloro to azido\n",
        "OUT:  [Li+].CCn1ncc2c1nc(C)c(CCl)c2NC1CCOCC1.[N-]=[N+]=[N-]>CS(C)=O>CCn1ncc2c1nc(C)c(CN=[N+]=[N-])c2NC1CCOCC1"
       ]
      },
      {
       "output_type": "stream",
       "stream": "stdout",
       "text": [
        "\n",
        "  [1.6.4] Chloro N-alkylation\n",
        "    [1.6] Heteroaryl N-alkylation\n",
        "$$  0.03 s\n",
        "\n",
        "\n",
        "####  Line 210  ####\n",
        "IN :  CCNc1ccc2c(c1)sc(n2)Cl.C(#N)[K].[O-]P(=O)([O-])[O-].[K+].[K+].[K+]>CS(=O)C>CCNc1ccc2c(c1)sc(n2)C#N\n",
        "  [9.7.41] Chloro to cyano\n",
        "OUT:  [K+].[K+].[K+].CCNc1ccc2nc(Cl)sc2c1.N#C[K].O=P([O-])([O-])[O-]>CS(C)=O>CCNc1ccc2nc(C#N)sc2c1"
       ]
      },
      {
       "output_type": "stream",
       "stream": "stdout",
       "text": [
        "\n",
        "  [9.7.41] Chloro to cyano\n",
        "    [9.7] Other functional group interconversion\n",
        "$$  0.06 s\n",
        "\n",
        "\n",
        "####  Line 211  ####\n",
        "IN :  c1ccncc1.c1cnc(c(n1)Cl)Cl.NN>>c1cnc(c(n1)NN)Cl\n",
        "  [9.7.43] Chloro to hydrazino\n",
        "OUT:  NN.Clc1nccnc1Cl.c1ccncc1>>NNc1nccnc1Cl\n",
        "  [9.7.43] Chloro to hydrazino\n",
        "    [9.7] Other functional group interconversion\n",
        "$$  0.02 s\n",
        "\n",
        "\n",
        "####  Line 212  ####\n",
        "IN :  CC(=O)[O-].COc1ccc2c(cc(nc2c1Cl)n3ccc(n3)C(F)(F)F)Cl.O.[K+]>CS(=O)C>COc1ccc2c(cc(nc2c1Cl)n3ccc(n3)C(F)(F)F)O\n",
        "  [9.7.44] Chloro to hydroxy\n",
        "OUT:  O.[K+].COc1ccc2c(Cl)cc(-n3ccc(C(F)(F)F)n3)nc2c1Cl.CC(=O)[O-]>CS(C)=O>COc1ccc2c(O)cc(-n3ccc(C(F)(F)F)n3)nc2c1Cl"
       ]
      },
      {
       "output_type": "stream",
       "stream": "stdout",
       "text": [
        "\n",
        "  [9.7.44] Chloro to hydroxy\n",
        "    [9.7] Other functional group interconversion\n",
        "$$  0.12 s\n",
        "\n",
        "\n",
        "####  Line 213  ####\n",
        "IN :  CCOC(=O)C.C[Si](C)(C)I.c1c(cnc(c1Cl)Cl)Br>C(CCl)Cl>c1c(cnc(c1Cl)I)Br\n",
        "  [9.7.45] Chloro to iodo\n",
        "OUT:  CCOC(C)=O.C[Si](C)(C)I.Clc1cc(Br)cnc1Cl>ClCCCl>Clc1cc(Br)cnc1I"
       ]
      },
      {
       "output_type": "stream",
       "stream": "stdout",
       "text": [
        "\n",
        "  [9.7.45] Chloro to iodo\n",
        "    [9.7] Other functional group interconversion\n",
        "$$  0.09 s\n",
        "\n",
        "\n",
        "####  Line 214  ####\n",
        "IN :  CC(=O)Cl.c1ccc2c(c1)ccc(n2)Cl.[Na+].[I-]>CC#N>c1ccc2c(c1)ccc(n2)I\n",
        "  [9.7.46] Chloro to iodo Finkelstein reaction\n",
        "OUT:  [Na+].[I-].CC(=O)Cl.Clc1ccc2ccccc2n1>CC#N>Ic1ccc2ccccc2n1\n",
        "  [9.7.46] Chloro to iodo Finkelstein reaction\n",
        "    [9.7] Other functional group interconversion\n",
        "$$  0.01 s\n",
        "\n",
        "\n",
        "####  Line 215  ####\n",
        "IN :  CS(=O)O.c1c([nH]c(=O)[nH]c1=O)CCl.[Na]>CN(C)C=O>CS(=O)(=O)Cc1cc(=O)[nH]c(=O)[nH]1\n",
        "  [9.7.47] Chloro to mesyl\n",
        "OUT:  [Na].CS(=O)O.O=c1cc(CCl)[nH]c(=O)[nH]1>CN(C)C=O>CS(=O)(=O)Cc1cc(=O)[nH]c(=O)[nH]1\n",
        "  [9.7.47] Chloro to mesyl\n",
        "    [9.7] Other functional group interconversion\n",
        "$$  0.03 s\n",
        "\n",
        "\n",
        "####  Line 216  ####\n",
        "IN :  CCCC[N+](CCCC)(CCCC)CCCC.c1ccc(c(c1)F)S(=O)(=O)Cl.[F-]>C1CCOC1>c1ccc(c(c1)F)S(=O)(=O)F\n",
        "  [9.7.51] Chlorosulfonyl to fluorosulfonyl\n",
        "OUT:  [F-].CCCC[N+](CCCC)(CCCC)CCCC.O=S(=O)(Cl)c1ccccc1F>C1CCOC1>O=S(=O)(F)c1ccccc1F"
       ]
      },
      {
       "output_type": "stream",
       "stream": "stdout",
       "text": [
        "\n",
        "  [9.7.51] Chlorosulfonyl to fluorosulfonyl\n",
        "    [9.7] Other functional group interconversion\n",
        "$$  0.03 s\n",
        "\n",
        "\n",
        "####  Line 217  ####\n",
        "IN :  [Li]CCCC.C[Si](C)(C)c1cccc(c1)C=O.c1ccc(cc1)P(c2ccccc2)c3ccccc3.C(Br)(Br)(Br)Br>CCCCCCC.C(Cl)Cl>C[Si](C)(C)c1cccc(c1)C#C\n",
        "  [9.7.53] Corey-Fuchs reaction\n",
        "OUT:  [Li]CCCC.C[Si](C)(C)c1cccc(C=O)c1.BrC(Br)(Br)Br.c1ccc(P(c2ccccc2)c2ccccc2)cc1>CCCCCCC.ClCCl>C#Cc1cccc([Si](C)(C)C)c1\n",
        "  [9.7.53] Corey-Fuchs reaction\n",
        "    [9.7] Other functional group interconversion\n",
        "$$  0.03 s\n",
        "\n",
        "\n",
        "####  Line 218  ####\n",
        "IN :  c1ccc(cc1)P(c2ccccc2)c3ccccc3.c1cc(ccc1C=O)Cl.C(Br)(Br)(Br)Br>C(Cl)Cl>c1cc(ccc1C=C(Br)Br)Cl\n",
        "  [9.7.54] Corey-Fuchs reaction step 1\n",
        "OUT:  O=Cc1ccc(Cl)cc1.BrC(Br)(Br)Br.c1ccc(P(c2ccccc2)c2ccccc2)cc1>ClCCl>Clc1ccc(C=C(Br)Br)cc1\n",
        "  [9.7.54] Corey-Fuchs reaction step 1\n",
        "    [9.7] Other functional group interconversion\n",
        "$$  0.02 s\n",
        "\n",
        "\n",
        "####  Line 219  ####\n",
        "IN :  [Li]CCCC.COc1ccc(cc1OC)C=C(Br)Br>>COc1ccc(cc1OC)C#C\n",
        "  [9.7.55] Corey-Fuchs reaction step 2\n",
        "OUT:  [Li]CCCC.COc1ccc(C=C(Br)Br)cc1OC>>C#Cc1ccc(OC)c(OC)c1\n",
        "  [9.7.55] Corey-Fuchs reaction step 2\n",
        "    [9.7] Other functional group interconversion\n",
        "$$  0.01 s\n",
        "\n",
        "\n",
        "####  Line 220  ####\n",
        "IN :  c1cc(cc(c1)C(=O)c2ccc3n2cccc3C(=O)NCC45CC6CC(C4)CC(C6)C5)C#N.OS(=O)(=O)O>>c1cc(cc(c1)C(=O)N)C(=O)c2ccc3n2cccc3C(=O)NCC45CC6CC(C4)CC(C6)C5\n",
        "  [9.7.57] Cyano to carbamoyl\n",
        "OUT:  N#Cc1cccc(C(=O)c2ccc3c(C(=O)NCC45CC6CC(CC(C6)C4)C5)cccn23)c1.O=S(=O)(O)O>>NC(=O)c1cccc(C(=O)c2ccc3c(C(=O)NCC45CC6CC(CC(C6)C4)C5)cccn23)c1"
       ]
      },
      {
       "output_type": "stream",
       "stream": "stdout",
       "text": [
        "\n",
        "  [9.7.57] Cyano to carbamoyl\n",
        "    [9.7] Other functional group interconversion\n",
        "$$  0.08 s\n",
        "\n",
        "\n",
        "####  Line 221  ####\n",
        "IN :  CCOC(=O)C.CCOP(=S)(OCC)S.Cc1c(n2cc(ccc2n1)Br)C#N.Cl>CC(C)OC(C)C.CO>Cc1c(n2cc(ccc2n1)Br)C(=S)N\n",
        "  [9.7.58] Cyano to thiocarbamoyl\n",
        "OUT:  Cl.CCOC(C)=O.CCOP(=S)(S)OCC.Cc1nc2ccc(Br)cn2c1C#N>CO.CC(C)OC(C)C>Cc1nc2ccc(Br)cn2c1C(N)=S\n",
        "  [9.7.58] Cyano to thiocarbamoyl\n",
        "    [9.7] Other functional group interconversion\n",
        "$$  0.04 s\n",
        "\n",
        "\n",
        "####  Line 222  ####\n",
        "IN :  CCN(C(C)C)C(C)C.COc1cc(nc(n1)N)Cl>CCO.CCOC(=O)C>COc1ccnc(n1)N\n",
        "  [9.7.59] Dechlorination\n",
        "OUT:  CCN(C(C)C)C(C)C.COc1cc(Cl)nc(N)n1>CCO.CCOC(C)=O>COc1ccnc(N)n1"
       ]
      },
      {
       "output_type": "stream",
       "stream": "stdout",
       "text": [
        "\n",
        "  [9.7.59] Dechlorination\n",
        "    [9.7] Other functional group interconversion\n",
        "$$  0.11 s\n",
        "\n",
        "\n",
        "####  Line 223  ####\n",
        "IN :  CC[SiH](CC)CC.CC1(C(Nc2ccc(cc2C1O)C(=O)OC)c3ccc(c(c3)[N+](=O)[O-])Cl)C.C(=O)(C(F)(F)F)O.C(=O)(O)[O-].[Na+]>C(Cl)Cl>CC1(Cc2cc(ccc2NC1c3ccc(c(c3)[N+](=O)[O-])Cl)C(=O)OC)C\n",
        "  [9.7.60] Deoxygenation\n",
        "OUT:  [Na+].CC[SiH](CC)CC.COC(=O)c1ccc2c(c1)C(O)C(C)(C)C(c1ccc(Cl)c([N+](=O)[O-])c1)N2.O=C([O-])O.O=C(O)C(F)(F)F>ClCCl>COC(=O)c1ccc2c(c1)CC(C)(C)C(c1ccc(Cl)c([N+](=O)[O-])c1)N2"
       ]
      },
      {
       "output_type": "stream",
       "stream": "stdout",
       "text": [
        "\n",
        "  [9.7.60] Deoxygenation\n",
        "    [9.7] Other functional group interconversion\n",
        "$$  0.69 s\n",
        "\n",
        "\n",
        "####  Line 224  ####\n",
        "IN :  CC(C)Oc1ccc(cc1C(F)(F)F)C(=O)OC(C)C.[OH-].[Na+]>CCO>CC(C)Oc1ccc(cc1C(F)(F)F)C(=O)O\n",
        "  [9.7.61] Ester hydrolysis\n",
        "OUT:  [OH-].[Na+].CC(C)OC(=O)c1ccc(OC(C)C)c(C(F)(F)F)c1>CCO>CC(C)Oc1ccc(C(=O)O)cc1C(F)(F)F"
       ]
      },
      {
       "output_type": "stream",
       "stream": "stdout",
       "text": [
        "\n",
        "  [9.7.61] Ester hydrolysis\n",
        "    [9.7] Other functional group interconversion\n",
        "$$  0.08 s\n",
        "\n",
        "\n",
        "####  Line 225  ####\n",
        "IN :  CC(C)(C)OC(=O)N1CCN(CC1)c2c(cc(c(n2)F)F)F.c1ccc2c(c1)C(=O)NC2=O.[K]>CN(C)C=O.O>CC(C)(C)OC(=O)N1CCN(CC1)c2c(cc(c(n2)N)F)F\n",
        "  [9.7.62] Fluoro Gabriel synthesis\n",
        "OUT:  [K].CC(C)(C)OC(=O)N1CCN(c2nc(F)c(F)cc2F)CC1.O=C1NC(=O)c2ccccc21>O.CN(C)C=O>CC(C)(C)OC(=O)N1CCN(c2nc(N)c(F)cc2F)CC1"
       ]
      },
      {
       "output_type": "stream",
       "stream": "stdout",
       "text": [
        "\n",
        "  [9.7.62] Fluoro Gabriel synthesis\n",
        "    [9.7] Other functional group interconversion\n",
        "$$  0.10 s\n",
        "\n",
        "\n",
        "####  Line 226  ####\n",
        "IN :  CC1(CCOCC1)CNc2c(ccc(n2)c3cc(ncc3Cl)F)F.[NH4+].[OH-]>CCOC(=O)C.CS(=O)C.O>CC1(CCOCC1)CNc2c(ccc(n2)c3cc(ncc3Cl)N)F\n",
        "  [9.7.64] Fluoro to amino\n",
        "OUT:  [NH4+].[OH-].CC1(CNc2nc(-c3cc(F)ncc3Cl)ccc2F)CCOCC1>O.CCOC(C)=O.CS(C)=O>CC1(CNc2nc(-c3cc(N)ncc3Cl)ccc2F)CCOCC1"
       ]
      },
      {
       "output_type": "stream",
       "stream": "stdout",
       "text": [
        "\n",
        "  [9.7.64] Fluoro to amino\n",
        "    [9.7] Other functional group interconversion\n",
        "$$  0.16 s\n",
        "\n",
        "\n",
        "####  Line 227  ####\n",
        "IN :  c1cc(c(cc1F)NC2CCC(CC2)O)C#N.NN>>c1cc(c(cc1NN)NC2CCC(CC2)O)C#N\n",
        "  [9.7.65] Fluoro to hydrazino\n",
        "OUT:  N#Cc1ccc(F)cc1NC1CCC(O)CC1.NN>>N#Cc1ccc(NN)cc1NC1CCC(O)CC1\n",
        "  [9.7.65] Fluoro to hydrazino\n",
        "    [9.7] Other functional group interconversion\n",
        "$$  0.03 s\n",
        "\n",
        "\n",
        "####  Line 228  ####\n",
        "IN :  c1ccc(cc1)COc2cc(c(cc2Cl)[N+](=O)[O-])F.[OH-].[Na+]>O>c1ccc(cc1)COc2cc(c(cc2Cl)[N+](=O)[O-])O\n",
        "  [9.7.66] Fluoro to hydroxy\n",
        "OUT:  [OH-].[Na+].O=[N+]([O-])c1cc(Cl)c(OCc2ccccc2)cc1F>O>O=[N+]([O-])c1cc(Cl)c(OCc2ccccc2)cc1O"
       ]
      },
      {
       "output_type": "stream",
       "stream": "stdout",
       "text": [
        "\n",
        "  [9.7.66] Fluoro to hydroxy\n",
        "    [9.7] Other functional group interconversion\n",
        "$$  0.04 s\n",
        "\n",
        "\n",
        "####  Line 229  ####\n",
        "IN :  C[O-].c1cc(c(c(c1[N+](=O)[O-])Br)F)F.[Na+]>CS(=O)C>COc1ccc(c(c1F)Br)[N+](=O)[O-]\n",
        "  [9.7.67] Fluoro to methoxy\n",
        "OUT:  [Na+].C[O-].O=[N+]([O-])c1ccc(F)c(F)c1Br>CS(C)=O>COc1ccc([N+](=O)[O-])c(Br)c1F\n",
        "  [1.7.9] Williamson ether synthesis\n",
        "    [1.7] O-substitution\n",
        "$$  0.01 s\n",
        "\n",
        "\n",
        "####  Line 230  ####\n",
        "IN :  CCN(CC)CC.COC(=O)C(Cc1ccccc1)NC=O.C(=O)([O-])[O-].O=P(Cl)(Cl)Cl.[K+].[K+]>C(Cl)Cl>COC(=O)C(Cc1ccccc1)[N+]#[C-]\n",
        "  [9.7.68] Formamido to isocyano\n",
        "OUT:  [K+].[K+].CCN(CC)CC.COC(=O)C(Cc1ccccc1)NC=O.O=C([O-])[O-].O=P(Cl)(Cl)Cl>ClCCl>[C-]#[N+]C(Cc1ccccc1)C(=O)OC"
       ]
      },
      {
       "output_type": "stream",
       "stream": "stdout",
       "text": [
        "\n",
        "  [9.7.68] Formamido to isocyano\n",
        "    [9.7] Other functional group interconversion\n",
        "$$  0.18 s\n",
        "\n",
        "\n",
        "####  Line 231  ####\n",
        "IN :  CC(=O)C(=[N+]=[N-])OP(=O)(OC)OC.c1cc(ccc1c2ccc(nc2)C#Cc3ccc(c(c3)C=O)OCCN4CCCC4)Cl.C(=O)([O-])[O-].[K+].[K+]>CO.C(Cl)Cl>C#Cc1cc(ccc1OCCN2CCCC2)C#Cc3ccc(cn3)c4ccc(cc4)Cl\n",
        "  [9.7.69] Formyl to ethynyl\n",
        "OUT:  [K+].[K+].COP(=O)(OC)OC(=[N+]=[N-])C(C)=O.O=Cc1cc(C#Cc2ccc(-c3ccc(Cl)cc3)cn2)ccc1OCCN1CCCC1.O=C([O-])[O-]>CO.ClCCl>C#Cc1cc(C#Cc2ccc(-c3ccc(Cl)cc3)cn2)ccc1OCCN1CCCC1"
       ]
      },
      {
       "output_type": "stream",
       "stream": "stdout",
       "text": [
        "\n",
        "  [9.7.69] Formyl to ethynyl\n",
        "    [9.7] Other functional group interconversion\n",
        "$$  0.27 s\n",
        "\n",
        "\n",
        "####  Line 232  ####\n",
        "IN :  CCOC(=O)CC(=O)Nc1ccc(c(c1)F)Oc2ccnc(c2)C(=O)N.CN(C)C=O.c1ccc(cc1)I(OC(=O)C(F)(F)F)OC(=O)C(F)(F)F>>CCOC(=O)CC(=O)Nc1ccc(c(c1)F)Oc2ccnc(c2)N\n",
        "  [9.7.70] Hofmann rearrangement\n",
        "OUT:  CCOC(=O)CC(=O)Nc1ccc(Oc2ccnc(C(N)=O)c2)c(F)c1.CN(C)C=O.O=C(O[IH2](OC(=O)C(F)(F)F)c1ccccc1)C(F)(F)F>>CCOC(=O)CC(=O)Nc1ccc(Oc2ccnc(N)c2)c(F)c1"
       ]
      },
      {
       "output_type": "stream",
       "stream": "stdout",
       "text": [
        "\n",
        "  [9.7.70] Hofmann rearrangement\n",
        "    [9.7] Other functional group interconversion\n",
        "$$  0.14 s\n",
        "\n",
        "\n",
        "####  Line 233  ####\n",
        "IN :  C[C@@H]([C@@H](CO)NN)C(F)(F)F.Cl>CO.Cl>C[C@@H]([C@@H](CO)N)C(F)(F)F.Cl\n",
        "  [9.7.71] Hydrazino to amino\n",
        "OUT:  Cl.CC(C(CO)NN)C(F)(F)F>Cl.CO>Cl.CC(C(N)CO)C(F)(F)F\n",
        "  [9.7.71] Hydrazino to amino\n",
        "    [9.7] Other functional group interconversion\n",
        "$$  0.05 s\n",
        "\n",
        "\n",
        "####  Line 234  ####\n",
        "IN :  CC(C)(C)[Si](C)(C)Oc1ccc2cc([nH]c2c1)CO.CS(=O)(=O)Cl.[N-]=[N+]=[N-].[Na+]>CN(C)C=O>CC(C)(C)[Si](C)(C)Oc1ccc2cc([nH]c2c1)CN=[N+]=[N-]\n",
        "  [9.7.73] Hydroxy to azido\n",
        "OUT:  [Na+].CC(C)(C)[Si](C)(C)Oc1ccc2cc(CO)[nH]c2c1.CS(=O)(=O)Cl.[N-]=[N+]=[N-]>CN(C)C=O>CC(C)(C)[Si](C)(C)Oc1ccc2cc(CN=[N+]=[N-])[nH]c2c1"
       ]
      },
      {
       "output_type": "stream",
       "stream": "stdout",
       "text": [
        "\n",
        "  [9.7.73] Hydroxy to azido\n",
        "    [9.7] Other functional group interconversion\n",
        "$$  0.07 s\n",
        "\n",
        "\n",
        "####  Line 235  ####\n",
        "IN :  COc1ccc(cc1)P2(=S)SP(=S)(S2)c3ccc(cc3)OC.c1ccc(cc1)C(c2ccccc2)(c3ccccc3)n4cc(nc4)C5(CCCc6c5ccc(c6)C#N)O>Cc1ccccc1>c1ccc(cc1)C(c2ccccc2)(c3ccccc3)n4cc(nc4)C5(CCCc6c5ccc(c6)C#N)S\n",
        "  [9.7.75] Hydroxy to sulfanyl\n",
        "OUT:  COc1ccc(P2(=S)SP(=S)(c3ccc(OC)cc3)S2)cc1.N#Cc1ccc2c(c1)CCCC2(O)c1cn(C(c2ccccc2)(c2ccccc2)c2ccccc2)cn1>Cc1ccccc1>N#Cc1ccc2c(c1)CCCC2(S)c1cn(C(c2ccccc2)(c2ccccc2)c2ccccc2)cn1"
       ]
      },
      {
       "output_type": "stream",
       "stream": "stdout",
       "text": [
        "\n",
        "  [9.7.75] Hydroxy to sulfanyl\n",
        "    [9.7] Other functional group interconversion\n",
        "$$  0.19 s\n",
        "\n",
        "\n",
        "####  Line 236  ####\n",
        "IN :  B1(OC(C(O1)(C)C)(C)C)B2OC(C(O2)(C)C)(C)C.CCOC(=O)C.CC(=O)[O-].CC(C)(C)OC(=O)N(C)[C@@H](Cc1cc(ccc1OCc2ccccc2)I)C(=O)OCc3ccccc3.CN(C)C=O.C1CCCCC1.[K+]>[cH-]1ccc(c1)P(c2ccccc2)c3ccccc3.[cH-]1ccc(c1)P(c2ccccc2)c3ccccc3.Cl[Pd]Cl.[Fe+2]>B1(OC(C(O1)(C)C)(C)C)c2ccc(c(c2)C[C@@H](C(=O)OCc3ccccc3)N(C)C(=O)OC(C)(C)C)OCc4ccccc4\n",
        "  [9.7.78] Iodo Miyaura boration\n",
        "OUT:  [K+].CCOC(C)=O.CC(=O)[O-].CN(C)C=O.CN(C(=O)OC(C)(C)C)C(Cc1cc(I)ccc1OCc1ccccc1)C(=O)OCc1ccccc1.CC1(C)OB(B2OC(C)(C)C(C)(C)O2)OC1(C)C.C1CCCCC1>[Fe+2].Cl[Pd]Cl.c1cc(P(c2ccccc2)c2ccccc2)c[cH-]1.c1cc(P(c2ccccc2)c2ccccc2)c[cH-]1>CN(C(=O)OC(C)(C)C)C(Cc1cc(B2OC(C)(C)C(C)(C)O2)ccc1OCc1ccccc1)C(=O)OCc1ccccc1"
       ]
      },
      {
       "output_type": "stream",
       "stream": "stdout",
       "text": [
        "\n",
        "  [9.7.78] Iodo Miyaura boration\n",
        "    [9.7] Other functional group interconversion\n",
        "$$  0.90 s\n",
        "\n",
        "\n",
        "####  Line 237  ####\n",
        "IN :  CC([O-])(C)C.CN(C=O)C.COc1ncc(cc1C(F)(F)F)I.c1ccc(cc1)C(=N)c2ccccc2.[Na+]>CCOC(=O)C.c1ccc(cc1)/C=C/C(=O)/C=C/c2ccccc2.c1ccc(cc1)/C=C/C(=O)/C=C/c2ccccc2.c1ccc(cc1)/C=C/C(=O)/C=C/c2ccccc2.[Pd].[Pd]>COc1ncc(cc1C(F)(F)F)N\n",
        "  [9.7.80] Iodo to amino\n",
        "OUT:  [Na+].COc1ncc(I)cc1C(F)(F)F.CN(C)C=O.CC(C)(C)[O-].N=C(c1ccccc1)c1ccccc1>[Pd].[Pd].CCOC(C)=O.O=C(C=Cc1ccccc1)C=Cc1ccccc1.O=C(C=Cc1ccccc1)C=Cc1ccccc1.O=C(C=Cc1ccccc1)C=Cc1ccccc1>COc1ncc(N)cc1C(F)(F)F"
       ]
      },
      {
       "output_type": "stream",
       "stream": "stdout",
       "text": [
        "\n",
        "  [9.7.80] Iodo to amino\n",
        "    [9.7] Other functional group interconversion\n",
        "$$  3.25 s\n",
        "\n",
        "\n",
        "####  Line 238  ####\n",
        "IN :  [Li]CCCC.B(OC(C)C)(OC(C)C)OC(C)C.COc1ccc(cc1I)C(F)(F)F>C1CCOC1>B(c1cc(ccc1OC)C(F)(F)F)(O)O\n",
        "  [9.7.81] Iodo to borono\n",
        "OUT:  [Li]CCCC.COc1ccc(C(F)(F)F)cc1I.CC(C)OB(OC(C)C)OC(C)C>C1CCOC1>COc1ccc(C(F)(F)F)cc1B(O)O"
       ]
      },
      {
       "output_type": "stream",
       "stream": "stdout",
       "text": [
        "\n",
        "  [9.7.81] Iodo to borono\n",
        "    [9.7] Other functional group interconversion\n",
        "$$  0.08 s\n",
        "\n",
        "\n",
        "####  Line 239  ####\n",
        "IN :  CN(C)C=O.c1cc2c(nc1)NC(=O)[C@]23Cc4cc(c(cc4C3)I)N>[C-]#N.[C-]#N.O.[Zn].[Zn+2]>c1cc2c(nc1)NC(=O)[C@@]23Cc4cc(c(cc4C3)N)C#N\n",
        "  [9.7.82] Iodo to cyano\n",
        "OUT:  CN(C)C=O.Nc1cc2c(cc1I)CC1(C2)c2cccnc2NC1=O>O.[Zn].[Zn+2].[C-]#N.[C-]#N>N#Cc1cc2c(cc1N)CC1(C2)c2cccnc2NC1=O"
       ]
      },
      {
       "output_type": "stream",
       "stream": "stdout",
       "text": [
        "\n",
        "  [9.7.82] Iodo to cyano\n",
        "    [9.7] Other functional group interconversion\n",
        "$$  0.30 s\n",
        "\n",
        "\n",
        "####  Line 240  ####\n",
        "IN :  c1cc(c(c(c1)I)O)F.[OH-].Cl.[K+]>>c1cc(c(c(c1)F)O)O\n",
        "  [9.7.83] Iodo to hydroxy\n",
        "OUT:  [OH-].Cl.[K+].Oc1c(F)cccc1I>>Oc1cccc(F)c1O\n",
        "  [9.7.83] Iodo to hydroxy\n",
        "    [9.7] Other functional group interconversion\n",
        "$$  0.03 s\n",
        "\n",
        "\n",
        "####  Line 241  ####\n",
        "IN :  [Li]CCCC.B(OC(C)C)(OC(C)C)OC(C)C.CCOC(=O)C.CC(C)(C(C)(C)O)O.C(Cl)I.Cl>CCCCCC.C1CCOC1>B1(OC(C(O1)(C)C)(C)C)CCl\n",
        "  [9.7.85] Iodo to pinacolatoboranyl\n",
        "OUT:  Cl.[Li]CCCC.CCOC(C)=O.CC(C)OB(OC(C)C)OC(C)C.CC(C)(O)C(C)(C)O.ClCI>CCCCCC.C1CCOC1>CC1(C)OB(CCl)OC1(C)C"
       ]
      },
      {
       "output_type": "stream",
       "stream": "stdout",
       "text": [
        "\n",
        "  [9.7.85] Iodo to pinacolatoboranyl\n",
        "    [9.7] Other functional group interconversion\n",
        "$$  0.27 s\n",
        "\n",
        "\n",
        "####  Line 242  ####\n",
        "IN :  CSc1ncc(nn1)c2ccc(c(c2)F)Br.NN.O>CCO>c1cc(c(cc1c2cnc(nn2)NN)F)Br\n",
        "  [9.7.88] Methylsulfanyl to hydrazino\n",
        "OUT:  O.CSc1ncc(-c2ccc(Br)c(F)c2)nn1.NN>CCO>NNc1ncc(-c2ccc(Br)c(F)c2)nn1"
       ]
      },
      {
       "output_type": "stream",
       "stream": "stdout",
       "text": [
        "\n",
        "  [9.7.88] Methylsulfanyl to hydrazino\n",
        "    [9.7] Other functional group interconversion\n",
        "$$  0.06 s\n",
        "\n",
        "\n",
        "####  Line 243  ####\n",
        "IN :  CC(C)(C)[O-].CSC.[O-][N+](=O)[C@@H]1CCC(=O)N[C@H]1c1ccc(Br)cc1.[O-][O+]=O.[K+]>CO.ClCCl>Brc1ccc(cc1)C1NC(=O)CCC1=O\n",
        "  [9.7.89] Nef reaction\n",
        "OUT:  [K+].CSC.CC(C)(C)[O-].O=[O+][O-].O=C1CCC([N+](=O)[O-])C(c2ccc(Br)cc2)N1>CO.ClCCl>O=C1CCC(=O)C(c2ccc(Br)cc2)N1"
       ]
      },
      {
       "output_type": "stream",
       "stream": "stdout",
       "text": [
        "\n",
        "  [9.7.89] Nef reaction\n",
        "    [9.7] Other functional group interconversion\n",
        "$$  0.07 s\n",
        "\n",
        "\n",
        "####  Line 244  ####\n",
        "IN :  COc1ccc(cc1)Cn2cc(c(n2)[N+](=O)[O-])[N+](=O)[O-].NN.O>CC(C)O>COc1ccc(cc1)Cn2cc(c(n2)NN)[N+](=O)[O-]\n",
        "  [9.7.91] Nitro to hydrazino\n",
        "OUT:  O.COc1ccc(Cn2cc([N+](=O)[O-])c([N+](=O)[O-])n2)cc1.NN>CC(C)O>COc1ccc(Cn2cc([N+](=O)[O-])c(NN)n2)cc1\n",
        "  [9.7.91] Nitro to hydrazino\n",
        "    [9.7] Other functional group interconversion\n",
        "$$  0.02 s\n",
        "\n",
        "\n",
        "####  Line 245  ####\n",
        "IN :  CCOc1nc(c(n1Cc2ccc(cc2)c3ccccc3C(=O)OC(C)(C)C)C=O)C=C.c1ccncc1.NO.Cl>O>CCOc1nc(c(n1Cc2ccc(cc2)c3ccccc3C(=O)OC(C)(C)C)C=NO)C=C\n",
        "  [9.7.92] Oxo to hydroxyimino\n",
        "OUT:  Cl.C=Cc1nc(OCC)n(Cc2ccc(-c3ccccc3C(=O)OC(C)(C)C)cc2)c1C=O.NO.c1ccncc1>O>C=Cc1nc(OCC)n(Cc2ccc(-c3ccccc3C(=O)OC(C)(C)C)cc2)c1C=NO"
       ]
      },
      {
       "output_type": "stream",
       "stream": "stdout",
       "text": [
        "\n",
        "  [9.7.92] Oxo to hydroxyimino\n",
        "    [9.7] Other functional group interconversion\n",
        "$$  0.07 s\n",
        "\n",
        "\n",
        "####  Line 246  ####\n",
        "IN :  Cn1c2ccccc2nc(c1=O)c3cccs3.COc1ccc(cc1)P2(=S)SP(=S)(S2)c3ccc(cc3)OC>Cc1ccccc1C>Cn1c2ccccc2nc(c1=S)c3cccs3\n",
        "  [9.7.93] Oxo to thioxo\n",
        "OUT:  COc1ccc(P2(=S)SP(=S)(c3ccc(OC)cc3)S2)cc1.Cn1c(=O)c(-c2cccs2)nc2ccccc21>Cc1ccccc1C>Cn1c2ccccc2nc(-c2cccs2)c1=S\n",
        "  [9.7.93] Oxo to thioxo\n",
        "    [9.7] Other functional group interconversion\n",
        "$$  0.03 s\n",
        "\n",
        "\n",
        "####  Line 247  ####\n",
        "IN :  B1(OC(C(O1)(C)C)(C)C)c2ccc(cc2)OC(C)(C)C(C)O[Si](C)(C)C(C)(C)C.[O-]I(=O)(=O)=O.[Na+]>O.Cl>B(c1ccc(cc1)OC(C)(C)C(C)O[Si](C)(C)C(C)(C)C)(O)O\n",
        "  [9.7.94] Pinacolatoboranyl to borono\n",
        "OUT:  \n",
        "  [0.0] Unrecognized\n",
        "    [0] Unassigned\n",
        "$$  0.00 s\n",
        "\n",
        "\n",
        "####  Line 248  ####\n",
        "IN :  CS(=O)(=O)c1ccc(c(c1)Cl)N.C(#N)[Cu].N.O>CN1CCCC1>CS(=O)(=O)c1ccc(c(c1)C#N)N\n",
        "  [9.7.95] Rosenmund van Braun cyanation\n",
        "OUT:  N.O.CS(=O)(=O)c1ccc(N)c(Cl)c1.N#C[Cu]>CN1CCCC1>CS(=O)(=O)c1ccc(N)c(C#N)c1"
       ]
      },
      {
       "output_type": "stream",
       "stream": "stdout",
       "text": [
        "\n",
        "  [9.7.95] Rosenmund van Braun cyanation\n",
        "    [9.7] Other functional group interconversion\n",
        "$$  0.05 s\n",
        "\n",
        "\n",
        "####  Line 249  ####\n",
        "IN :  CC#N.Cc1cc(ccc1[N+]#N)C(=O)C.Cc1cc(ccc1[N+]#N)C(=O)C.[O-]S(=O)(=O)[O-].Br>Cc1ccccc1.[Cu](Br)Br>Cc1cc(ccc1Br)C(=O)C\n",
        "  [9.7.96] Sandmeyer bromination\n",
        "OUT:  Br.CC#N.CC(=O)c1ccc([N+]#N)c(C)c1.CC(=O)c1ccc([N+]#N)c(C)c1.O=S(=O)([O-])[O-]>Cc1ccccc1.Br[Cu]Br>CC(=O)c1ccc(Br)c(C)c1"
       ]
      },
      {
       "output_type": "stream",
       "stream": "stdout",
       "text": [
        "\n",
        "  [9.7.96] Sandmeyer bromination\n",
        "    [9.7] Other functional group interconversion\n",
        "$$  0.07 s\n",
        "\n",
        "\n",
        "####  Line 250  ####\n",
        "IN :  CC(C)C(=O)C(=[N+]=[N-])P(=O)([O-])[O-].C[Si](C)(C)CCOCn1cnc(c1C(=O)NCc2ccc(c(c2F)Oc3cc(cc(c3)C#N)C=O)Cl)Cl.C(=O)([O-])[O-].[K+].[K+]>CCOC(=O)C.CO>C[Si](C)(C)CCOCn1cnc(c1C(=O)NCc2ccc(c(c2F)Oc3cc(cc(c3)C#N)C#C)Cl)Cl\n",
        "  [9.7.100] Seyferth-Gilbert-Bestmann aldehyde reaction\n",
        "OUT:  [K+].[K+].CC(C)C(=O)C(=[N+]=[N-])P(=O)([O-])[O-].C[Si](C)(C)CCOCn1cnc(Cl)c1C(=O)NCc1ccc(Cl)c(Oc2cc(C#N)cc(C=O)c2)c1F.O=C([O-])[O-]>CO.CCOC(C)=O>C#Cc1cc(C#N)cc(Oc2c(Cl)ccc(CNC(=O)c3c(Cl)ncn3COCC[Si](C)(C)C)c2F)c1"
       ]
      },
      {
       "output_type": "stream",
       "stream": "stdout",
       "text": [
        "\n",
        "  [9.7.100] Seyferth-Gilbert-Bestmann aldehyde reaction\n",
        "    [9.7] Other functional group interconversion\n",
        "$$  0.27 s\n",
        "\n",
        "\n",
        "####  Line 251  ####\n",
        "IN :  CC(C)(C)[O-].CC(C)(C)OC(=O)N[C@@H](Cc1ccccc1)C=O.COP(=O)(C=[N+]=[N-])OC.[K+]>C1CCOC1>CC(C)(C)OC(=O)N[C@@H](Cc1ccccc1)C#C\n",
        "  [9.7.101] Seyferth-Gilbert aldehyde reaction\n",
        "OUT:  [K+].COP(=O)(C=[N+]=[N-])OC.CC(C)(C)[O-].CC(C)(C)OC(=O)NC(C=O)Cc1ccccc1>C1CCOC1>C#CC(Cc1ccccc1)NC(=O)OC(C)(C)C"
       ]
      },
      {
       "output_type": "stream",
       "stream": "stdout",
       "text": [
        "\n",
        "  [9.7.101] Seyferth-Gilbert aldehyde reaction\n",
        "    [9.7] Other functional group interconversion\n",
        "$$  0.08 s\n",
        "\n",
        "\n",
        "####  Line 252  ####\n",
        "IN :  COc1c(cccc1Br)CN=[N+]=[N-].c1ccc(cc1)P(c2ccccc2)c3ccccc3.[OH-].[K+]>C1CCOC1.O>COc1c(cccc1Br)CN\n",
        "  [9.7.102] Staudinger reduction\n",
        "OUT:  [OH-].[K+].COc1c(Br)cccc1CN=[N+]=[N-].c1ccc(P(c2ccccc2)c2ccccc2)cc1>O.C1CCOC1>COc1c(Br)cccc1CN\n",
        "  [9.7.102] Staudinger reduction\n",
        "    [9.7] Other functional group interconversion\n",
        "$$  0.02 s\n",
        "\n",
        "\n",
        "####  Line 253  ####\n",
        "IN :  B1OC(C(O1)(C)C)(C)C.CCN(CC)CC.C[Si](C)(C)CCOCn1c2cccnc2n(c1=O)c3ccc(cc3)OS(=O)(=O)C(F)(F)F>C1CCOC1>B1(OC(C(O1)(C)C)(C)C)c2ccc(cc2)n3c4c(cccn4)n(c3=O)COCC[Si](C)(C)C\n",
        "  [9.7.104] Triflyloxy to pinacolatoboranyl\n",
        "OUT:  CCN(CC)CC.CC1(C)OBOC1(C)C.C[Si](C)(C)CCOCn1c2cccnc2n(-c2ccc(OS(=O)(=O)C(F)(F)F)cc2)c1=O>C1CCOC1>CC1(C)OB(c2ccc(-n3c4ncccc4n(COCC[Si](C)(C)C)c3=O)cc2)OC1(C)C"
       ]
      },
      {
       "output_type": "stream",
       "stream": "stdout",
       "text": [
        "\n",
        "  [9.7.104] Triflyloxy to pinacolatoboranyl\n",
        "    [9.7] Other functional group interconversion\n",
        "$$  0.53 s\n",
        "\n",
        "\n",
        "####  Line 254  ####\n",
        "IN :  CC(=O)O.c1c(cc(c(c1Br)O)Br)C#N.N(=O)[O-].O.[Na+]>CCOC(=O)C>c1c(cc(c(c1[N+](=O)[O-])O)Br)C#N\n",
        "  [9.7.105] Zincke nitration\n",
        "OUT:  O.[Na+].CC(=O)O.N#Cc1cc(Br)c(O)c(Br)c1.O=N[O-]>CCOC(C)=O>N#Cc1cc(Br)c(O)c([N+](=O)[O-])c1\n",
        "  [9.7.105] Zincke nitration\n",
        "    [9.7] Other functional group interconversion\n",
        "$$  0.05 s\n",
        "\n",
        "\n",
        "####  Line 255  ####\n",
        "IN :  Cc1cccc(c1N)OCc2ccccc2.BrBr>CC(=O)O.CO>Cc1cc(cc(c1N)OCc2ccccc2)Br\n",
        "  [10.1.1] Bromination\n",
        "OUT:  Cc1cccc(OCc2ccccc2)c1N.BrBr>CO.CC(=O)O>Cc1cc(Br)cc(OCc2ccccc2)c1N"
       ]
      },
      {
       "output_type": "stream",
       "stream": "stdout",
       "text": [
        "\n",
        "  [10.1.1] Bromination\n",
        "    [10.1] Halogenation\n",
        "$$  0.14 s\n",
        "\n",
        "\n",
        "####  Line 256  ####\n",
        "IN :  Cc1ccnc(n1)Cl.c1ccc(cc1)C(=O)OOC(=O)c2ccccc2.C1CC(=O)N(C1=O)Cl>C(Cl)(Cl)(Cl)Cl>c1cnc(nc1CCl)Cl\n",
        "  [10.1.2] Chlorination\n",
        "OUT:  Cc1ccnc(Cl)n1.O=C(OOC(=O)c1ccccc1)c1ccccc1.O=C1CCC(=O)N1Cl>ClC(Cl)(Cl)Cl>ClCc1ccnc(Cl)n1"
       ]
      },
      {
       "output_type": "stream",
       "stream": "stdout",
       "text": [
        "\n",
        "  [10.1.2] Chlorination\n",
        "    [10.1] Halogenation\n",
        "$$  0.27 s\n",
        "\n",
        "\n",
        "####  Line 257  ####\n",
        "IN :  [Li]CCCC.Cn1cnc2c1nc(nc2N3CCOCC3)Cl.CN(C)CCN(C)C.C(CI)Cl>C1CCOC1>Cn1c2c(c(nc(n2)Cl)N3CCOCC3)nc1I\n",
        "  [10.1.4] Iodination\n",
        "OUT:  [Li]CCCC.CN(C)CCN(C)C.Cn1cnc2c1nc(Cl)nc2N1CCOCC1.ClCCI>C1CCOC1>Cn1c(I)nc2c1nc(Cl)nc2N1CCOCC1"
       ]
      },
      {
       "output_type": "stream",
       "stream": "stdout",
       "text": [
        "\n",
        "  [10.1.4] Iodination\n",
        "    [10.1] Halogenation\n",
        "$$  0.37 s\n",
        "\n",
        "\n",
        "####  Line 258  ####\n",
        "IN :  Cc1ccc(c(c1)OC(=O)c2ccccc2)F.c1ccc(cc1)C(=O)OOC(=O)c2ccccc2.C1CC(=O)N(C1=O)Br.O>CCOCC.C(Cl)(Cl)(Cl)Cl>c1ccc(cc1)C(=O)Oc2cc(ccc2F)CBr\n",
        "  [10.1.5] Wohl-Ziegler bromination\n",
        "OUT:  O.Cc1ccc(F)c(OC(=O)c2ccccc2)c1.O=C(OOC(=O)c1ccccc1)c1ccccc1.O=C1CCC(=O)N1Br>CCOCC.ClC(Cl)(Cl)Cl>O=C(Oc1cc(CBr)ccc1F)c1ccccc1"
       ]
      },
      {
       "output_type": "stream",
       "stream": "stdout",
       "text": [
        "\n",
        "  [10.1.5] Wohl-Ziegler bromination\n",
        "    [10.1] Halogenation\n",
        "$$  0.13 s\n",
        "\n",
        "\n",
        "####  Line 259  ####\n",
        "IN :  COc1ccc(c(c1)C(=O)OC)O.[N+](=O)(O)[O-]>CC(=O)O>COc1cc(c(c(c1)[N+](=O)[O-])O)C(=O)OC\n",
        "  [10.2] Nitration\n",
        "OUT:  COC(=O)c1cc(OC)ccc1O.O=[N+]([O-])O>CC(=O)O>COC(=O)c1cc(OC)cc([N+](=O)[O-])c1O"
       ]
      },
      {
       "output_type": "stream",
       "stream": "stdout",
       "text": [
        "\n",
        "  [10.2.1] Nitration\n",
        "    [10.2] Nitration\n",
        "$$  0.11 s\n",
        "\n",
        "\n",
        "####  Line 260  ####\n",
        "IN :  C[Si](C)(C)OS(=O)(=O)Cl.c1ccc(c(c1)C(F)(F)F)OC2CCN(CC2)c3nccs3>CCOCC.C1CCOC1>c1ccc(c(c1)C(F)(F)F)OC2CCN(CC2)c3ncc(s3)S(=O)(=O)O\n",
        "  [10.3.1] Sulfonation\n",
        "OUT:  C[Si](C)(C)OS(=O)(=O)Cl.FC(F)(F)c1ccccc1OC1CCN(c2nccs2)CC1>CCOCC.C1CCOC1>O=S(=O)(O)c1cnc(N2CCC(Oc3ccccc3C(F)(F)F)CC2)s1"
       ]
      },
      {
       "output_type": "stream",
       "stream": "stdout",
       "text": [
        "\n",
        "  [10.3.1] Sulfonation\n",
        "    [10.3] Sulfonation\n",
        "$$  0.55 s\n",
        "\n",
        "\n",
        "####  Line 261  ####\n",
        "IN :  Cc1[nH]ccn1.C(=O)([O-])[O-].OS(=O)(=O)Cl.[Na+].[Na+]>O=S(Cl)Cl>Cc1[nH]cc(n1)S(=O)(=O)Cl\n",
        "  [10.3.2] Chlorosulfonation\n",
        "OUT:  [Na+].[Na+].Cc1ncc[nH]1.O=C([O-])[O-].O=S(=O)(O)Cl>O=S(Cl)Cl>Cc1nc(S(=O)(=O)Cl)c[nH]1"
       ]
      },
      {
       "output_type": "stream",
       "stream": "stdout",
       "text": [
        "\n",
        "  [10.3.2] Chlorosulfonation\n",
        "    [10.3] Sulfonation\n",
        "$$  0.10 s\n",
        "\n",
        "\n",
        "####  Line 262  ####\n",
        "IN :  Cc1cc(c(cc1SCC(F)(F)F)n2c(cc(n2)OCC(C(C(F)(F)F)(F)F)(F)F)N)F.CC(=O)OC(=O)C>C(=O)O>Cc1cc(c(cc1SCC(F)(F)F)n2c(cc(n2)OCC(C(C(F)(F)F)(F)F)(F)F)NC=O)F\n",
        "  [10.4.1] Formylation\n",
        "OUT:  CC(=O)OC(C)=O.Cc1cc(F)c(-n2nc(OCC(F)(F)C(F)(F)C(F)(F)F)cc2N)cc1SCC(F)(F)F>O=CO>Cc1cc(F)c(-n2nc(OCC(F)(F)C(F)(F)C(F)(F)F)cc2NC=O)cc1SCC(F)(F)F"
       ]
      },
      {
       "output_type": "stream",
       "stream": "stdout",
       "text": [
        "\n",
        "  [10.4.1] Formylation\n",
        "    [10.4] Other functional group addition\n",
        "$$  0.90 s\n",
        "\n",
        "\n",
        "####  Line 263  ####\n",
        "IN :  [H-].CI.c1cc(c(cc1S)Cl)Br.[Na+]>C1CCOC1>CSc1ccc(c(c1)Cl)Br\n",
        "  [10.4.2] Methylation\n",
        "OUT:  [H-].[Na+].CI.Sc1ccc(Br)c(Cl)c1>C1CCOC1>CSc1ccc(Br)c(Cl)c1"
       ]
      },
      {
       "output_type": "stream",
       "stream": "stdout",
       "text": [
        "\n",
        "  [10.4.2] Methylation\n",
        "    [10.4] Other functional group addition\n",
        "$$  0.13 s\n",
        "\n",
        "\n",
        "####  Line 264  ####\n",
        "IN :  [BH4-].C[C@@H](C1(CN(C1)C(=O)c2ccc(c(c2Nc3ccc(cc3F)I)F)F)O)N.C=O.[Na+]>CO>C[C@@H](C1(CN(C1)C(=O)c2ccc(c(c2Nc3ccc(cc3F)I)F)F)O)NC\n",
        "  [10.4.2] Methylation\n",
        "OUT:  [BH4-].[Na+].C=O.CC(N)C1(O)CN(C(=O)c2ccc(F)c(F)c2Nc2ccc(I)cc2F)C1>CO>CNC(C)C1(O)CN(C(=O)c2ccc(F)c(F)c2Nc2ccc(I)cc2F)C1"
       ]
      },
      {
       "output_type": "stream",
       "stream": "stdout",
       "text": [
        "\n",
        "  [10.4.2] Methylation\n",
        "    [10.4] Other functional group addition\n",
        "$$  0.92 s\n",
        "\n",
        "\n",
        "####  Line 265  ####\n",
        "IN :  CN(C)c1c2c(nc(n1)Nc3ccc(c(c3)OC)n4cc(nc4)Cl)C(CCC2)c5ccc(cc5)F>CO.C(=O)=O>CN(C)c1c2c(nc(n1)Nc3ccc(c(c3)OC)n4cc(nc4)Cl)[C@H](CCC2)c5ccc(cc5)F\n",
        "  [11.3] Chiral separation\n",
        "OUT:  COc1cc(Nc2nc3c(c(N(C)C)n2)CCCC3c2ccc(F)cc2)ccc1-n1cnc(Cl)c1>CO.O=C=O>COc1cc(Nc2nc3c(c(N(C)C)n2)CCCC3c2ccc(F)cc2)ccc1-n1cnc(Cl)c1\n",
        "  [11.9] Separation\n",
        "    [11] Resolution\n",
        "$$  0.03 s\n",
        "\n",
        "\n"
       ]
      }
     ],
     "prompt_number": 27
    }
   ],
   "metadata": {}
  }
 ]
}